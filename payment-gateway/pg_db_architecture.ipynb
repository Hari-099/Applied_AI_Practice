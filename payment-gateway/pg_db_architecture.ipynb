{
 "cells": [
  {
   "cell_type": "markdown",
   "id": "8aec2ea7-f6b2-40cc-bbe9-ead2272ff084",
   "metadata": {},
   "source": [
    "# PostGreSQL - Smarttrak DB Structure"
   ]
  },
  {
   "cell_type": "code",
   "execution_count": null,
   "id": "7a4dd73f-944a-4b32-b500-3a72c9b48bff",
   "metadata": {},
   "outputs": [],
   "source": [
    "Smarttrak-postgres-server (Server/Cluster)\n",
    "│\n",
    "├── st_payment_gateway (Database)\n",
    "│   ├── smart_pay (Schema)\n",
    "│   │   ├── employees (Table)\n",
    "│   │   ├── transactions (Table)\n",
    "│   │   └── orders (Table)\n",
    "│   └── myschema2 (Schema)\n",
    "│       ├── products (Table)\n",
    "│       └── customers (Table)\n",
    "│\n",
    "├── mydatabase2 (Database)\n",
    "│   ├── public (Schema)\n",
    "│   │   ├── users (Table)\n",
    "│   │   └── roles (Table)\n",
    "│   └── logs (Schema)\n",
    "│       ├── access_logs (Table)\n",
    "│       └── error_logs (Table)\n",
    "│\n",
    "└── mydatabase3 (Database)\n",
    "    ├── finance (Schema)\n",
    "    │   ├── budgets (Table)\n",
    "    │   ├── expenses (Table)\n",
    "    │   └── income (Table)\n",
    "    └── hr (Schema)\n",
    "        ├── employees (Table)\n",
    "        ├── departments (Table)\n",
    "        └── payroll (Table)\n"
   ]
  },
  {
   "cell_type": "markdown",
   "id": "94d2ad29-7d18-4f4a-bc6f-ed44faec0d39",
   "metadata": {},
   "source": [
    "### DB Name and Schema name"
   ]
  },
  {
   "cell_type": "markdown",
   "id": "f23964ef-5617-41ca-9450-d1732367464d",
   "metadata": {},
   "source": [
    "db_name = `st_payment_gateway`\n",
    "schema_name = `smart_pay`"
   ]
  },
  {
   "cell_type": "code",
   "execution_count": null,
   "id": "430a03f0-8c34-43e4-bfc6-e6a860e66fa9",
   "metadata": {},
   "outputs": [],
   "source": []
  }
 ],
 "metadata": {
  "kernelspec": {
   "display_name": "Python 3 (ipykernel)",
   "language": "python",
   "name": "python3"
  },
  "language_info": {
   "codemirror_mode": {
    "name": "ipython",
    "version": 3
   },
   "file_extension": ".py",
   "mimetype": "text/x-python",
   "name": "python",
   "nbconvert_exporter": "python",
   "pygments_lexer": "ipython3",
   "version": "3.12.4"
  }
 },
 "nbformat": 4,
 "nbformat_minor": 5
}
