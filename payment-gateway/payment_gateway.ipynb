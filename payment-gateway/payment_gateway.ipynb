{
 "cells": [
  {
   "cell_type": "markdown",
   "id": "cc38d0e2-6429-4a90-a82c-c481a57e0594",
   "metadata": {},
   "source": [
    "# Payment Gateway"
   ]
  },
  {
   "cell_type": "markdown",
   "id": "2ebc046d-b8c3-406d-b1e2-bdb2a558ba70",
   "metadata": {},
   "source": [
    "Designing a robust payment gateway involves several critical components, from understanding the high-level architecture to choosing the right payment providers and implementing secure, maintainable code. Below, I'll address each of your requirements in detail:"
   ]
  },
  {
   "cell_type": "markdown",
   "id": "11d7313b-e6e4-4f9f-983f-67f6814532e5",
   "metadata": {},
   "source": [
    "## TOC:\n",
    "* [1. Identify Location based on payment](#find-location-while-pay)\n",
    "* [2. Database Schema](#db_schema)\n",
    "* [3. ER Diagram](#er_diagram)\n",
    "* [3. High-Level Flow Diagram for Payment Gateway with Razorpay and Stripe](#high-level-design)\n",
    "* [4. UPI integration](#upi_integration)"
   ]
  },
  {
   "cell_type": "markdown",
   "id": "5ce59ee5-89f0-492c-b174-4c47f4160009",
   "metadata": {},
   "source": [
    "## 1. Identify Location based on payment <a class=\"anchor\" id=\"find-location-while-pay\">"
   ]
  },
  {
   "cell_type": "markdown",
   "id": "522c3c7f-ba45-4af1-a32e-a1743393ee6b",
   "metadata": {},
   "source": [
    "To determine the country of a user when they make a payment from a website, you can use various methods and libraries in Python. Here are some approaches:\n",
    "\n",
    "### 1. IP Geolocation Services\n",
    "<b>IP Geolocation API:</b> You can use a geolocation service that provides an API to map the user's IP address to their location, including the country.\n",
    "\n",
    "<b>Libraries:</b><br>\n",
    "<b>GeoIP2 (MaxMind):</b><br>\n",
    "This library can be used with MaxMind’s GeoIP2 databases or web services.<br>\n",
    "<b>ipinfo:</b><br>\n",
    "A simple API service that provides IP geolocation data. You can use their Python library to easily fetch the country.<br>\n",
    "<b>ipstack:</b><br>\n",
    "Another API service that provides detailed location data based on the IP address.<br>\n",
    "<b>geocoder:</b><br>\n",
    "A Python library that supports multiple geocoding services, including IP geolocation."
   ]
  },
  {
   "cell_type": "markdown",
   "id": "83617b68-7b38-470d-b1ec-184cd46ebb9b",
   "metadata": {},
   "source": [
    "### 2. Payment Gateway APIs\n",
    "<b>Stripe:</b><br>\n",
    "Stripe’s API can provide the country of the cardholder based on the card’s BIN (Bank Identification Number).<br>\n",
    "<b>Razorpay:</b><br>\n",
    "Razorpay might also provide country information in the payment details or metadata, depending on their API implementation.<br>\n",
    "<b>PayPal:</b><br>\n",
    "PayPal's API includes the country in the billing information of the user."
   ]
  },
  {
   "cell_type": "markdown",
   "id": "ca2d8ef9-5703-4c92-a871-a53d77dfd95e",
   "metadata": {},
   "source": [
    "### 3. Custom User Input\n",
    "You can also ask the user to select their country during checkout and store this information in your system.\n",
    "\n",
    "### Example using GeoIP2:"
   ]
  },
  {
   "cell_type": "code",
   "execution_count": null,
   "id": "7f1a0921-9b7c-4b2b-9128-3836b7cb1676",
   "metadata": {},
   "outputs": [],
   "source": [
    "import geoip2.database\n",
    "\n",
    "# Load the GeoLite2 Country database (you can download this from MaxMind)\n",
    "reader = geoip2.database.Reader('/path/to/GeoLite2-Country.mmdb')\n",
    "\n",
    "def get_country_from_ip(ip_address):\n",
    "    response = reader.country(ip_address)\n",
    "    return response.country.name, response.country.iso_code\n",
    "\n",
    "# Example IP address\n",
    "ip_address = '128.101.101.101'\n",
    "country_name, country_code = get_country_from_ip(ip_address)\n",
    "print(f'Country: {country_name}, Code: {country_code}')\n"
   ]
  },
  {
   "cell_type": "markdown",
   "id": "7bd8ae6d-0eca-4bae-9c08-60219ef977b9",
   "metadata": {},
   "source": [
    "### Example using ipinfo:"
   ]
  },
  {
   "cell_type": "code",
   "execution_count": null,
   "id": "49580303-dae9-4a7d-bf54-577c284fd85a",
   "metadata": {},
   "outputs": [],
   "source": [
    "import ipinfo\n",
    "\n",
    "access_token = 'your_ipinfo_access_token'\n",
    "handler = ipinfo.getHandler(access_token)\n",
    "\n",
    "def get_country_from_ip(ip_address):\n",
    "    details = handler.getDetails(ip_address)\n",
    "    return details.country, details.country_name\n",
    "\n",
    "# Example IP address\n",
    "ip_address = '128.101.101.101'\n",
    "country_code, country_name = get_country_from_ip(ip_address)\n",
    "print(f'Country: {country_name}, Code: {country_code}')\n"
   ]
  },
  {
   "cell_type": "markdown",
   "id": "c494cbba-dbec-41c8-b76d-10c25f15ab4d",
   "metadata": {},
   "source": [
    "# DataBase Schema <a class=\"anchor\" id=\"db_schema\">"
   ]
  },
  {
   "cell_type": "markdown",
   "id": "00ca5b6e-fb3d-4773-92f1-9b860accb87a",
   "metadata": {},
   "source": [
    "## 1. Number of Tables\n",
    "The number of tables can vary depending on the complexity of the system, but a typical setup might include the following:\n",
    "\n",
    "<b>Users Table:</b><br> Stores user-related information.<br>\n",
    "<b>Payment Methods Table:</b><br> Stores different payment methods used by users.<br>\n",
    "<b>Transactions Table:</b><br> Records each payment transaction.<br>\n",
    "<b>Currencies Table:</b><br> Stores currency details.<br>\n",
    "<b>Payment Status Table:</b><br> Tracks the status of each payment.<br>\n",
    "<b>Payment Gateway Table:</b><br> Contains details about the payment gateway (e.g., Stripe, Razorpay).<br>\n",
    "<b>Order Table:</b><br> Links payments to orders.<br>\n",
    "<b>Audit Logs Table:</b><br> Stores logs for tracking changes or operations related to payments.<br>\n",
    "<b>Country Table:</b><br> Stores country details to link with transactions or users.<br>\n",
    "<b>Product Table:</b><br> If relevant, stores product information related to the transaction."
   ]
  },
  {
   "cell_type": "markdown",
   "id": "751a6fa3-c488-4e47-a73b-5226a81ad696",
   "metadata": {},
   "source": [
    "## 2. Table Structures and Useful Information\n",
    "<h3>Users Table</h3>"
   ]
  },
  {
   "cell_type": "code",
   "execution_count": null,
   "id": "a0136995-4666-405f-8900-8b1c7dd2882e",
   "metadata": {},
   "outputs": [],
   "source": [
    "CREATE TABLE Users (\n",
    "    user_id SERIAL PRIMARY KEY,\n",
    "    username VARCHAR(100) UNIQUE NOT NULL,\n",
    "    email VARCHAR(255) UNIQUE NOT NULL,\n",
    "    created_at TIMESTAMP NOT NULL DEFAULT CURRENT_TIMESTAMP,\n",
    "    updated_at TIMESTAMP NULL\n",
    ");\n"
   ]
  },
  {
   "cell_type": "markdown",
   "id": "d8cc2935-ffb9-4125-9a1f-0c754c420f0f",
   "metadata": {},
   "source": [
    "<h3>Payment Methods Table</h3>"
   ]
  },
  {
   "cell_type": "code",
   "execution_count": null,
   "id": "7c63bd31-1ce9-4b9c-9110-c27e077437f4",
   "metadata": {},
   "outputs": [],
   "source": [
    "CREATE TABLE PaymentMethods (\n",
    "    method_id SERIAL PRIMARY KEY,\n",
    "    method_name VARCHAR(50) NOT NULL,\n",
    "    method_details JSONB NOT NULL\n",
    ");\n"
   ]
  },
  {
   "cell_type": "markdown",
   "id": "5ef8b676-af69-4da2-9d8f-2b8121d9927a",
   "metadata": {},
   "source": [
    "<h3>Transactions Table</h3>"
   ]
  },
  {
   "cell_type": "code",
   "execution_count": null,
   "id": "cbb97757-5fcb-486f-8ca0-0ce8b6f7c8e2",
   "metadata": {},
   "outputs": [],
   "source": [
    "CREATE TABLE Transactions (\n",
    "    transaction_id SERIAL PRIMARY KEY,\n",
    "    user_id INT NOT NULL REFERENCES Users(user_id),\n",
    "    order_id INT NOT NULL REFERENCES Orders(order_id),\n",
    "    method_id INT NOT NULL REFERENCES PaymentMethods(method_id),\n",
    "    amount DECIMAL(10, 2) NOT NULL,\n",
    "    currency_code CHAR(3) NOT NULL REFERENCES Currencies(currency_code),\n",
    "    status_id INT NOT NULL REFERENCES PaymentStatus(status_id),\n",
    "    transaction_date TIMESTAMP NOT NULL DEFAULT CURRENT_TIMESTAMP,\n",
    "    gateway_id INT NOT NULL REFERENCES PaymentGateway(gateway_id),\n",
    "    country_id INT NOT NULL REFERENCES Country(country_id),\n",
    "    created_at TIMESTAMP NOT NULL DEFAULT CURRENT_TIMESTAMP,\n",
    "    updated_at TIMESTAMP NULL\n",
    ");\n"
   ]
  },
  {
   "cell_type": "markdown",
   "id": "6bd68b74-c118-496e-90cc-a208820a7cda",
   "metadata": {},
   "source": [
    "<h3>Currencies Table</h3>"
   ]
  },
  {
   "cell_type": "code",
   "execution_count": null,
   "id": "a0f9edde-27ed-49f4-a47a-6cc67fe2fd2e",
   "metadata": {},
   "outputs": [],
   "source": [
    "CREATE TABLE Currencies (\n",
    "    currency_code CHAR(3) PRIMARY KEY,\n",
    "    currency_name VARCHAR(50) NOT NULL,\n",
    "    symbol VARCHAR(5) NOT NULL\n",
    ");\n"
   ]
  },
  {
   "cell_type": "markdown",
   "id": "bd56c0fa-aa5b-4689-893b-3fe5c272ab91",
   "metadata": {},
   "source": [
    "<h3>Payment Status Table</h3>"
   ]
  },
  {
   "cell_type": "code",
   "execution_count": null,
   "id": "4cbda325-b9ae-424d-821d-f4f36fc620c8",
   "metadata": {},
   "outputs": [],
   "source": [
    "CREATE TABLE PaymentStatus (\n",
    "    status_id SERIAL PRIMARY KEY,\n",
    "    status_name VARCHAR(50) UNIQUE NOT NULL,\n",
    "    description TEXT\n",
    ");\n"
   ]
  },
  {
   "cell_type": "markdown",
   "id": "b1795313-3766-4a73-8fc5-7a41f54e3f6a",
   "metadata": {},
   "source": [
    "### Status Values\n",
    "<h3>Successful:</h3> The payment is in the range between PIN_PYMT_SUCCESS and PIN_PYMT_SUSPENSE.<br>\n",
    "<h3>Suspended:</h3> The payment is in the range between PIN_PYMT_SUSPENSE and PIN_PYMT_FAILED.<br>\n",
    "<h3>Failed:</h3> The payment is in the range between PIN_PYMT_FAILED and PIN_PYMT_STATUS_MAX.\n",
    "\n",
    "\n",
    "### Descriptions\n",
    "<h3>Positive:</h3> Payments that are received, accepted, or accepted with change, irrespective of their numeric range.<br>\n",
    "<h3>Pending:</h3> Payments awaiting further processing, irrespective of their numeric range.<br>\n",
    "<h3>Negative:</h3> Payments that have been rejected, irrespective of their numeric range.<br>\n",
    "<h3>Positive and Negative:</h3> Indicates partial acceptance, showing a combination of both positive and negative aspects.<br>\n",
    "<h3>Paid:</h3> Payments completed successfully.<br>\n",
    "<h3>Unpaid:</h3> Payments processed with errors or incompleteness.<br>\n",
    "<h3>Void:</h3> Payments marked as void but eligible for reissue.<br>\n",
    "<h3>Canceled:</h3> Payments or items canceled and no longer valid.<br>\n",
    "This table should provide a comprehensive overview of the payment statuses, including their values, numeric ranges, and descriptions."
   ]
  },
  {
   "cell_type": "markdown",
   "id": "c1147cf8-3d3d-4b1f-82a8-040c896b4c74",
   "metadata": {},
   "source": [
    "<h3>Payment Gateway Table</h3>"
   ]
  },
  {
   "cell_type": "code",
   "execution_count": null,
   "id": "bd18f99c-98a1-4a9d-bdd3-a5987f4a905c",
   "metadata": {},
   "outputs": [],
   "source": [
    "CREATE TABLE PaymentGateway (\n",
    "    gateway_id SERIAL PRIMARY KEY,\n",
    "    gateway_name VARCHAR(100) UNIQUE NOT NULL,\n",
    "    gateway_details JSONB NOT NULL\n",
    ");\n"
   ]
  },
  {
   "cell_type": "markdown",
   "id": "f9496b65-0cbe-4b73-b8a7-ac6077d16fa9",
   "metadata": {},
   "source": [
    "<h3>Order Table</h3>"
   ]
  },
  {
   "cell_type": "code",
   "execution_count": null,
   "id": "bbea1b21-b8c6-40e0-a64b-4fc65083e165",
   "metadata": {},
   "outputs": [],
   "source": [
    "CREATE TABLE Orders (\n",
    "    order_id SERIAL PRIMARY KEY,\n",
    "    user_id INT NOT NULL REFERENCES Users(user_id),\n",
    "    order_date TIMESTAMP NOT NULL DEFAULT CURRENT_TIMESTAMP,\n",
    "    total_amount DECIMAL(10, 2) NOT NULL,\n",
    "    currency_code CHAR(3) NOT NULL REFERENCES Currencies(currency_code),\n",
    "    status_id INT NOT NULL REFERENCES PaymentStatus(status_id)\n",
    ");\n"
   ]
  },
  {
   "cell_type": "markdown",
   "id": "d3765bf8-a71b-4866-9b35-28714f1c39c2",
   "metadata": {},
   "source": [
    "<h3>Audit Logs Table</h3>"
   ]
  },
  {
   "cell_type": "code",
   "execution_count": null,
   "id": "b19ee74e-e01d-487a-b643-1ce9c1aaf401",
   "metadata": {},
   "outputs": [],
   "source": [
    "CREATE TABLE AuditLogs (\n",
    "    log_id SERIAL PRIMARY KEY,\n",
    "    table_name VARCHAR(50) NOT NULL,\n",
    "    operation_type VARCHAR(10) NOT NULL,\n",
    "    operation_time TIMESTAMP NOT NULL DEFAULT CURRENT_TIMESTAMP,\n",
    "    old_data JSONB,\n",
    "    new_data JSONB,\n",
    "    user_id INT NOT NULL REFERENCES Users(user_id)\n",
    ");\n"
   ]
  },
  {
   "cell_type": "markdown",
   "id": "398f935e-7059-4d9c-98b4-604ca5d929de",
   "metadata": {},
   "source": [
    "<h3>Country Table</h3>"
   ]
  },
  {
   "cell_type": "code",
   "execution_count": null,
   "id": "1b031a2d-a051-4ea0-8b7b-d281b3bba591",
   "metadata": {},
   "outputs": [],
   "source": [
    "CREATE TABLE Country (\n",
    "    country_id SERIAL PRIMARY KEY,\n",
    "    country_name VARCHAR(100) NOT NULL,\n",
    "    country_code CHAR(2) NOT NULL UNIQUE\n",
    ");\n"
   ]
  },
  {
   "cell_type": "code",
   "execution_count": null,
   "id": "ff42e8cb-d822-4fce-9dbd-6192a9ffb6f3",
   "metadata": {},
   "outputs": [],
   "source": [
    "# list of tables create in postgreSQL\n",
    "\n",
    "SMART_PAY_USERS\n",
    "SMART_PAY_ORDERS\n",
    "SMART_PAY_PAYMENT_METHODS\n",
    "SMART_PAY_AUDIT_LOGS\n",
    "SMART_PAY_TRANSACTIONS\n",
    "SMART_PAY_CURRENCIES\n",
    "SMART_PAY_PAYMENT_STATUS\n",
    "SMART_PAY_PAYMENT_GATEWAY\n",
    "SMART_PAY_COUNTRY"
   ]
  },
  {
   "cell_type": "markdown",
   "id": "8192ed02-70b9-435d-9e69-16434cbfec80",
   "metadata": {},
   "source": [
    "# ER Diagram<a class=\"anchor\" id=\"er_diagram\"></a>"
   ]
  },
  {
   "cell_type": "markdown",
   "id": "37e0b802-28d0-419e-80ba-51635a595620",
   "metadata": {},
   "source": [
    "To create an ER (Entity-Relationship) diagram based on the above table structure, the diagram would include the following entities and their relationships:\n",
    "\n",
    "### Entities:\n",
    "Users<br>\n",
    "Payment Methods<br>\n",
    "Transactions<br>\n",
    "Currencies<br>\n",
    "Payment Status<br>\n",
    "Payment Gateway<br>\n",
    "Orders<br>\n",
    "Audit Logs<br>\n",
    "Country<br>\n",
    "\n",
    "### Relationships:\n",
    "`Users` are related to `Transactions` and `Orders` (One-to-Many).<br>\n",
    "`Payment Methods` are related to `Transactions` (One-to-Many).<br>\n",
    "`Transactions` are related to `Currencies`, `Payment Status`, `Payment Gateway`, and `Country` (Many-to-One).<br>\n",
    "`Orders` are related to `Transactions` (One-to-Many).<br>\n",
    "`Audit Logs` are related to `Users` (Many-to-One).<br>\n",
    "\n",
    "### ER Diagram Components:\n",
    "\n",
    "`Entities`: Represented by rectangles.\n",
    "`Attributes`: Represented by ovals connected to their respective entities.\n",
    "`Relationships`: Represented by diamonds connecting the entities."
   ]
  },
  {
   "cell_type": "markdown",
   "id": "8fe4c2ce-0b2f-4664-b853-a315889ff616",
   "metadata": {},
   "source": [
    "<img src=\"smart-pay-er-diagram.PNG\" alt=\"Girl in a jacket\" width=\"900\" height=\"900\">"
   ]
  },
  {
   "cell_type": "markdown",
   "id": "b1e2a112-45f8-4e75-b659-78b085b94bc6",
   "metadata": {},
   "source": [
    "## 2. High-Level Flow Diagram for Payment Gateway with Razorpay and Stripe <a class=\"anchor\" id=\"high-level-design\"></a>\n",
    "Here's a high-level overview of how a payment gateway can integrate both Razorpay and Stripe to handle payments in India (INR) and USD:"
   ]
  },
  {
   "cell_type": "code",
   "execution_count": null,
   "id": "61eb6ad9-bcf5-4648-bb1d-bdb7159bf75e",
   "metadata": {},
   "outputs": [],
   "source": [
    "+----------------+          +-------------------+          +----------------+\n",
    "|                |          |                   |          |                |\n",
    "|  User/Client   | <------> |  Your Application | <------> | Payment Gateway|\n",
    "|                |          |                   |          |  (Razorpay &   |\n",
    "+----------------+          +-------------------+          |    Stripe)     |\n",
    "                                                              +-------+--------+\n",
    "                                                                      |\n",
    "                                                                      |\n",
    "                                                                      v\n",
    "                                                              +-------+--------+\n",
    "                                                              |                |\n",
    "                                                              |  Payment APIs  |\n",
    "                                                              | (Razorpay API, |\n",
    "                                                              |  Stripe API)   |\n",
    "                                                              +-------+--------+\n",
    "                                                                      |\n",
    "                                                                      |\n",
    "                                                                      v\n",
    "                                                              +-------+--------+\n",
    "                                                              |                |\n",
    "                                                              |   Payment       |\n",
    "                                                              |   Processing    |\n",
    "                                                              | (Banks, Cards,  |\n",
    "                                                              |  Wallets, etc.) |\n",
    "                                                              +-----------------+\n"
   ]
  },
  {
   "cell_type": "markdown",
   "id": "4f1a29ab-94ba-4c77-b5b7-aa19820c5a8b",
   "metadata": {},
   "source": [
    "## Flow Steps:\n",
    "\n",
    "### User Interaction:\n",
    "\n",
    "The user initiates a payment from your application (e.g., e-commerce checkout).\n",
    "### Your Application:\n",
    "\n",
    "The application captures payment details and decides whether to use Razorpay or Stripe based on criteria like currency (INR/USD), user location, etc.\n",
    "### Payment Gateway Integration:\n",
    "\n",
    "The application communicates with the selected payment provider's API (Razorpay or Stripe) to process the payment.\n",
    "### Payment Processing:\n",
    "\n",
    "The payment provider handles the transaction with banks, card networks, wallets, etc., and returns the transaction status to your application.\n",
    "Confirmation:\n",
    "\n",
    "Your application updates the user with the payment status and proceeds accordingly (e.g., order confirmation)."
   ]
  },
  {
   "cell_type": "markdown",
   "id": "9412f2f4-1b55-4349-b552-56239f37f5a1",
   "metadata": {},
   "source": [
    "## 2. Razorpay vs. Stripe: Best Payment Gateway for India and USD Payments\n",
    "When choosing between Razorpay and Stripe for handling payments in India and USD, consider the following factors:\n",
    "\n",
    "### Razorpay\n",
    "### Pros:\n",
    "\n",
    "### Local Focus:\n",
    "Tailored for the Indian market with extensive support for INR transactions.\n",
    "Payment Methods: Supports a wide range of Indian payment methods like UPI, NetBanking, wallets (e.g., Paytm, PhonePe), and credit/debit cards.\n",
    "Ease of Integration: Comprehensive documentation and plugins for popular platforms.\n",
    "Regulatory Compliance: Compliant with Indian financial regulations, which can simplify legal aspects.\n",
    "Customer Support: Strong support for Indian businesses with localized assistance.\n",
    "### Cons:\n",
    "\n",
    "### International Support: \n",
    "While Razorpay has expanded internationally, its primary strength lies in the Indian market.\n",
    "Currency Support: Limited support for currencies outside India, though it does handle some international transactions.\n",
    "Stripe\n",
    "Pros:\n",
    "\n",
    "### Global Reach: \n",
    "Excellent for handling multiple currencies, including USD, EUR, and others.\n",
    "Advanced Features: Offers a suite of advanced tools like subscription management, fraud detection (Radar), and more.\n",
    "Developer-Friendly: Highly customizable with robust APIs and extensive documentation.\n",
    "Scalability: Suitable for businesses of all sizes, from startups to large enterprises.\n",
    "Cons:\n",
    "\n",
    "### Local Support in India: \n",
    "Historically, Stripe's support in India has been limited compared to Razorpay, though it has been expanding.\n",
    "Payment Methods: Primarily focuses on global payment methods, which might not cover all popular Indian methods like UPI out-of-the-box.\n",
    "Recommendation\n",
    "For India and USD Payments:\n",
    "\n",
    "### Primary Gateway: Razorpay\n",
    "Why: If your primary market is India and you need robust support for INR transactions and local payment methods, Razorpay is the better choice.\n",
    "\n",
    "### Supplementary Gateway: Stripe\n",
    "Why: To handle USD and other international transactions efficiently, integrating Stripe alongside Razorpay can provide comprehensive coverage.\n",
    "Alternative Suggestion:\n",
    "\n",
    "<h3>PayPal:</h3> Another global payment gateway that supports multiple currencies, including USD and INR, but it's generally considered more expensive and less developer-friendly compared to Stripe and Razorpay.\n",
    "Final Decision:\n",
    "\n",
    "<h3>Use Both Razorpay and Stripe: </h3>\n",
    "This hybrid approach allows you to leverage Razorpay's strength in the Indian market and Stripe's global capabilities, ensuring flexibility and comprehensive coverage for both INR and USD payments.\n"
   ]
  },
  {
   "cell_type": "markdown",
   "id": "52e8392f-f45f-4af0-b318-6099d08c2e8f",
   "metadata": {},
   "source": [
    "To rewrite the implementation with appropriate design patterns, we'll focus on leveraging patterns like the Factory Pattern for gateway selection, Strategy Pattern for handling different payment processes, and Template Method Pattern for shared payment flow logic. This approach will make the code more modular, maintainable, and scalable.\n",
    "\n",
    "## Implementation with Design Patterns\n",
    "### 1. Project Structure"
   ]
  },
  {
   "cell_type": "code",
   "execution_count": null,
   "id": "d1840aa3-4230-45c7-8833-659e436a408c",
   "metadata": {},
   "outputs": [],
   "source": [
    "payment_gateway/\n",
    "├── gateways/\n",
    "│   ├── __init__.py\n",
    "│   ├── base.py\n",
    "│   ├── razorpay_gateway.py\n",
    "│   ├── stripe_gateway.py\n",
    "├── factories/\n",
    "│   ├── __init__.py\n",
    "│   ├── gateway_factory.py\n",
    "├── strategies/\n",
    "│   ├── __init__.py\n",
    "│   ├── payment_strategy.py\n",
    "├── config.py\n",
    "├── main.py\n",
    "├── requirements.txt\n",
    "└── .env\n"
   ]
  },
  {
   "cell_type": "markdown",
   "id": "37e82942-f7c4-447f-95d2-74d0ad72430a",
   "metadata": {},
   "source": [
    "## 2. Design Patterns Implementation\n",
    "### 2.1. Base Payment Gateway Interface (gateways/base.py)\n",
    "This remains the abstract base class, ensuring consistency across payment gateway implementations. We'll also use the Template Method Pattern here to define the payment flow skeleton."
   ]
  },
  {
   "cell_type": "code",
   "execution_count": null,
   "id": "fec91de0-cf58-4ffd-9e81-f567f12dc2aa",
   "metadata": {},
   "outputs": [],
   "source": [
    "# gateways/base.py\n",
    "\n",
    "from abc import ABC, abstractmethod\n",
    "\n",
    "class PaymentGateway(ABC):\n",
    "    def process_payment(self, amount, currency, receipt, **kwargs):\n",
    "        payment = self.create_payment(amount, currency, receipt, **kwargs)\n",
    "        self.verify_payment(payment['id'], payment['signature'], **kwargs)\n",
    "        self.on_payment_success(payment)\n",
    "    \n",
    "    @abstractmethod\n",
    "    def create_payment(self, amount, currency, receipt, **kwargs):\n",
    "        pass\n",
    "\n",
    "    @abstractmethod\n",
    "    def verify_payment(self, payment_id, signature, **kwargs):\n",
    "        pass\n",
    "    \n",
    "    def on_payment_success(self, payment):\n",
    "        print(f\"Payment successful: {payment}\")\n"
   ]
  },
  {
   "cell_type": "markdown",
   "id": "7c09534e-cb2f-462c-83b7-5c5abe7ca999",
   "metadata": {},
   "source": [
    "### 2.2. Razorpay Integration (gateways/razorpay_gateway.py)"
   ]
  },
  {
   "cell_type": "code",
   "execution_count": null,
   "id": "ecf84237-3c83-49ce-9d19-94b24267af47",
   "metadata": {},
   "outputs": [],
   "source": [
    "# gateways/razorpay_gateway.py\n",
    "\n",
    "import razorpay\n",
    "from .base import PaymentGateway\n",
    "from config import Config\n",
    "\n",
    "class RazorpayGateway(PaymentGateway):\n",
    "    def __init__(self):\n",
    "        self.client = razorpay.Client(auth=(Config.RAZORPAY_KEY, Config.RAZORPAY_SECRET))\n",
    "\n",
    "    def create_payment(self, amount, currency, receipt, **kwargs):\n",
    "        payment = self.client.order.create({\n",
    "            'amount': int(amount * 100),  # Razorpay expects amount in paise\n",
    "            'currency': currency,\n",
    "            'receipt': receipt,\n",
    "            'payment_capture': '1'\n",
    "        })\n",
    "        return payment\n",
    "\n",
    "    def verify_payment(self, payment_id, signature, **kwargs):\n",
    "        try:\n",
    "            params_dict = {\n",
    "                'razorpay_order_id': kwargs.get('order_id'),\n",
    "                'razorpay_payment_id': payment_id,\n",
    "                'razorpay_signature': signature\n",
    "            }\n",
    "            status = self.client.utility.verify_payment_signature(params_dict)\n",
    "            return status\n",
    "        except razorpay.errors.SignatureVerificationError:\n",
    "            return False\n"
   ]
  },
  {
   "cell_type": "markdown",
   "id": "f4749ec5-1c7d-40bc-a6ee-50ffc3820ef5",
   "metadata": {},
   "source": [
    "### 2.3. Stripe Integration (gateways/stripe_gateway.py)"
   ]
  },
  {
   "cell_type": "code",
   "execution_count": null,
   "id": "9046cf45-7e98-4633-b503-e855a91f3872",
   "metadata": {},
   "outputs": [],
   "source": [
    "# gateways/stripe_gateway.py\n",
    "\n",
    "import stripe\n",
    "from .base import PaymentGateway\n",
    "from config import Config\n",
    "\n",
    "class StripeGateway(PaymentGateway):\n",
    "    def __init__(self):\n",
    "        stripe.api_key = Config.STRIPE_API_KEY\n",
    "\n",
    "    def create_payment(self, amount, currency, receipt, **kwargs):\n",
    "        payment_intent = stripe.PaymentIntent.create(\n",
    "            amount=int(amount * 100),  # Stripe expects amount in cents\n",
    "            currency=currency,\n",
    "            receipt_email=kwargs.get('receipt_email'),\n",
    "            metadata={'receipt': receipt}\n",
    "        )\n",
    "        return payment_intent\n",
    "\n",
    "    def verify_payment(self, payment_id, **kwargs):\n",
    "        try:\n",
    "            payment_intent = stripe.PaymentIntent.retrieve(payment_id)\n",
    "            return payment_intent.status == 'succeeded'\n",
    "        except stripe.error.StripeError:\n",
    "            return False\n"
   ]
  },
  {
   "cell_type": "markdown",
   "id": "8baa0480-eebc-4dc0-9dd8-bb6819cfc71a",
   "metadata": {},
   "source": [
    "## 2.4. Payment Gateway Factory (factories/gateway_factory.py)\n",
    "Use the Factory Pattern to create instances of the appropriate payment gateway based on the input."
   ]
  },
  {
   "cell_type": "code",
   "execution_count": null,
   "id": "caa8288a-0713-48fd-989f-f2b8e48dec49",
   "metadata": {},
   "outputs": [],
   "source": [
    "# factories/gateway_factory.py\n",
    "\n",
    "from gateways.razorpay_gateway import RazorpayGateway\n",
    "from gateways.stripe_gateway import StripeGateway\n",
    "\n",
    "class PaymentGatewayFactory:\n",
    "    @staticmethod\n",
    "    def get_gateway(gateway_name):\n",
    "        if gateway_name.lower() == 'razorpay':\n",
    "            return RazorpayGateway()\n",
    "        elif gateway_name.lower() == 'stripe':\n",
    "            return StripeGateway()\n",
    "        else:\n",
    "            raise ValueError(\"Unsupported payment gateway\")\n"
   ]
  },
  {
   "cell_type": "markdown",
   "id": "92f6560f-7b49-4cc2-bc4a-9973630666be",
   "metadata": {},
   "source": [
    "## 2.5. Payment Strategy (strategies/payment_strategy.py)\n",
    "Implement the Strategy Pattern to encapsulate different payment processing strategies."
   ]
  },
  {
   "cell_type": "code",
   "execution_count": null,
   "id": "ab279efe-a03a-44a0-8eef-a313a754c660",
   "metadata": {},
   "outputs": [],
   "source": [
    "# strategies/payment_strategy.py\n",
    "\n",
    "from factories.gateway_factory import PaymentGatewayFactory\n",
    "\n",
    "class PaymentContext:\n",
    "    def __init__(self, gateway_name):\n",
    "        self.gateway = PaymentGatewayFactory.get_gateway(gateway_name)\n",
    "    \n",
    "    def execute_payment(self, amount, currency, receipt, **kwargs):\n",
    "        self.gateway.process_payment(amount, currency, receipt, **kwargs)\n"
   ]
  },
  {
   "cell_type": "markdown",
   "id": "af3bbbe6-18ab-4eab-ba6f-b998412cf5b9",
   "metadata": {},
   "source": [
    "## 2.6. Main Application Logic (main.py)\n",
    "The main script uses the PaymentContext to process payments via different gateways using the strategy pattern."
   ]
  },
  {
   "cell_type": "code",
   "execution_count": null,
   "id": "7560e360-2601-45c0-8058-d093605c7fb1",
   "metadata": {},
   "outputs": [],
   "source": [
    "# main.py\n",
    "\n",
    "from strategies.payment_strategy import PaymentContext\n",
    "\n",
    "if __name__ == \"__main__\":\n",
    "    # Example usage\n",
    "\n",
    "    # Process Razorpay Payment\n",
    "    razorpay_context = PaymentContext('razorpay')\n",
    "    razorpay_context.execute_payment(\n",
    "        amount=500.00,  # INR\n",
    "        currency='INR',\n",
    "        receipt='order_rcptid_11'\n",
    "    )\n",
    "\n",
    "    # Process Stripe Payment\n",
    "    stripe_context = PaymentContext('stripe')\n",
    "    stripe_context.execute_payment(\n",
    "        amount=20.00,  # USD\n",
    "        currency='usd',\n",
    "        receipt='order_rcptid_22',\n",
    "        receipt_email='customer@example.com'\n",
    "    )\n"
   ]
  },
  {
   "cell_type": "markdown",
   "id": "e77bcbda-8a79-48fa-8384-4e3c736dec2e",
   "metadata": {},
   "source": [
    "## 3. Summary of Design Patterns Used\n",
    "### Factory Pattern (PaymentGatewayFactory): \n",
    "Centralized object creation for different payment gateways based on input.\n",
    "### Strategy Pattern (PaymentContext): \n",
    "Encapsulates the payment process and allows easy switching between different payment methods (Razorpay, Stripe, etc.).\n",
    "### Template Method Pattern (PaymentGateway): \n",
    "Provides a blueprint for payment processing, allowing specific gateways to implement their logic while ensuring a consistent workflow.\n",
    "## 4. Security Considerations\n",
    "Sensitive data is still managed securely using environment variables (config.py).\n",
    "The modular design and usage of design patterns ensure that the application is extendable, maintainable, and secure.\n",
    "This pattern-driven approach makes your payment gateway system more organized and easier to extend or modify, such as adding new payment gateways or altering the payment flow."
   ]
  },
  {
   "cell_type": "markdown",
   "id": "2b8d77db-2d2a-4a72-8ea0-52bff284ed5e",
   "metadata": {},
   "source": [
    "****************************************"
   ]
  },
  {
   "cell_type": "markdown",
   "id": "0acb7f2d-084e-46c4-b5d9-3d3fe9d9d366",
   "metadata": {},
   "source": [
    "********************************"
   ]
  },
  {
   "cell_type": "markdown",
   "id": "9bd55942-acdd-4095-aeae-ff8ac922078d",
   "metadata": {},
   "source": [
    "To test the payment gateway implementation thoroughly, you can use Python's unittest framework, combined with unittest.mock to mock external API calls. Below is a set of robust test cases to validate the functionality of the payment gateway system.\n",
    "\n",
    "## 1. Setting Up the Test Environment\n",
    "First, let's structure the test suite. Create a tests/ directory in your project with the following files:"
   ]
  },
  {
   "cell_type": "code",
   "execution_count": null,
   "id": "b9676ade-c549-4223-8d2c-efa012873990",
   "metadata": {},
   "outputs": [],
   "source": [
    "tests/\n",
    "├── __init__.py\n",
    "├── test_payment_gateway.py\n",
    "└── test_gateway_factory.py"
   ]
  },
  {
   "cell_type": "markdown",
   "id": "8eb3ca2c-b2fc-4cbc-a2dd-35e78419a953",
   "metadata": {},
   "source": [
    "## 2. Test Cases for Payment Gateway Functionality\n",
    "### 2.1. Test the Razorpay and Stripe Gateways (test_payment_gateway.py)\n",
    "This test file covers the functionality of the individual payment gateways, ensuring that payments are created and verified correctly."
   ]
  },
  {
   "cell_type": "code",
   "execution_count": null,
   "id": "2b53fe82-7e1e-4c56-ae0d-17b58ae158de",
   "metadata": {},
   "outputs": [],
   "source": [
    "import unittest\n",
    "from unittest.mock import patch, MagicMock\n",
    "from gateways.razorpay_gateway import RazorpayGateway\n",
    "from gateways.stripe_gateway import StripeGateway\n",
    "\n",
    "class TestRazorpayGateway(unittest.TestCase):\n",
    "\n",
    "    @patch('razorpay.Client')\n",
    "    def test_create_payment(self, MockClient):\n",
    "        mock_client = MockClient.return_value\n",
    "        mock_client.order.create.return_value = {\n",
    "            'id': 'order_1',\n",
    "            'amount': 50000,\n",
    "            'currency': 'INR',\n",
    "            'receipt': 'order_rcptid_11'\n",
    "        }\n",
    "\n",
    "        gateway = RazorpayGateway()\n",
    "        payment = gateway.create_payment(amount=500.00, currency='INR', receipt='order_rcptid_11')\n",
    "\n",
    "        mock_client.order.create.assert_called_once_with({\n",
    "            'amount': 50000,  # Razorpay expects amount in paise\n",
    "            'currency': 'INR',\n",
    "            'receipt': 'order_rcptid_11',\n",
    "            'payment_capture': '1'\n",
    "        })\n",
    "        self.assertEqual(payment['id'], 'order_1')\n",
    "\n",
    "    @patch('razorpay.Client')\n",
    "    def test_verify_payment(self, MockClient):\n",
    "        mock_client = MockClient.return_value\n",
    "        mock_client.utility.verify_payment_signature.return_value = True\n",
    "\n",
    "        gateway = RazorpayGateway()\n",
    "        status = gateway.verify_payment(payment_id='pay_1', signature='sig_1', order_id='order_1')\n",
    "\n",
    "        mock_client.utility.verify_payment_signature.assert_called_once()\n",
    "        self.assertTrue(status)\n",
    "\n",
    "class TestStripeGateway(unittest.TestCase):\n",
    "\n",
    "    @patch('stripe.PaymentIntent')\n",
    "    def test_create_payment(self, MockPaymentIntent):\n",
    "        mock_payment_intent = MockPaymentIntent.create.return_value\n",
    "        mock_payment_intent.id = 'pi_1'\n",
    "\n",
    "        gateway = StripeGateway()\n",
    "        payment = gateway.create_payment(amount=20.00, currency='usd', receipt='order_rcptid_22')\n",
    "\n",
    "        MockPaymentIntent.create.assert_called_once_with(\n",
    "            amount=2000,  # Stripe expects amount in cents\n",
    "            currency='usd',\n",
    "            receipt_email=None,\n",
    "            metadata={'receipt': 'order_rcptid_22'}\n",
    "        )\n",
    "        self.assertEqual(payment.id, 'pi_1')\n",
    "\n",
    "    @patch('stripe.PaymentIntent')\n",
    "    def test_verify_payment(self, MockPaymentIntent):\n",
    "        mock_payment_intent = MockPaymentIntent.retrieve.return_value\n",
    "        mock_payment_intent.status = 'succeeded'\n",
    "\n",
    "        gateway = StripeGateway()\n",
    "        status = gateway.verify_payment(payment_id='pi_1')\n",
    "\n",
    "        MockPaymentIntent.retrieve.assert_called_once_with('pi_1')\n",
    "        self.assertTrue(status)\n",
    "\n",
    "if __name__ == '__main__':\n",
    "    unittest.main()\n"
   ]
  },
  {
   "cell_type": "markdown",
   "id": "368260f0-abcb-4e5f-9225-645e5e83d709",
   "metadata": {},
   "source": [
    "## Explanation:\n",
    "\n",
    "Mocking External Services: We use unittest.mock.patch to mock the Razorpay and Stripe client methods. This prevents actual API calls during testing.\n",
    "Assertions: We assert that the methods are called with the correct arguments and that the returned values match expected results.\n",
    "\n",
    "## 2.2. Test the Payment Gateway Factory (test_gateway_factory.py)\n",
    "This test file ensures that the PaymentGatewayFactory returns the correct gateway based on the input."
   ]
  },
  {
   "cell_type": "code",
   "execution_count": null,
   "id": "b4d36cb9-01a2-48de-b8e1-4fd53deafa10",
   "metadata": {},
   "outputs": [],
   "source": [
    "import unittest\n",
    "from factories.gateway_factory import PaymentGatewayFactory\n",
    "from gateways.razorpay_gateway import RazorpayGateway\n",
    "from gateways.stripe_gateway import StripeGateway\n",
    "\n",
    "class TestPaymentGatewayFactory(unittest.TestCase):\n",
    "\n",
    "    def test_get_razorpay_gateway(self):\n",
    "        gateway = PaymentGatewayFactory.get_gateway('razorpay')\n",
    "        self.assertIsInstance(gateway, RazorpayGateway)\n",
    "\n",
    "    def test_get_stripe_gateway(self):\n",
    "        gateway = PaymentGatewayFactory.get_gateway('stripe')\n",
    "        self.assertIsInstance(gateway, StripeGateway)\n",
    "\n",
    "    def test_invalid_gateway(self):\n",
    "        with self.assertRaises(ValueError):\n",
    "            PaymentGatewayFactory.get_gateway('invalid_gateway')\n",
    "\n",
    "if __name__ == '__main__':\n",
    "    unittest.main()\n"
   ]
  },
  {
   "cell_type": "markdown",
   "id": "01698e5d-ea83-4197-9ee9-a094ef857334",
   "metadata": {},
   "source": [
    "### Explanation:\n",
    "\n",
    "Factory Pattern: These tests check that the factory correctly creates instances of RazorpayGateway and StripeGateway and raises an exception for unsupported gateways.\n",
    "## 3. Running the Tests\n",
    "To run the tests, execute the following command from the root of your project:"
   ]
  },
  {
   "cell_type": "code",
   "execution_count": null,
   "id": "cb65a177-b8a3-45b3-99db-97cfb433d2eb",
   "metadata": {},
   "outputs": [],
   "source": [
    "python -m unittest discover tests"
   ]
  },
  {
   "cell_type": "markdown",
   "id": "eb72ea5c-79b0-4c59-8e1f-3b9bf7ce796a",
   "metadata": {},
   "source": [
    "## 4. Additional Test Cases\n",
    "### 4.1. Testing the Payment Context Strategy (test_payment_strategy.py)\n",
    "This test ensures that the PaymentContext correctly delegates the payment processing to the appropriate gateway."
   ]
  },
  {
   "cell_type": "code",
   "execution_count": null,
   "id": "060315a0-ea47-4506-8f55-61c3f96c368e",
   "metadata": {},
   "outputs": [],
   "source": [
    "import unittest\n",
    "from unittest.mock import patch\n",
    "from strategies.payment_strategy import PaymentContext\n",
    "\n",
    "class TestPaymentContext(unittest.TestCase):\n",
    "\n",
    "    @patch('strategies.payment_strategy.PaymentGatewayFactory.get_gateway')\n",
    "    def test_execute_payment_with_razorpay(self, mock_get_gateway):\n",
    "        mock_gateway = mock_get_gateway.return_value\n",
    "        mock_gateway.process_payment = MagicMock()\n",
    "\n",
    "        context = PaymentContext('razorpay')\n",
    "        context.execute_payment(amount=500.00, currency='INR', receipt='order_rcptid_11')\n",
    "\n",
    "        mock_gateway.process_payment.assert_called_once_with(\n",
    "            amount=500.00,\n",
    "            currency='INR',\n",
    "            receipt='order_rcptid_11'\n",
    "        )\n",
    "\n",
    "    @patch('strategies.payment_strategy.PaymentGatewayFactory.get_gateway')\n",
    "    def test_execute_payment_with_stripe(self, mock_get_gateway):\n",
    "        mock_gateway = mock_get_gateway.return_value\n",
    "        mock_gateway.process_payment = MagicMock()\n",
    "\n",
    "        context = PaymentContext('stripe')\n",
    "        context.execute_payment(amount=20.00, currency='usd', receipt='order_rcptid_22')\n",
    "\n",
    "        mock_gateway.process_payment.assert_called_once_with(\n",
    "            amount=20.00,\n",
    "            currency='usd',\n",
    "            receipt='order_rcptid_22',\n",
    "            receipt_email=None\n",
    "        )\n",
    "\n",
    "if __name__ == '__main__':\n",
    "    unittest.main()\n"
   ]
  },
  {
   "cell_type": "markdown",
   "id": "d821996a-db79-46a2-b358-6e56869e1a43",
   "metadata": {},
   "source": [
    "### Explanation:\n",
    "\n",
    "Strategy Pattern: These tests ensure that PaymentContext correctly selects the gateway and executes the payment using the chosen gateway.\n",
    "## 5. Summary of Test Coverage\n",
    "Gateway Functionality: Tests for Razorpay and Stripe gateways ensure that payments are created and verified correctly.\n",
    "Factory: Tests for the factory pattern ensure correct instantiation of gateways based on input.\n",
    "Strategy: Tests for the strategy pattern verify that the payment context correctly handles different payment strategies.\n",
    "These test cases will provide comprehensive coverage for the payment gateway implementation, ensuring that each component functions as expected and integrates well with others."
   ]
  },
  {
   "cell_type": "markdown",
   "id": "32e1c4a4-0701-43cb-87f0-9340246b75cb",
   "metadata": {},
   "source": [
    "*******************************************"
   ]
  },
  {
   "cell_type": "markdown",
   "id": "3877feda-ac3b-4da1-9955-5571e8878da8",
   "metadata": {},
   "source": [
    "# UPI Integration<a class=\"anchor\" id=\"upi_integration\"></a>"
   ]
  },
  {
   "cell_type": "markdown",
   "id": "822ab4b0-5e6d-4b10-b559-30442bf5153d",
   "metadata": {},
   "source": [
    "***************************"
   ]
  },
  {
   "cell_type": "code",
   "execution_count": null,
   "id": "0402e2e4-ad5d-440a-a839-8e647daec788",
   "metadata": {},
   "outputs": [],
   "source": [
    "+----------------+          +-------------------+          +----------------+\n",
    "|                |          |                   |          |                |\n",
    "|  User/Client   | <------> |  Your Application | <------> | Payment Gateway|\n",
    "|                |          |                   |          |  (Razorpay,    |\n",
    "+----------------+          +-------------------+          |   Stripe, UPI) |\n",
    "                                                              +-------+--------+\n",
    "                                                                      |\n",
    "                                                                      |\n",
    "                                                                      v\n",
    "                                                              +-------+--------+\n",
    "                                                              |                |\n",
    "                                                              |  Payment APIs  |\n",
    "                                                              | (Razorpay API, |\n",
    "                                                              |  Stripe API,   |\n",
    "                                                              |   UPI API)     |\n",
    "                                                              +-------+--------+\n",
    "                                                                      |\n",
    "                                                                      |\n",
    "                                                                      v\n",
    "                                                              +-------+--------+\n",
    "                                                              |                |\n",
    "                                                              |  Payment       |\n",
    "                                                              |  Processing    |\n",
    "                                                              | (Banks, Cards, |\n",
    "                                                              | Wallets, UPI,  |\n",
    "                                                              | etc.)          |\n",
    "                                                              +----------------+\n"
   ]
  },
  {
   "cell_type": "code",
   "execution_count": null,
   "id": "fdb45085-2052-4042-836a-996eac49e39a",
   "metadata": {},
   "outputs": [],
   "source": [
    "payment_gateway/\n",
    "├── gateways/\n",
    "│   ├── __init__.py\n",
    "│   ├── base.py\n",
    "│   ├── razorpay_gateway.py\n",
    "│   ├── stripe_gateway.py\n",
    "│   ├── upi_gateway.py  # New UPI gateway\n",
    "├── factories/\n",
    "│   ├── __init__.py\n",
    "│   ├── gateway_factory.py\n",
    "├── strategies/\n",
    "│   ├── __init__.py\n",
    "│   ├── payment_strategy.py\n",
    "├── config.py\n",
    "├── main.py\n",
    "├── requirements.txt\n",
    "└── .env\n"
   ]
  },
  {
   "cell_type": "markdown",
   "id": "44d9f8e9-a2db-4132-87d2-db2e4ed876b9",
   "metadata": {},
   "source": [
    "## 3. Python Code Implementation\n",
    "### 3.1. UPI Payment Gateway (gateways/upi_gateway.py)"
   ]
  },
  {
   "cell_type": "code",
   "execution_count": null,
   "id": "c99a4f51-8a65-49bf-8480-fa108cea7a92",
   "metadata": {},
   "outputs": [],
   "source": [
    "# gateways/upi_gateway.py\n",
    "\n",
    "from .base import PaymentGateway\n",
    "\n",
    "class UpiGateway(PaymentGateway):\n",
    "    def __init__(self):\n",
    "        # Initialization for UPI (could include API keys, etc.)\n",
    "        pass\n",
    "\n",
    "    def create_payment(self, amount, currency, receipt, **kwargs):\n",
    "        # Simulate a UPI payment creation\n",
    "        payment = {\n",
    "            'id': 'upi_order_1',\n",
    "            'amount': amount,\n",
    "            'currency': currency,\n",
    "            'receipt': receipt\n",
    "        }\n",
    "        return payment\n",
    "\n",
    "    def verify_payment(self, payment_id, **kwargs):\n",
    "        # Simulate UPI payment verification\n",
    "        return True\n"
   ]
  },
  {
   "cell_type": "markdown",
   "id": "be644cb3-45cf-486b-a912-68a8502880e8",
   "metadata": {},
   "source": [
    "## 3.2. Update the Payment Gateway Factory (factories/gateway_factory.py)\n",
    "### Update the factory to include UPI:"
   ]
  },
  {
   "cell_type": "code",
   "execution_count": null,
   "id": "34b4e68c-f4ee-405f-a274-37f531ec5678",
   "metadata": {},
   "outputs": [],
   "source": [
    "# factories/gateway_factory.py\n",
    "\n",
    "from gateways.razorpay_gateway import RazorpayGateway\n",
    "from gateways.stripe_gateway import StripeGateway\n",
    "from gateways.upi_gateway import UpiGateway  # Import UPI gateway\n",
    "\n",
    "class PaymentGatewayFactory:\n",
    "    @staticmethod\n",
    "    def get_gateway(gateway_name):\n",
    "        if gateway_name.lower() == 'razorpay':\n",
    "            return RazorpayGateway()\n",
    "        elif gateway_name.lower() == 'stripe':\n",
    "            return StripeGateway()\n",
    "        elif gateway_name.lower() == 'upi':  # UPI case\n",
    "            return UpiGateway()\n",
    "        else:\n",
    "            raise ValueError(\"Unsupported payment gateway\")\n"
   ]
  },
  {
   "cell_type": "markdown",
   "id": "b5dfa4da-3dfb-49fa-98c3-7f951e56e198",
   "metadata": {},
   "source": [
    "## 3.3. Update Main Application Logic (main.py)\n",
    "## Update the main script to handle UPI payments:"
   ]
  },
  {
   "cell_type": "code",
   "execution_count": null,
   "id": "d506a5c3-36dd-494d-9d31-e6f3e450aad4",
   "metadata": {},
   "outputs": [],
   "source": [
    "# main.py\n",
    "\n",
    "from strategies.payment_strategy import PaymentContext\n",
    "\n",
    "if __name__ == \"__main__\":\n",
    "    # Example usage\n",
    "\n",
    "    # Process Razorpay Payment\n",
    "    razorpay_context = PaymentContext('razorpay')\n",
    "    razorpay_context.execute_payment(\n",
    "        amount=500.00,  # INR\n",
    "        currency='INR',\n",
    "        receipt='order_rcptid_11'\n",
    "    )\n",
    "\n",
    "    # Process Stripe Payment\n",
    "    stripe_context = PaymentContext('stripe')\n",
    "    stripe_context.execute_payment(\n",
    "        amount=20.00,  # USD\n",
    "        currency='usd',\n",
    "        receipt='order_rcptid_22',\n",
    "        receipt_email='customer@example.com'\n",
    "    )\n",
    "\n",
    "    # Process UPI Payment\n",
    "    upi_context = PaymentContext('upi')\n",
    "    upi_context.execute_payment(\n",
    "        amount=1000.00,  # INR\n",
    "        currency='INR',\n",
    "        receipt='order_rcptid_33'\n",
    "    )\n"
   ]
  },
  {
   "cell_type": "markdown",
   "id": "f8e5a440-4216-4d29-b408-869f0845c213",
   "metadata": {},
   "source": [
    "## 4. Robust Test Cases\n",
    "### 4.1. Test UPI Gateway (test_payment_gateway.py)\n",
    "Add test cases for the UPI gateway:"
   ]
  },
  {
   "cell_type": "code",
   "execution_count": null,
   "id": "de117674-de90-4b86-bac0-6d26b8ff2b87",
   "metadata": {},
   "outputs": [],
   "source": [
    "import unittest\n",
    "from unittest.mock import patch, MagicMock\n",
    "from gateways.razorpay_gateway import RazorpayGateway\n",
    "from gateways.stripe_gateway import StripeGateway\n",
    "from gateways.upi_gateway import UpiGateway  # Import UPI Gateway\n",
    "\n",
    "class TestUpiGateway(unittest.TestCase):\n",
    "\n",
    "    def test_create_payment(self):\n",
    "        gateway = UpiGateway()\n",
    "        payment = gateway.create_payment(amount=1000.00, currency='INR', receipt='order_rcptid_33')\n",
    "\n",
    "        self.assertEqual(payment['id'], 'upi_order_1')\n",
    "        self.assertEqual(payment['amount'], 1000.00)\n",
    "        self.assertEqual(payment['currency'], 'INR')\n",
    "        self.assertEqual(payment['receipt'], 'order_rcptid_33')\n",
    "\n",
    "    def test_verify_payment(self):\n",
    "        gateway = UpiGateway()\n",
    "        status = gateway.verify_payment(payment_id='upi_order_1')\n",
    "\n",
    "        self.assertTrue(status)\n",
    "\n",
    "if __name__ == '__main__':\n",
    "    unittest.main()\n"
   ]
  },
  {
   "cell_type": "markdown",
   "id": "77413430-1cca-4460-b614-987b2ba7a5ac",
   "metadata": {},
   "source": [
    "### 4.2. Update Payment Gateway Factory Tests (test_gateway_factory.py)\n",
    "Add test cases for the UPI gateway in the factory:"
   ]
  },
  {
   "cell_type": "code",
   "execution_count": null,
   "id": "2f014feb-0c51-4df4-b789-aa71b54c5678",
   "metadata": {},
   "outputs": [],
   "source": [
    "import unittest\n",
    "from factories.gateway_factory import PaymentGatewayFactory\n",
    "from gateways.razorpay_gateway import RazorpayGateway\n",
    "from gateways.stripe_gateway import StripeGateway\n",
    "from gateways.upi_gateway import UpiGateway  # Import UPI Gateway\n",
    "\n",
    "class TestPaymentGatewayFactory(unittest.TestCase):\n",
    "\n",
    "    def test_get_razorpay_gateway(self):\n",
    "        gateway = PaymentGatewayFactory.get_gateway('razorpay')\n",
    "        self.assertIsInstance(gateway, RazorpayGateway)\n",
    "\n",
    "    def test_get_stripe_gateway(self):\n",
    "        gateway = PaymentGatewayFactory.get_gateway('stripe')\n",
    "        self.assertIsInstance(gateway, StripeGateway)\n",
    "\n",
    "    def test_get_upi_gateway(self):\n",
    "        gateway = PaymentGatewayFactory.get_gateway('upi')\n",
    "        self.assertIsInstance(gateway, UpiGateway)\n",
    "\n",
    "    def test_invalid_gateway(self):\n",
    "        with self.assertRaises(ValueError):\n",
    "            PaymentGatewayFactory.get_gateway('invalid_gateway')\n",
    "\n",
    "if __name__ == '__main__':\n",
    "    unittest.main()\n"
   ]
  },
  {
   "cell_type": "markdown",
   "id": "43986309-5d55-4cce-ae09-f30f114ed47d",
   "metadata": {},
   "source": [
    "### 4.3. Update Payment Context Strategy Tests (test_payment_strategy.py)\n",
    "Add test cases for UPI in the strategy:"
   ]
  },
  {
   "cell_type": "code",
   "execution_count": null,
   "id": "219df374-fa01-4623-9fc0-6457376fd848",
   "metadata": {},
   "outputs": [],
   "source": [
    "import unittest\n",
    "from unittest.mock import patch\n",
    "from strategies.payment_strategy import PaymentContext\n",
    "\n",
    "class TestPaymentContext(unittest.TestCase):\n",
    "\n",
    "    @patch('strategies.payment_strategy.PaymentGatewayFactory.get_gateway')\n",
    "    def test_execute_payment_with_razorpay(self, mock_get_gateway):\n",
    "        mock_gateway = mock_get_gateway.return_value\n",
    "        mock_gateway.process_payment = MagicMock()\n",
    "\n",
    "        context = PaymentContext('razorpay')\n",
    "        context.execute_payment(amount=500.00, currency='INR', receipt='order_rcptid_11')\n",
    "\n",
    "        mock_gateway.process_payment.assert_called_once_with(\n",
    "            amount=500.00,\n",
    "            currency='INR',\n",
    "            receipt='order_rcptid_11'\n",
    "        )\n",
    "\n",
    "    @patch('strategies.payment_strategy.PaymentGatewayFactory.get_gateway')\n",
    "    def test_execute_payment_with_stripe(self, mock_get_gateway):\n",
    "        mock_gateway = mock_get_gateway.return_value\n",
    "        mock_gateway.process_payment = MagicMock()\n",
    "\n",
    "        context = PaymentContext('stripe')\n",
    "        context.execute_payment(amount=20.00, currency='usd', receipt='order_rcptid_22')\n",
    "\n",
    "        mock_gateway.process_payment.assert_called_once_with(\n",
    "            amount=20.00,\n",
    "            currency='usd',\n",
    "            receipt='order_rcptid_22',\n",
    "            receipt_email=None\n",
    "        )\n",
    "\n",
    "    @patch('strategies.payment_strategy.PaymentGatewayFactory.get_gateway')\n",
    "    def test_execute_payment_with_upi(self, mock_get_gateway):\n",
    "        mock_gateway = mock_get_gateway.return_value\n",
    "        mock_gateway.process_payment = MagicMock()\n",
    "\n",
    "        context = PaymentContext('upi')\n",
    "        context.execute_payment(amount=1000.00, currency='INR', receipt='order_rcptid_33')\n",
    "\n",
    "        mock_gateway.process_payment.assert_called_once_with(\n",
    "            amount=1000.00,\n",
    "            currency='INR',\n",
    "            receipt='order_rcptid_33'\n",
    "        )\n",
    "\n",
    "if __name__ == '__main__':\n",
    "    unittest.main()\n"
   ]
  },
  {
   "cell_type": "markdown",
   "id": "6e6e975d-265b-46d4-a087-342305adfadc",
   "metadata": {},
   "source": [
    "## 5. Running the Tests\n",
    "Run the tests with:"
   ]
  },
  {
   "cell_type": "code",
   "execution_count": null,
   "id": "b0e1436e-f682-42d3-865f-9fab101cb8a8",
   "metadata": {},
   "outputs": [],
   "source": [
    "python -m unittest discover tests"
   ]
  },
  {
   "cell_type": "markdown",
   "id": "58c7fe2e-a77a-4357-8256-08099a0eaa95",
   "metadata": {},
   "source": [
    "## 6. Summary\n",
    "Updated Design: We’ve integrated UPI into the existing payment gateway design using the same modular and design pattern-driven approach.\n",
    "Robust Testing: Comprehensive test cases cover the new UPI functionality, ensuring that it integrates smoothly with the existing system.\n",
    "Extensibility: The architecture is now even more extensible, allowing for further additions of payment methods with minimal changes to the overall structure.\n",
    "This approach ensures that the system remains robust, scalable, and easy to maintain."
   ]
  },
  {
   "cell_type": "markdown",
   "id": "1aec5d90-79fc-471c-9d64-49a1e2726003",
   "metadata": {},
   "source": [
    "**********************************"
   ]
  },
  {
   "cell_type": "markdown",
   "id": "1534a025-389e-43f3-9c9c-b305ac859531",
   "metadata": {},
   "source": [
    "**************************"
   ]
  },
  {
   "cell_type": "markdown",
   "id": "f63d0777-a83d-4515-9177-b842307f3920",
   "metadata": {},
   "source": [
    "To design a workflow for a payment service or gateway in Python, integrating the mentioned libraries and tools, we'll break it down into various components. This workflow will cover the entire lifecycle of a payment transaction, from API request to final confirmation, while ensuring security, scalability, and reliability. Below is the big picture of the architecture.\n",
    "\n",
    "## 1. User Interaction Layer\n",
    "`Frontend:` Users interact with the payment system through a web or mobile application.<br>\n",
    "    `Technologies:` ReactJS, Angular, or any other frontend framework.<br>\n",
    "`Request Flow:` Users initiate payment requests via a frontend interface, which sends the data to the backend API.\n",
    "\n",
    "## 2. API Gateway Layer\n",
    "`Flask/Django API:` The frontend communicates with the backend via a RESTful API developed using Flask or Django.\n",
    "    `Endpoints:`<br>\n",
    "        /payment/initiate: Initiates a payment request.<br>\n",
    "        /payment/status: Checks the status of a payment.<br>\n",
    "        /payment/callback: Handles payment gateway callbacks.<br>\n",
    "## Security:\n",
    "`JWT Authentication:` Secures API endpoints using PyJWT for token-based authentication.<br>\n",
    "`Rate Limiting:` Implemented to prevent abuse.\n",
    "## 3. Business Logic Layer\n",
    "`Payment Processing:`<br>\n",
    "    `Strategy Pattern:` Use the Strategy design pattern to support multiple payment gateways (e.g., Stripe, Razorpay).>br>\n",
    "    `Libraries:`<br>\n",
    "        `Stripe:` For Stripe payments.<br>\n",
    "        `Razorpay:` For Razorpay payments.</br\n",
    "        `PayPal:` For PayPal payments.<br>\n",
    "    `Factory Pattern:` Use the Factory pattern to instantiate the appropriate payment gateway handler based on the user’s choice.<br>\n",
    "`Error Handling:`<br>\n",
    "    `Sentry:` Real-time error tracking and logging.\n",
    "## 4. Asynchronous Processing Layer\n",
    "`Task Queue:`<br>\n",
    "`Celery:` Handles background tasks like confirming payments, sending emails, and updating the database.<br>\n",
    "`Redis/RabbitMQ:` Acts as a message broker for Celery.<br>\n",
    "`Event Streaming:`<br>\n",
    "`Kafka:` Manages real-time events and logs payment requests and responses for later analysis and debugging.\n",
    "## 5. Data Persistence Layer\n",
    "`Database:`<br>\n",
    "`PostgreSQL/MySQL:` Stores payment-related data, user information, and transaction history.<br>\n",
    "`SQLAlchemy/Django ORM:` Manages database interactions, ensuring data consistency and normalization.<br>\n",
    "`Schema Design:`<br>\n",
    "`5th Normal Form (5NF):` The database schema is designed to adhere to 5NF, ensuring minimal redundancy and optimal performance.\n",
    "## 6. Security Layer\n",
    "`Encryption:`<br>\n",
    "`cryptography:` Encrypts sensitive data such as credit card details.<br>\n",
    "`Data Integrity:`<br>\n",
    "`JWT and HMAC:` Ensure that data is not tampered with during transmission.<br>\n",
    "`Secure Communication:`<br>\n",
    "`HTTPS/TLS:` All communications between clients and servers are encrypted using HTTPS.\n",
    "## 7. Monitoring and Logging Layer\n",
    "Logging:\n",
    "Loguru: Captures detailed logs of the application's behavior for troubleshooting.\n",
    "Error Monitoring:\n",
    "Sentry: Continuously monitors the application for errors and exceptions.\n",
    "## 8. Deployment Layer\n",
    "Containerization:\n",
    "Docker: Containers package the application and its dependencies for consistent environments across development, testing, and production.\n",
    "Orchestration:\n",
    "Kubernetes: Manages the deployment, scaling, and monitoring of containers across multiple nodes.\n",
    "CI/CD:\n",
    "Jenkins/GitLab CI: Automates the building, testing, and deployment of the application.\n",
    "## 9. Callback and Notification Layer\n",
    "Webhook Handling:\n",
    "Payment Gateway Callbacks: The system handles asynchronous notifications from payment gateways to update payment status.\n",
    "Queue for Retry Logic: Failed callbacks are retried using a queue system.\n",
    "## 10. Auditing and Compliance Layer\n",
    "Logging of Transactions:\n",
    "Kafka: Logs all transactions for audit trails and compliance checks.\n",
    "Compliance:\n",
    "PCI-DSS: The system is designed to comply with PCI-DSS standards for secure handling of payment information.\n",
    "Workflow Diagram\n",
    "User Initiates Payment: User selects a payment method on the frontend and submits payment details.\n",
    "API Gateway Receives Request: Flask/Django API receives the payment request and authenticates the user using JWT.\n",
    "Payment Strategy Selection: The system selects the appropriate payment gateway handler (e.g., Stripe, Razorpay) using the Strategy and Factory design patterns.\n",
    "Payment Processing: The selected gateway processes the payment. The request may be synchronous or asynchronous.\n",
    "Asynchronous Tasks: Celery handles background tasks such as sending confirmation emails and updating the database.\n",
    "Callback Handling: The payment gateway sends a callback to the /payment/callback endpoint, which updates the payment status in the database.\n",
    "Event Logging: Kafka logs all payment transactions for future analysis.\n",
    "Data Encryption: Sensitive payment information is encrypted using the cryptography library.\n",
    "Monitoring and Logging: Errors and logs are captured and monitored using Sentry and Loguru.\n",
    "Deployment: The application is containerized with Docker and managed using Kubernetes for scalability.\n",
    "\n",
    "\n",
    "\n",
    "\n",
    "\n",
    "## Workflow Diagram\n",
    "User Initiates Payment: User selects a payment method on the frontend and submits payment details.\n",
    "API Gateway Receives Request: Flask/Django API receives the payment request and authenticates the user using JWT.\n",
    "Payment Strategy Selection: The system selects the appropriate payment gateway handler (e.g., Stripe, Razorpay) using the Strategy and Factory design patterns.\n",
    "Payment Processing: The selected gateway processes the payment. The request may be synchronous or asynchronous.\n",
    "Asynchronous Tasks: Celery handles background tasks such as sending confirmation emails and updating the database.\n",
    "Callback Handling: The payment gateway sends a callback to the /payment/callback endpoint, which updates the payment status in the database.\n",
    "Event Logging: Kafka logs all payment transactions for future analysis.\n",
    "Data Encryption: Sensitive payment information is encrypted using the cryptography library.\n",
    "Monitoring and Logging: Errors and logs are captured and monitored using Sentry and Loguru.\n",
    "Deployment: The application is containerized with Docker and managed using Kubernetes for scalability."
   ]
  },
  {
   "cell_type": "markdown",
   "id": "1a7dce1b-803f-4fcb-afb2-f741c2b75f37",
   "metadata": {},
   "source": [
    "<img src=\"architect_design.png\" alt=\"architecture\" width=\"500\" height=\"1200\">"
   ]
  }
 ],
 "metadata": {
  "kernelspec": {
   "display_name": "Python 3 (ipykernel)",
   "language": "python",
   "name": "python3"
  },
  "language_info": {
   "codemirror_mode": {
    "name": "ipython",
    "version": 3
   },
   "file_extension": ".py",
   "mimetype": "text/x-python",
   "name": "python",
   "nbconvert_exporter": "python",
   "pygments_lexer": "ipython3",
   "version": "3.12.4"
  }
 },
 "nbformat": 4,
 "nbformat_minor": 5
}
