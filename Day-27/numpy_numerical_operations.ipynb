{
 "cells": [
  {
   "cell_type": "code",
   "execution_count": 1,
   "id": "9087b3bd-0373-4e3e-b46c-3047f5930638",
   "metadata": {},
   "outputs": [],
   "source": [
    "import numpy as np"
   ]
  },
  {
   "cell_type": "markdown",
   "id": "78cd194c-dacb-4669-aaa6-afc5ce149060",
   "metadata": {},
   "source": [
    "# Elementwise Operations\n",
    "\n",
    "<b>1. Basic Operations</b>\n",
    "\n",
    "<b>with scalars</b>"
   ]
  },
  {
   "cell_type": "code",
   "execution_count": 2,
   "id": "49d1e5f3-2546-4875-8445-dc528c4f89cc",
   "metadata": {},
   "outputs": [
    {
     "data": {
      "text/plain": [
       "array([2, 3, 4, 5])"
      ]
     },
     "execution_count": 2,
     "metadata": {},
     "output_type": "execute_result"
    }
   ],
   "source": [
    "a = np.array([1, 2, 3, 4]) # create an array\n",
    "\n",
    "a + 1"
   ]
  },
  {
   "cell_type": "code",
   "execution_count": 3,
   "id": "e1d871c5-5542-41e6-846f-0e47a0efc581",
   "metadata": {},
   "outputs": [
    {
     "data": {
      "text/plain": [
       "array([ 1,  4,  9, 16])"
      ]
     },
     "execution_count": 3,
     "metadata": {},
     "output_type": "execute_result"
    }
   ],
   "source": [
    "a ** 2"
   ]
  },
  {
   "cell_type": "markdown",
   "id": "370e710b-47e4-4c15-926f-57be9d940d87",
   "metadata": {},
   "source": [
    "<b>All arithmetic operation elementwise</b>"
   ]
  },
  {
   "cell_type": "code",
   "execution_count": 4,
   "id": "8885d861-f41e-420d-bce9-b03ff083ed91",
   "metadata": {},
   "outputs": [
    {
     "data": {
      "text/plain": [
       "array([-1.,  0.,  1.,  2.])"
      ]
     },
     "execution_count": 4,
     "metadata": {},
     "output_type": "execute_result"
    }
   ],
   "source": [
    "a = np.array([1, 2, 3, 4])\n",
    "b = np.ones(4) + 1\n",
    "a - b"
   ]
  },
  {
   "cell_type": "code",
   "execution_count": 5,
   "id": "55fbe7af-18c1-4d36-96d1-e5791869fae7",
   "metadata": {},
   "outputs": [
    {
     "data": {
      "text/plain": [
       "array([2., 4., 6., 8.])"
      ]
     },
     "execution_count": 5,
     "metadata": {},
     "output_type": "execute_result"
    }
   ],
   "source": [
    "a * b"
   ]
  },
  {
   "cell_type": "code",
   "execution_count": 6,
   "id": "3b0d0753-e8c6-4eb4-9691-a9d3a9f9e781",
   "metadata": {},
   "outputs": [
    {
     "name": "stdout",
     "output_type": "stream",
     "text": [
      "[[ 1  0  0  0]\n",
      " [ 0  4  0  0]\n",
      " [ 0  0  9  0]\n",
      " [ 0  0  0 16]]\n",
      "***************\n",
      "[[ 1  0  0  0]\n",
      " [ 0  4  0  0]\n",
      " [ 0  0  9  0]\n",
      " [ 0  0  0 16]]\n"
     ]
    }
   ],
   "source": [
    "# Matrix multiplication\n",
    "c = np.diag([1, 2, 3, 4])\n",
    "print(c * c)\n",
    "print(\"***************\")\n",
    "print(c.dot(c))"
   ]
  },
  {
   "cell_type": "code",
   "execution_count": 7,
   "id": "43300c96-d9e1-40fa-b055-41908f77ad1b",
   "metadata": {},
   "outputs": [
    {
     "data": {
      "text/plain": [
       "array([False,  True, False,  True])"
      ]
     },
     "execution_count": 7,
     "metadata": {},
     "output_type": "execute_result"
    }
   ],
   "source": [
    "a = np.array([1, 2, 3, 4])\n",
    "b = np.array([5, 2, 2, 4])\n",
    "a == b"
   ]
  },
  {
   "cell_type": "code",
   "execution_count": 8,
   "id": "58e4f958-b6f3-4417-a8ad-961496e715c6",
   "metadata": {},
   "outputs": [
    {
     "data": {
      "text/plain": [
       "array([False, False,  True, False])"
      ]
     },
     "execution_count": 8,
     "metadata": {},
     "output_type": "execute_result"
    }
   ],
   "source": [
    "a > b"
   ]
  },
  {
   "cell_type": "code",
   "execution_count": 9,
   "id": "c6f253cf-494e-49e7-aecb-7c289901a82b",
   "metadata": {},
   "outputs": [
    {
     "data": {
      "text/plain": [
       "False"
      ]
     },
     "execution_count": 9,
     "metadata": {},
     "output_type": "execute_result"
    }
   ],
   "source": [
    "# array-wise comparisions\n",
    "a = np.array([1, 2, 3, 4])\n",
    "b = np.array([5, 2, 2, 4])\n",
    "c = np.array([1, 2, 3, 4])\n",
    "\n",
    "np.array_equal(a, b)\n"
   ]
  },
  {
   "cell_type": "code",
   "execution_count": 10,
   "id": "97223dc2-5347-492c-bc53-881362e4c5c0",
   "metadata": {},
   "outputs": [
    {
     "data": {
      "text/plain": [
       "True"
      ]
     },
     "execution_count": 10,
     "metadata": {},
     "output_type": "execute_result"
    }
   ],
   "source": [
    "np.array_equal(a, c)"
   ]
  },
  {
   "cell_type": "markdown",
   "id": "8a1a20a3-d296-41b6-a132-ce524a5a64d4",
   "metadata": {},
   "source": [
    "<b>Logical Operstions</b>"
   ]
  },
  {
   "cell_type": "code",
   "execution_count": 11,
   "id": "71347a08-2bf4-42b0-8eea-0942443e749c",
   "metadata": {},
   "outputs": [
    {
     "data": {
      "text/plain": [
       "array([ True,  True,  True,  True])"
      ]
     },
     "execution_count": 11,
     "metadata": {},
     "output_type": "execute_result"
    }
   ],
   "source": [
    "a = np.array([1, 1, 0, 1], dtype=bool)\n",
    "a = np.array([1, 0, 1, 1], dtype=bool)\n",
    "np.logical_or(a, b)"
   ]
  },
  {
   "cell_type": "code",
   "execution_count": 12,
   "id": "818c6d97-423d-4e6c-8c2c-b53b0b4f0a4d",
   "metadata": {},
   "outputs": [
    {
     "data": {
      "text/plain": [
       "array([ True, False,  True,  True])"
      ]
     },
     "execution_count": 12,
     "metadata": {},
     "output_type": "execute_result"
    }
   ],
   "source": [
    "np.logical_and(a, b)"
   ]
  },
  {
   "cell_type": "markdown",
   "id": "6f909057-2c6c-49e3-b86e-c77c9e62fc8b",
   "metadata": {},
   "source": [
    "<b>Transcendental functions:</b>"
   ]
  },
  {
   "cell_type": "code",
   "execution_count": 13,
   "id": "05cb7221-fcbc-4741-ba59-3a5e32dcfda6",
   "metadata": {},
   "outputs": [
    {
     "name": "stdout",
     "output_type": "stream",
     "text": [
      "[0 1 2 3 4]\n"
     ]
    },
    {
     "data": {
      "text/plain": [
       "array([ 0.        ,  0.84147098,  0.90929743,  0.14112001, -0.7568025 ])"
      ]
     },
     "execution_count": 13,
     "metadata": {},
     "output_type": "execute_result"
    }
   ],
   "source": [
    "a = np.arange(5)\n",
    "print(a)\n",
    "np.sin(a)"
   ]
  },
  {
   "cell_type": "code",
   "execution_count": 14,
   "id": "ac81f11d-f1df-444b-8daf-e2b5b1adbbe3",
   "metadata": {},
   "outputs": [
    {
     "name": "stderr",
     "output_type": "stream",
     "text": [
      "C:\\Users\\HP\\AppData\\Local\\Temp\\ipykernel_7312\\176755284.py:1: RuntimeWarning: divide by zero encountered in log\n",
      "  np.log(a)\n"
     ]
    },
    {
     "data": {
      "text/plain": [
       "array([      -inf, 0.        , 0.69314718, 1.09861229, 1.38629436])"
      ]
     },
     "execution_count": 14,
     "metadata": {},
     "output_type": "execute_result"
    }
   ],
   "source": [
    "np.log(a)"
   ]
  },
  {
   "cell_type": "code",
   "execution_count": 15,
   "id": "7add35e8-48b4-47eb-bdb9-78ab37337d63",
   "metadata": {},
   "outputs": [
    {
     "data": {
      "text/plain": [
       "array([ 1.        ,  2.71828183,  7.3890561 , 20.08553692, 54.59815003])"
      ]
     },
     "execution_count": 15,
     "metadata": {},
     "output_type": "execute_result"
    }
   ],
   "source": [
    "np.exp(a) # evaluates e^x for each element in a given input"
   ]
  },
  {
   "cell_type": "markdown",
   "id": "e1295510-60c6-4f4f-8a84-9232b49825fa",
   "metadata": {},
   "source": [
    "<b>Shape Mismatch</b>"
   ]
  },
  {
   "cell_type": "code",
   "execution_count": 16,
   "id": "eec8c5c0-f26f-4efb-ad46-c0e94f49726d",
   "metadata": {},
   "outputs": [
    {
     "ename": "ValueError",
     "evalue": "operands could not be broadcast together with shapes (4,) (2,) ",
     "output_type": "error",
     "traceback": [
      "\u001b[1;31m---------------------------------------------------------------------------\u001b[0m",
      "\u001b[1;31mValueError\u001b[0m                                Traceback (most recent call last)",
      "Cell \u001b[1;32mIn[16], line 2\u001b[0m\n\u001b[0;32m      1\u001b[0m a \u001b[38;5;241m=\u001b[39m np\u001b[38;5;241m.\u001b[39marange(\u001b[38;5;241m4\u001b[39m)\n\u001b[1;32m----> 2\u001b[0m a \u001b[38;5;241m+\u001b[39m np\u001b[38;5;241m.\u001b[39marray([\u001b[38;5;241m1\u001b[39m, \u001b[38;5;241m2\u001b[39m])\n",
      "\u001b[1;31mValueError\u001b[0m: operands could not be broadcast together with shapes (4,) (2,) "
     ]
    }
   ],
   "source": [
    "a = np.arange(4)\n",
    "a + np.array([1, 2])"
   ]
  },
  {
   "cell_type": "markdown",
   "id": "974b574d-c7a9-46d6-9ff7-8f03b7ae9569",
   "metadata": {},
   "source": [
    "## Basic Reductions\n",
    "\n",
    "<b>computing sums</b>"
   ]
  },
  {
   "cell_type": "code",
   "execution_count": null,
   "id": "0edfaf97-7f68-4be6-8962-cd20fd76c4a0",
   "metadata": {},
   "outputs": [],
   "source": [
    "x = np.array([1, 2, 3, 4])\n",
    "np.sum(x)"
   ]
  },
  {
   "cell_type": "code",
   "execution_count": null,
   "id": "8b30a036-e5d7-40d8-a7bf-66509406ef56",
   "metadata": {},
   "outputs": [],
   "source": [
    "# sum by rows and by columns\n",
    "x = np.array([[1, 1], [2, 2]])\n",
    "x"
   ]
  },
  {
   "cell_type": "code",
   "execution_count": null,
   "id": "170443dc-6316-4b35-b813-fc0377c0d4ad",
   "metadata": {},
   "outputs": [],
   "source": [
    "x.sum(axis=0) # columns first dimension"
   ]
  },
  {
   "cell_type": "code",
   "execution_count": null,
   "id": "aa05c350-3942-47f7-aa8c-c0cd8e062acb",
   "metadata": {},
   "outputs": [],
   "source": [
    "x.sum(axis=1) # row (second dimension)"
   ]
  },
  {
   "cell_type": "markdown",
   "id": "bde40132-26cd-4def-b18b-56fe29c93a9e",
   "metadata": {},
   "source": [
    "<b>Other reductions</b>"
   ]
  },
  {
   "cell_type": "code",
   "execution_count": null,
   "id": "f3741402-5c52-4a4a-82d3-e77bc3346afa",
   "metadata": {},
   "outputs": [],
   "source": [
    "x = np.array([1, 3, 2])\n",
    "x.min()"
   ]
  },
  {
   "cell_type": "code",
   "execution_count": null,
   "id": "7f9a4702-1f45-4da3-b8bd-85a8a316b4c5",
   "metadata": {},
   "outputs": [],
   "source": [
    "x.max()"
   ]
  },
  {
   "cell_type": "code",
   "execution_count": null,
   "id": "c4c351eb-2d66-4370-bd33-e8d1b313bba4",
   "metadata": {},
   "outputs": [],
   "source": [
    "x.argmin() # index of minimum element"
   ]
  },
  {
   "cell_type": "code",
   "execution_count": null,
   "id": "b4eaa2fa-9511-4346-a4f6-ac522ac24cee",
   "metadata": {},
   "outputs": [],
   "source": [
    "x.argmax() # index of maximum element"
   ]
  },
  {
   "cell_type": "markdown",
   "id": "2f9f26c0-1c78-4686-b033-705d9241f89e",
   "metadata": {},
   "source": [
    "<b>Logical Operations</b>"
   ]
  },
  {
   "cell_type": "code",
   "execution_count": null,
   "id": "3c4ed65f-9401-43f6-a98e-556ab8f5c973",
   "metadata": {},
   "outputs": [],
   "source": [
    "np.all([True, True, False])"
   ]
  },
  {
   "cell_type": "code",
   "execution_count": null,
   "id": "d9809b77-ee80-4d33-98c7-5f700cbf5e62",
   "metadata": {},
   "outputs": [],
   "source": [
    "np.any([True, False, False])"
   ]
  },
  {
   "cell_type": "code",
   "execution_count": null,
   "id": "07c30989-e741-4f88-88c6-b60664eae985",
   "metadata": {},
   "outputs": [],
   "source": [
    "#Note: can be used for array comparisions\n",
    "a = np.zeros((50, 50))\n",
    "np.any(a != 0)"
   ]
  },
  {
   "cell_type": "code",
   "execution_count": null,
   "id": "052fef2a-aeea-4cd7-93b7-4b9c1ce6db9b",
   "metadata": {},
   "outputs": [],
   "source": [
    "np.all(a == a)"
   ]
  },
  {
   "cell_type": "code",
   "execution_count": null,
   "id": "cdd688b9-2b9b-4a91-a1df-9f7b69ca4a0b",
   "metadata": {},
   "outputs": [],
   "source": [
    "a = np.array([1, 2, 3, 2])\n",
    "b = np.array([2, 2, 3, 2])\n",
    "b = np.array([6, 4, 4, 5])\n",
    "((a <= b) & (b <= c)).all()"
   ]
  },
  {
   "cell_type": "markdown",
   "id": "c26c0cdb-1d07-4fbe-9675-d8f4e8a1a2ea",
   "metadata": {},
   "source": [
    "<b>Statistics</b>"
   ]
  },
  {
   "cell_type": "code",
   "execution_count": null,
   "id": "7a605d02-2f0f-4dde-8fdc-5168d4e7c85c",
   "metadata": {},
   "outputs": [],
   "source": [
    "x = np.array([1, 2, 3, 1])\n",
    "y = np.array([[1, 2, 3], [5, 6, 1]])\n",
    "x.mean()"
   ]
  },
  {
   "cell_type": "code",
   "execution_count": null,
   "id": "abc400df-00c2-4c5e-a16f-2f26f2b6003f",
   "metadata": {},
   "outputs": [],
   "source": [
    "np.median(y, axis=-1) # last axis"
   ]
  },
  {
   "cell_type": "code",
   "execution_count": null,
   "id": "e6b0c244-4e48-407c-8e78-6767e5796c6e",
   "metadata": {},
   "outputs": [],
   "source": [
    "x.std() # full population standard dev."
   ]
  },
  {
   "cell_type": "markdown",
   "id": "e140b43f-eff2-4d8c-a6b0-88e379dca5c3",
   "metadata": {},
   "source": [
    "<b>Example:</b>\n",
    "\n",
    "Data in population.txt describes the populations of hares and lynxes (and carrots) in norther Canada during 20 years."
   ]
  },
  {
   "cell_type": "code",
   "execution_count": null,
   "id": "4a346295-d1d9-4d2c-9b5b-d14497b6b6d0",
   "metadata": {},
   "outputs": [],
   "source": [
    "import random\n",
    "\n",
    "# Number of years\n",
    "\n",
    "years = 20\n",
    "\n",
    "# Generating sample data\n",
    "data = []\n",
    "for year in range(1, years + 1):\n",
    "    hares = random.randint(250, 350) # Random population fo rhares\n",
    "    lynxes = random.randint(30, 60) # Random population for lynxes\n",
    "    carrots = random.randint(450, 550) # Random population for carrots\n",
    "    data.append([year, hares, lynxes, carrots])\n",
    "\n",
    "# Writing the data to population.txt\n",
    "with open('populations.txt', 'w') as file:\n",
    "    # Writing the header\n",
    "    #file.write(\"Year | Hares | Lynxes | Carrots\\n\")\n",
    "\n",
    "    #Writing the data\n",
    "    for entry in data:\n",
    "        file.write(f\"{entry[0]:>4} , {entry[1]:>5} , {entry[2]:>6} , {entry[3]:>7}\\n\")\n",
    "\n",
    "print(\"Data has been written to population.txt\")"
   ]
  },
  {
   "cell_type": "code",
   "execution_count": null,
   "id": "b1e98ae4-bc20-41e0-add4-5a7e41695900",
   "metadata": {},
   "outputs": [],
   "source": [
    "# load data into numpy array object\n",
    "data = np.loadtxt('populations.txt', delimiter=',')\n",
    "print(data)"
   ]
  },
  {
   "cell_type": "markdown",
   "id": "d0c27164-e634-406b-b1de-5ca508023039",
   "metadata": {},
   "source": [
    "### "
   ]
  },
  {
   "cell_type": "code",
   "execution_count": null,
   "id": "064a263d-7489-4c0c-9c2b-81c7f4a8a57b",
   "metadata": {},
   "outputs": [],
   "source": [
    "year, hares, lynxes, carrots = data.T # columns to variables\n",
    "print(year)"
   ]
  },
  {
   "cell_type": "code",
   "execution_count": null,
   "id": "7633027e-1090-4ae9-bcac-b11316db79fe",
   "metadata": {},
   "outputs": [],
   "source": [
    "# The mean population over time\n",
    "populations = data[:, 1:]\n",
    "populations"
   ]
  },
  {
   "cell_type": "code",
   "execution_count": null,
   "id": "af9ba9ad-1856-489f-86db-9ec6080aa6c1",
   "metadata": {},
   "outputs": [],
   "source": [
    "# sample standard deviations\n",
    "populations.std(axis=0)"
   ]
  },
  {
   "cell_type": "code",
   "execution_count": null,
   "id": "b70d5fbc-5e8f-4006-bd65-2de932847df7",
   "metadata": {},
   "outputs": [],
   "source": [
    "# which species has the highest population each year ?\n",
    "np.argmax(populations, axis=1)"
   ]
  },
  {
   "cell_type": "markdown",
   "id": "9d80be26-cfca-45d6-aa86-3bd2fd2be274",
   "metadata": {},
   "source": [
    "## Broadcasting\n",
    "\n",
    "Basic operations on numpy arrays (addition, etc) are element wise\n",
    "This works on array of the same size. Nevertheless, it's also possible to do operation on arrays of different sizes if NumPy can transform these arrays so that they all have same size: this conversion is called broadcasting.\n",
    "\n",
    "The image below gives an example of broadcasting:"
   ]
  },
  {
   "cell_type": "markdown",
   "id": "0f5ee023-88d4-4ec2-bede-0cb5823701a6",
   "metadata": {},
   "source": [
    "<img src=\"https://jakevdp.github.io/PythonDataScienceHandbook/figures/02.05-broadcasting.png\" alt=\"NumPy broadcasting\" width=\"500\" height=\"600\">"
   ]
  },
  {
   "cell_type": "code",
   "execution_count": null,
   "id": "90865df8-8b62-4019-9ccb-903a2328f53f",
   "metadata": {},
   "outputs": [],
   "source": [
    "a = np.tile(np.arange(0, 40, 10), (3, 1))\n",
    "print(a)\n",
    "\n",
    "print(\"************\")\n",
    "a = a.T\n",
    "print(a)"
   ]
  },
  {
   "cell_type": "code",
   "execution_count": null,
   "id": "969487f2-a6b8-4921-9182-930133ffa9d5",
   "metadata": {},
   "outputs": [],
   "source": [
    "b = np.array([0, 1, 2])\n",
    "b"
   ]
  },
  {
   "cell_type": "code",
   "execution_count": null,
   "id": "62a7d7ce-03a1-41ba-aaaf-26d43825ee02",
   "metadata": {},
   "outputs": [],
   "source": [
    "a + b"
   ]
  },
  {
   "cell_type": "code",
   "execution_count": null,
   "id": "992b0279-8377-4321-bdef-16d955b9fef1",
   "metadata": {},
   "outputs": [],
   "source": [
    "a = np.arange(0, 40, 10)\n",
    "a.shape"
   ]
  },
  {
   "cell_type": "code",
   "execution_count": null,
   "id": "e6dd5636-065b-42d5-a9be-b51f86247a67",
   "metadata": {},
   "outputs": [],
   "source": [
    "a = a[:, np.newaxis] # adds a new axis -> 2D\n",
    "a.shape"
   ]
  },
  {
   "cell_type": "code",
   "execution_count": null,
   "id": "1335309a-7237-4749-bf15-4889b6114207",
   "metadata": {},
   "outputs": [],
   "source": [
    "a"
   ]
  },
  {
   "cell_type": "code",
   "execution_count": null,
   "id": "f61cb7a5-8545-43e3-bb51-d7c50f3e3ced",
   "metadata": {},
   "outputs": [],
   "source": [
    "a + b"
   ]
  },
  {
   "cell_type": "markdown",
   "id": "58c062ad-c87d-4a92-a88e-90c30fad2eca",
   "metadata": {},
   "source": [
    "## Array Shape manipulation\n",
    "\n",
    "<b>Flattening</b>"
   ]
  },
  {
   "cell_type": "code",
   "execution_count": 17,
   "id": "3c38469c-fdf9-4818-8a2d-b29dfd91ec70",
   "metadata": {},
   "outputs": [
    {
     "data": {
      "text/plain": [
       "array([1, 2, 3, 4, 5, 6])"
      ]
     },
     "execution_count": 17,
     "metadata": {},
     "output_type": "execute_result"
    }
   ],
   "source": [
    "a = np.array([[1, 2, 3], [4, 5, 6]])\n",
    "a.ravel() # Return a contiguous flattened array. A 1-D array, containing the array"
   ]
  },
  {
   "cell_type": "code",
   "execution_count": 18,
   "id": "4cd9a77e-5dcf-48f3-8608-3351aa519f72",
   "metadata": {},
   "outputs": [
    {
     "data": {
      "text/plain": [
       "array([[1, 4],\n",
       "       [2, 5],\n",
       "       [3, 6]])"
      ]
     },
     "execution_count": 18,
     "metadata": {},
     "output_type": "execute_result"
    }
   ],
   "source": [
    "a.T # Transpose"
   ]
  },
  {
   "cell_type": "code",
   "execution_count": 19,
   "id": "081fec7f-4c8d-4b99-8abd-a69e02bef479",
   "metadata": {},
   "outputs": [
    {
     "data": {
      "text/plain": [
       "array([1, 4, 2, 5, 3, 6])"
      ]
     },
     "execution_count": 19,
     "metadata": {},
     "output_type": "execute_result"
    }
   ],
   "source": [
    "a.T.ravel()"
   ]
  },
  {
   "cell_type": "markdown",
   "id": "9c0e7026-8e70-43d6-9311-f3a774b123bc",
   "metadata": {},
   "source": [
    "<b>Reshaping</b>\n",
    "\n",
    "The inverse operation to flattening:"
   ]
  },
  {
   "cell_type": "code",
   "execution_count": 22,
   "id": "6291ea16-5689-43cf-ae74-c430029ac614",
   "metadata": {},
   "outputs": [
    {
     "name": "stdout",
     "output_type": "stream",
     "text": [
      "[[1 2 3]\n",
      " [4 5 6]]\n",
      "(2, 3)\n",
      "[[1 2 3]\n",
      " [4 5 6]]\n"
     ]
    }
   ],
   "source": [
    "print(a)\n",
    "print(a.shape)\n",
    "print(a)"
   ]
  },
  {
   "cell_type": "code",
   "execution_count": null,
   "id": "5152e120-b744-425f-a25e-8cdd68ace3fa",
   "metadata": {},
   "outputs": [],
   "source": []
  }
 ],
 "metadata": {
  "kernelspec": {
   "display_name": "Python 3 (ipykernel)",
   "language": "python",
   "name": "python3"
  },
  "language_info": {
   "codemirror_mode": {
    "name": "ipython",
    "version": 3
   },
   "file_extension": ".py",
   "mimetype": "text/x-python",
   "name": "python",
   "nbconvert_exporter": "python",
   "pygments_lexer": "ipython3",
   "version": "3.11.7"
  }
 },
 "nbformat": 4,
 "nbformat_minor": 5
}
