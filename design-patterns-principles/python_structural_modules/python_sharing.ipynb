{
 "cells": [
  {
   "cell_type": "markdown",
   "id": "bb4ec58c-d516-4e5a-a123-02d58b468f3c",
   "metadata": {},
   "source": [
    "# Sharing Code Across Repositories and Projects in Python"
   ]
  },
  {
   "attachments": {},
   "cell_type": "markdown",
   "id": "37eac16f-6777-4339-b2f2-b9bd2431dac2",
   "metadata": {},
   "source": [
    "## 1. Using Git Submodules\n",
    "<b>What:</b> Git submodules allow you to include one Git repository inside another. This is useful if you want to share a common library or piece of code across multiple repositories.\n",
    "\n",
    "<b>How:</b>\n",
    "\n",
    "1. Navigate to your project directory.<br>\n",
    "2. Run: `git submodule add <repository-url> <path>` to add the submodule.</br>\n",
    "3. Commit the changes.<br>\n",
    "4. When cloning the repository, use `git clone --recurse-submodules` to clone the repository and its submodules.\n",
    "   \n",
    "<b>Pros:</b>\n",
    "1. Keeps the history of the shared code separate.\n",
    "2. Easy to update the submodule to a new version.<br>\n",
    "<b>Cons:</b>\n",
    "Requires additional commands to update and manage submodules."
   ]
  },
  {
   "cell_type": "code",
   "execution_count": null,
   "id": "eebe7cf9-7dad-4174-915c-42ae7a2b38ca",
   "metadata": {},
   "outputs": [],
   "source": [
    "## Which Method to Choose?\n",
    "\n",
    "The best method depends on your specific needs:\n",
    "\n",
    "1. <b>Submodules</b>: are great for keeping hisotyr separate and shared code minimal.\n",
    "2. <b>Python package</b>: are ideal for well-defined libraries that need versioning.\n",
    "3. <b>Monorepos</b>: work well if you prefer a single repository for everything.\n",
    "4. <b>Shared libraries</b>: are good if you want clean separation and independent vision control.\n",
    "5. <b>Sym<b/>"
   ]
  }
 ],
 "metadata": {
  "kernelspec": {
   "display_name": "Python 3 (ipykernel)",
   "language": "python",
   "name": "python3"
  },
  "language_info": {
   "codemirror_mode": {
    "name": "ipython",
    "version": 3
   },
   "file_extension": ".py",
   "mimetype": "text/x-python",
   "name": "python",
   "nbconvert_exporter": "python",
   "pygments_lexer": "ipython3",
   "version": "3.11.7"
  }
 },
 "nbformat": 4,
 "nbformat_minor": 5
}
