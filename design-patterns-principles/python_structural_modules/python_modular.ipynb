{
 "cells": [
  {
   "cell_type": "markdown",
   "id": "28abf183-d989-4b52-b9d6-105d1211f972",
   "metadata": {},
   "source": [
    "# Modularizing Large Python Projects: Abstracting Business Logic into Reusable Packages for Clean and Focused Jupyter Notebooks"
   ]
  },
  {
   "cell_type": "markdown",
   "id": "069eb715-ea4b-41a2-9083-ac2697cfa4b8",
   "metadata": {},
   "source": [
    "For large Python projects, it's common to abstract and hide functional or business logic in packages and modulaes, leaving only the high-leval code, such as plotting or data visualization, in your Jupyter notebooks. This helps keep the note book clean, focused, and maintainable."
   ]
  },
  {
   "cell_type": "markdown",
   "id": "96b93cd5-8019-4b7e-874d-8e4dd0d8e475",
   "metadata": {},
   "source": [
    "## Steps to Abstract and Hide Logic in Packages and Modules\n",
    "\n",
    "<b>1. Organize Your Project Structure:</b>\n",
    "    Create a well-organized directory structure where you separate your business logic, utility, functions, and data processing code from the notebook.\n",
    "\n",
    "    Example directory structure:"
   ]
  },
  {
   "cell_type": "code",
   "execution_count": null,
   "id": "f296dd14-4893-4176-ba82-5eeb775180ae",
   "metadata": {},
   "outputs": [],
   "source": [
    "my_project/\n",
    "├── notebooks/\n",
    "│   └── analysis.ipynb\n",
    "├── my_package/\n",
    "│   ├── __init__.py\n",
    "│   ├── data_processing.py\n",
    "│   ├── business_logic.py\n",
    "│   └── utils.py\n",
    "└── setup.py"
   ]
  },
  {
   "cell_type": "markdown",
   "id": "277e335f-2a75-4424-a124-c542bc6629eb",
   "metadata": {},
   "source": [
    "<b>2. Create Python Modules:</b>\n",
    "    In the <b>`my_package`</b> directory, create Python files (<b>`py`</b> files) for each logical part of your project. Each file can contain related functions and classes.\n",
    "\n",
    "For example:<br>\n",
    "<b>`data_processing.py` - </b> Functions for loading, cleaning, and transforming data.<br>\n",
    "<b>`business_logic.py` - </b> Functions implementing the core logic or algorithms.<br>\n",
    "<b>`utils.py` - </b> Helper functions, constants, or resuable utilities."
   ]
  },
  {
   "cell_type": "markdown",
   "id": "7c0aa8a6-d2c1-4502-a421-798fce9416fa",
   "metadata": {},
   "source": [
    "Example <b>`busyness_logic.py`</b>"
   ]
  },
  {
   "cell_type": "code",
   "execution_count": null,
   "id": "cb21b484-b6bf-4d9c-986c-a13b4f3f626c",
   "metadata": {},
   "outputs": [],
   "source": [
    "def calculation_metrics(data):\n",
    "    # Your business logic here\n",
    "    result = some_complex_computation(data)\n",
    "    return result\n",
    "\n",
    "def some_complex_computation(data):\n",
    "    # Detailed implementation\n",
    "    return computed_value"
   ]
  },
  {
   "cell_type": "markdown",
   "id": "e389a3bc-f5d9-41bf-9885-6174cd81bea3",
   "metadata": {},
   "source": [
    "<b>3. Package Your Code:</b>\n",
    "Create an <b>`__init__.py`</b> file in your <b>`my_package`</b> directory to make it a Python package. You can expose only the necessary function or classes in this file by importing them.\n",
    "\n",
    "Example <b>`__init__.py`</b>"
   ]
  },
  {
   "cell_type": "code",
   "execution_count": null,
   "id": "83ccd202-5ac4-4271-b8b0-8755542a09bf",
   "metadata": {},
   "outputs": [],
   "source": [
    "from .data_processing import load_data, clean_data\n",
    "from .business_logic import calculate_metrics\n",
    "\n",
    "__all__ = ['load_data', 'clean_data', 'calculate_metrics']"
   ]
  },
  {
   "cell_type": "markdown",
   "id": "3e54f893-a629-4d00-8f49-b828e914e1c5",
   "metadata": {},
   "source": [
    "<b>4. Use the Package in Your Notebook:</b>\n",
    "In your Jupyter notebook, you can import and use the functions from your package. This keeps the notebook clean and focused and high-level task like data visuliation.\n",
    "\n",
    "Example <b>`analysis.ipynb`:</b>"
   ]
  },
  {
   "cell_type": "code",
   "execution_count": null,
   "id": "0840a471-7ea7-449c-8fcc-f2d516f80665",
   "metadata": {},
   "outputs": [],
   "source": [
    "# Importing the package\n",
    "from my_package import load_data, clean_data, calculate_metrics\n",
    "\n",
    "# Load and process data\n",
    "data = load_data('data.csv')\n",
    "cleaned_data = clean_data(data)\n",
    "\n",
    "# Calculate metrics using your business logic\n",
    "metrics = calculate_metrics(cleaned_data)\n",
    "\n",
    "# Plotting the results\n",
    "import matplotlib.pyplot as plt\n",
    "\n",
    "plt.plot(metrics['some_metric'])\n",
    "plt.title('Metrics Over Time')\n",
    "plt.show"
   ]
  },
  {
   "cell_type": "markdown",
   "id": "923002c6-dfc8-4b59-a169-78105466ec63",
   "metadata": {},
   "source": [
    "<b>Install the Package Locally (Optional):</b>\n",
    "If you want to install your package as a Python package, you can create a <b>`setup.py`</b> file in the root directory of your project and install it locally using pip.\n",
    "\n",
    "Example <b>`setup.py`:</b>"
   ]
  },
  {
   "cell_type": "code",
   "execution_count": null,
   "id": "8fd71cec-f7be-4cbd-bd94-184e8fb7436a",
   "metadata": {},
   "outputs": [],
   "source": [
    "from setuptooks import setup, find_packages\n",
    "\n",
    "setup(\n",
    "    name='my_package',\n",
    "    version='0.1',\n",
    "    packages=find_packages(),\n",
    "    install_requires=[\n",
    "        # List dependencies here\n",
    "    ],"
   ]
  },
  {
   "cell_type": "markdown",
   "id": "be8312d5-b40b-4912-90a5-bfb59f7cc747",
   "metadata": {},
   "source": [
    "To install:"
   ]
  },
  {
   "cell_type": "code",
   "execution_count": null,
   "id": "de692d34-efb5-416d-85e7-6b04eb0d6a82",
   "metadata": {},
   "outputs": [],
   "source": [
    "pipe install -e ."
   ]
  },
  {
   "cell_type": "markdown",
   "id": "6a1b923e-70de-490f-bb6b-67944bce1607",
   "metadata": {},
   "source": [
    "## Benfits of This Approach\n",
    "\n",
    "<b>Separation of Concerns:</b> By separating the logic, the notebook remains clean, focusing on high-level tasks like data visualization and exploration.<br>\n",
    "<b>Resuability:</b> The code in your package can be reused accross different notebooks or scripts, promoting code reuse.<br>\n",
    "<b>Maintainability:</b> This structure makes it easier to maintain and test your code, as the logic is modular and well-organized.<br>\n",
    "<b>Collaboration:</b> In a team environment, different team members can work on different parts of the project (e.g., business logic vs visualization) without conflicts.\n",
    "\n",
    "This approach ensures that your Jupyter notesbooks are streamlined and easy to understand, while the complext logic is encapsulated in well-structured, reusable modules."
   ]
  },
  {
   "cell_type": "code",
   "execution_count": null,
   "id": "99ecc6eb-2cc8-406b-891f-ca22dbe5e9cb",
   "metadata": {},
   "outputs": [],
   "source": []
  }
 ],
 "metadata": {
  "kernelspec": {
   "display_name": "Python 3 (ipykernel)",
   "language": "python",
   "name": "python3"
  },
  "language_info": {
   "codemirror_mode": {
    "name": "ipython",
    "version": 3
   },
   "file_extension": ".py",
   "mimetype": "text/x-python",
   "name": "python",
   "nbconvert_exporter": "python",
   "pygments_lexer": "ipython3",
   "version": "3.11.7"
  }
 },
 "nbformat": 4,
 "nbformat_minor": 5
}
