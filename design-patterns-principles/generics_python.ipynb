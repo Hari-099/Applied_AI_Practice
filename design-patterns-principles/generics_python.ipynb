{
 "cells": [
  {
   "cell_type": "markdown",
   "id": "df487efc-8272-4a9d-80a1-9f47cc019a12",
   "metadata": {},
   "source": [
    "# Generics in Python\n",
    "\n",
    "Python, being dynamically typed. dosen't have generics in the same way as Java.<br> However, starting with Python 3.5, the <b>`typing`</b> module was introduced to provide type hints and support for generics."
   ]
  },
  {
   "cell_type": "markdown",
   "id": "6429c004-c0b4-4d81-a3ce-5409b975ac0f",
   "metadata": {},
   "source": [
    "<b>Example: Using Generics in Python</b>"
   ]
  },
  {
   "cell_type": "code",
   "execution_count": 2,
   "id": "123a4855-28ad-477d-bcb4-a14fd3e004a1",
   "metadata": {},
   "outputs": [
    {
     "name": "stdout",
     "output_type": "stream",
     "text": [
      "2\n",
      "b\n"
     ]
    }
   ],
   "source": [
    "from typing import TypeVar, Generic, List\n",
    "\n",
    "T = TypeVar('T') # Define a generic type variable\n",
    "\n",
    "class Stack(Generic[T]):\n",
    "    def __init__(self):\n",
    "        self.items: List[T] = []\n",
    "\n",
    "    def push(self, item: T):\n",
    "        self.items.append(item)\n",
    "\n",
    "    def pop(self) -> T:\n",
    "        return self.items.pop()\n",
    "\n",
    "# Example usage\n",
    "int_stack = Stack[int]()\n",
    "int_stack.push(1)\n",
    "int_stack.push(2)\n",
    "print(int_stack.pop())  # Output: 2\n",
    "\n",
    "str_stack = Stack[str]()\n",
    "str_stack.push(\"a\")\n",
    "str_stack.push(\"b\")\n",
    "print(str_stack.pop())  # Output: \"b\""
   ]
  },
  {
   "cell_type": "code",
   "execution_count": null,
   "id": "36f8fd71-c010-4a48-9297-8d28b5360d70",
   "metadata": {},
   "outputs": [],
   "source": []
  }
 ],
 "metadata": {
  "kernelspec": {
   "display_name": "Python 3 (ipykernel)",
   "language": "python",
   "name": "python3"
  },
  "language_info": {
   "codemirror_mode": {
    "name": "ipython",
    "version": 3
   },
   "file_extension": ".py",
   "mimetype": "text/x-python",
   "name": "python",
   "nbconvert_exporter": "python",
   "pygments_lexer": "ipython3",
   "version": "3.11.7"
  }
 },
 "nbformat": 4,
 "nbformat_minor": 5
}
