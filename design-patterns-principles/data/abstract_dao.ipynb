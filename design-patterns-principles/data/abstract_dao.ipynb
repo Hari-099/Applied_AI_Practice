{
 "cells": [
  {
   "cell_type": "markdown",
   "id": "d1d58eda-e20e-4659-9395-eb159b2f3cad",
   "metadata": {},
   "source": [
    "# Implementing a DAO Pattern with PostgreSQL Using Python\n",
    "\n",
    "# Using PostgreSQL with GenericDAO, BaseDAO, and UserDAO\n",
    "\n",
    "To use PostgreSQL with `GenericDAO`, `BaseDAO`, and `UserDAO`, you'll need to adjust the implementation to use a PostgreSQL driver like `psycopg2`. Below is a detailed plan on how to adapt the existing code:\n",
    "\n",
    "## 1. Install psycopg2\n",
    "\n",
    "First, install the `psycopg2` package. You can do this using `pip`:\n",
    "\n",
    "```bash\n",
    "pip install psycopg2-binary\n"
   ]
  },
  {
   "cell_type": "code",
   "execution_count": null,
   "id": "434b58c2-aac6-4a99-9faf-5acfe03121f2",
   "metadata": {},
   "outputs": [],
   "source": [
    "pip install psycopg2\n"
   ]
  },
  {
   "cell_type": "markdown",
   "id": "5f80dc2e-1dc5-48af-8023-4ce238dbb3bd",
   "metadata": {},
   "source": [
    "## 2. Define the Generic DAO Interface (GenericDAO)\n",
    "\n",
    "The `GenericDAO` interface remains unchanged. It should define common methods for CRUD operations that your DAOs will implement. This ensures that your DAO layer maintains a consistent interface across different storage mechanisms."
   ]
  },
  {
   "cell_type": "code",
   "execution_count": null,
   "id": "a943b13c-a372-42cf-aa9c-530da04b234b",
   "metadata": {},
   "outputs": [],
   "source": [
    "from abc import ABC, abstractmethod\n",
    "\n",
    "class GenericDAO(ABC):\n",
    "\n",
    "    @abstractmethod\n",
    "    def create(self, obj):\n",
    "        pass\n",
    "\n",
    "    @abstractmethod\n",
    "    def read(self, obj_id):\n",
    "        pass\n",
    "\n",
    "    @abstractmethod\n",
    "    def update(self, obj):\n",
    "        pass\n",
    "    \n",
    "    @abstractmethod\n",
    "    def delete(self, obj_id):\n",
    "        pass\n"
   ]
  },
  {
   "cell_type": "markdown",
   "id": "64baa443-3370-4c79-a330-ffa3a147d6c6",
   "metadata": {},
   "source": [
    "## 3. Implement the Base DAO Class (BaseDAO) for PostgreSQL\n",
    "\n",
    "Adjust the `BaseDAO` class to work with PostgreSQL using `psycopg2`. This involves setting up the SQLAlchemy engine with PostgreSQL and managing sessions appropriately."
   ]
  },
  {
   "cell_type": "code",
   "execution_count": null,
   "id": "ad9649da-d19b-496d-a658-1ef32f7efe1a",
   "metadata": {},
   "outputs": [],
   "source": [
    "import psycopg2\n",
    "from typing import Any\n",
    "\n",
    "class BaseDAO(GenericDAO):\n",
    "\n",
    "    def __init__(self, db_config: dict):\n",
    "        self.connection = psycopg2.connect(\n",
    "            dbname=db_config['dbname'],\n",
    "            user=db_config['user'],\n",
    "            password=db_config['password'],\n",
    "            host=db_config['host'],\n",
    "            port=db_config['port']\n",
    "        )\n",
    "\n",
    "    def create(self, obj: Any):\n",
    "        cursor = self.connection.cursor()\n",
    "        cursor.execute(\"INSERT INTO table_name (columns) VALUES (%s)\", (obj,))\n",
    "        self.connection.commit()\n",
    "\n",
    "    def read(self, obj_id: int) -> Any:\n",
    "        cursor = self.connection.cursor()\n",
    "        cursor.execute(\"SELECT * FROM table_name WHERE id=%s\", (obj_id,))\n",
    "        return cursor.fetchone()\n",
    "\n",
    "    def update(self, obj: Any):\n",
    "        cursor = self.connection.cursor()\n",
    "        cursor.execute(\"UPDATE table_name SET column=%s WHERE id=%s\", (obj, obj.id))\n",
    "        self.connection.commit()\n",
    "\n",
    "    def delete(self, obj_id: int):\n",
    "        cursor = self.connection.cursor()\n",
    "        cursor.execute(\"DELETE FROM table_name WHERE id=%s\", (obj_id,))\n",
    "        self.connection.commit()\n"
   ]
  },
  {
   "cell_type": "markdown",
   "id": "db03b78f-677a-4116-a745-b5a257316b20",
   "metadata": {},
   "source": [
    "### 4. Create Specific DAO Classes (`UserDAO`)\n",
    "Adjust the UserDAO to handle user-specific operations for PostgreSQL."
   ]
  },
  {
   "cell_type": "code",
   "execution_count": null,
   "id": "ecc21f30-bab4-4974-bae9-f5663528cd19",
   "metadata": {},
   "outputs": [],
   "source": [
    "class UserDAO(BaseDAO):\n",
    "\n",
    "    def __init__(self, db_config: dict):\n",
    "        super().__init__(db_config)\n",
    "\n",
    "    def create(self, user: dict):\n",
    "        cursor = self.connection.cursor()\n",
    "        cursor.execute(\"INSERT INTO users (username, email) VALUES (%s, %s)\", \n",
    "                       (user[\"username\"], user[\"email\"]))\n",
    "        self.connection.commit()\n",
    "\n",
    "    def read(self, user_id: int) -> dict:\n",
    "        cursor = self.connection.cursor()\n",
    "        cursor.execute(\"SELECT * FROM users WHERE id=%s\", (user_id,))\n",
    "        return cursor.fetchone()\n",
    "\n",
    "    def update(self, user: dict):\n",
    "        cursor = self.connection.cursor()\n",
    "        cursor.execute(\"UPDATE users SET username=%s, email=%s WHERE id=%s\", \n",
    "                       (user[\"username\"], user[\"email\"], user[\"id\"]))\n",
    "        self.connection.commit()\n",
    "\n",
    "    def delete(self, user_id: int):\n",
    "        cursor = self.connection.cursor()\n",
    "        cursor.execute(\"DELETE FROM users WHERE id=%s\", (user_id,))\n",
    "        self.connection.commit()\n"
   ]
  },
  {
   "cell_type": "markdown",
   "id": "70f2e7d0-f73c-450e-8ee1-d5ff8c2f86dc",
   "metadata": {},
   "source": [
    "### 5. Package Structure\n",
    "Organize your code into a modular package structure similar to before."
   ]
  },
  {
   "cell_type": "code",
   "execution_count": null,
   "id": "7c6fa1c0-e9a5-490c-a711-c2b5c5a3fc55",
   "metadata": {},
   "outputs": [],
   "source": [
    "my_dao_package/\n",
    "├── __init__.py\n",
    "├── generic_dao.py\n",
    "├── base_dao.py\n",
    "└── user_dao.py\n"
   ]
  },
  {
   "cell_type": "markdown",
   "id": "64a920cd-ba11-468b-ac69-d4369437a9fe",
   "metadata": {},
   "source": [
    "In `__init__.py`, initialize your package:"
   ]
  },
  {
   "cell_type": "code",
   "execution_count": null,
   "id": "86c03b8c-db71-4886-b3df-cfd78b23bf4e",
   "metadata": {},
   "outputs": [],
   "source": [
    "from .generic_dao import GenericDAO\n",
    "from .base_dao import BaseDAO\n",
    "from .user_dao import UserDAO\n",
    "\n",
    "__all__ = [\"GenericDAO\", \"BaseDAO\", \"UserDAO\"]\n"
   ]
  },
  {
   "cell_type": "markdown",
   "id": "d3a84e27-c040-4f1d-ae74-841ce627e985",
   "metadata": {},
   "source": [
    "This setup allows you to create a reusable, PostgreSQL-compatible DAO package that can be used across multiple projects."
   ]
  },
  {
   "cell_type": "code",
   "execution_count": null,
   "id": "5785ed32-19ca-4ab1-8cc7-eb380a6c8721",
   "metadata": {},
   "outputs": [],
   "source": []
  }
 ],
 "metadata": {
  "kernelspec": {
   "display_name": "Python 3 (ipykernel)",
   "language": "python",
   "name": "python3"
  },
  "language_info": {
   "codemirror_mode": {
    "name": "ipython",
    "version": 3
   },
   "file_extension": ".py",
   "mimetype": "text/x-python",
   "name": "python",
   "nbconvert_exporter": "python",
   "pygments_lexer": "ipython3",
   "version": "3.11.7"
  }
 },
 "nbformat": 4,
 "nbformat_minor": 5
}
