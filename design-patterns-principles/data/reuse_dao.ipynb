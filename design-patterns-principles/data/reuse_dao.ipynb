{
 "cells": [
  {
   "cell_type": "markdown",
   "id": "09f683ee-f0b8-49c2-b590-c21913fcfbb1",
   "metadata": {},
   "source": [
    "# Reusing the Data Access Object (DAO) Code in Multiple Python Projects\n",
    "\n",
    "Reusing the Data Access Object (DAO) code in multiple Python projects can be achieved by properly abstracting and packaging the DAO layer. Here’s how you can make your DAO reusable:\n",
    "\n",
    "## 1. Abstract DAO Code into a Standalone Package\n",
    "\n",
    "### Directory Structure for the DAO Package\n",
    "\n",
    "You need to refactor your DAO code into a standalone package. Here's an example of what that might look like:\n"
   ]
  },
  {
   "cell_type": "code",
   "execution_count": null,
   "id": "3240ef0f-06d5-44b3-a818-fd4ec0decdea",
   "metadata": {},
   "outputs": [],
   "source": [
    "my_dao_package/\n",
    "│\n",
    "├── my_dao/\n",
    "│   ├── __init__.py\n",
    "│   ├── base_dao.py      # Base DAO class\n",
    "│   ├── user_dao.py      # User DAO with CRUD operations\n",
    "│   └── session.py       # Session management\n",
    "│\n",
    "├── tests/               # Unit tests for your DAOs\n",
    "│   ├── __init__.py\n",
    "│   └── test_user_dao.py\n",
    "│\n",
    "├── setup.py             # Package setup script\n",
    "└── README.md            # Project description\n"
   ]
  },
  {
   "cell_type": "markdown",
   "id": "7b372401-4e20-4d17-bf3b-adcf8dfd4d5e",
   "metadata": {},
   "source": [
    "## Example Code\n",
    "\n",
    "### `my_dao/base_dao.py`"
   ]
  },
  {
   "cell_type": "code",
   "execution_count": null,
   "id": "b489ae79-924e-42e0-b691-6e631ce5b1f2",
   "metadata": {},
   "outputs": [],
   "source": [
    "class BaseDAO:\n",
    "    def __init__(self, session):\n",
    "        self.session = session\n",
    "\n",
    "    def add(self, entity):\n",
    "        self.session.add(entity)\n",
    "        self.session.commit()\n",
    "\n",
    "    def delete(self, entity):\n",
    "        self.session.delete(entity)\n",
    "        self.session.commit()\n"
   ]
  },
  {
   "cell_type": "markdown",
   "id": "8c13df0a-5924-416d-8825-920871a86d03",
   "metadata": {},
   "source": [
    "### `my_dao/user_dao.py`"
   ]
  },
  {
   "cell_type": "code",
   "execution_count": null,
   "id": "fa19b6f5-0102-4857-8695-72434e560170",
   "metadata": {},
   "outputs": [],
   "source": [
    "from .base_dao import BaseDAO\n",
    "from .models import User\n",
    "\n",
    "class UserDAO(BaseDAO):\n",
    "    def get_user_by_id(self, user_id):\n",
    "        return self.session.query(User).filter(User.id == user_id).first()\n",
    "\n",
    "    def create_user(self, user):\n",
    "        self.add(user)\n"
   ]
  },
  {
   "cell_type": "markdown",
   "id": "fdff1dbb-14ee-413d-99df-302dde305996",
   "metadata": {},
   "source": [
    "### `my_dao/session.py`"
   ]
  },
  {
   "cell_type": "code",
   "execution_count": null,
   "id": "26dead8a-0026-4183-925d-802cafe9d757",
   "metadata": {},
   "outputs": [],
   "source": [
    "from sqlalchemy import create_engine\n",
    "from sqlalchemy.orm import sessionmaker\n",
    "\n",
    "DATABASE_URL = \"sqlite:///./test.db\"\n",
    "\n",
    "engine = create_engine(DATABASE_URL)\n",
    "SessionLocal = sessionmaker(autocommit=False, autoflush=False, bind=engine)\n",
    "\n",
    "def get_session():\n",
    "    return SessionLocal()\n"
   ]
  },
  {
   "cell_type": "markdown",
   "id": "44c9454f-b987-48ad-a932-71307b8741fb",
   "metadata": {},
   "source": [
    "### `setup.py`"
   ]
  },
  {
   "cell_type": "code",
   "execution_count": null,
   "id": "d0734f3b-df4b-4f17-a8ee-203d8580b454",
   "metadata": {},
   "outputs": [],
   "source": [
    "from setuptools import find_packages, setup\n",
    "\n",
    "setup(\n",
    "    name='my_dao_package',\n",
    "    version='0.1.0',\n",
    "    packages=find_packages(),\n",
    "    install_requires=[\n",
    "        'SQLAlchemy==1.4.22',\n",
    "    ],\n",
    "    author=\"Your Name\",\n",
    "    author_email=\"your.email@example.com\",\n",
    "    description=\"A reusable DAO package for FastAPI\",\n",
    "    long_description=open('README.md').read(),\n",
    "    long_description_content_type='text/markdown',\n",
    "    url=\"https://github.com/yourusername/my_dao_package\",\n",
    ")\n"
   ]
  },
  {
   "cell_type": "markdown",
   "id": "56c47135-6500-40e2-869f-af383896d2d4",
   "metadata": {},
   "source": [
    "## 2. Publish the Package\n",
    "\n",
    "### Local Installation\n",
    "\n",
    "If you're sharing the package only within your organization, you can install it locally. Here's how to do it:\n",
    "\n",
    "1. **Create a Distribution Package**  \n",
    "   Use `setuptools` to create a distribution package. You can do this by running:\n",
    "\n",
    "   ```bash\n",
    "   python setup.py sdist bdist_wheel\n"
   ]
  },
  {
   "cell_type": "code",
   "execution_count": null,
   "id": "c5fdc841-2168-44bd-96cf-0db9a7a8d5ab",
   "metadata": {},
   "outputs": [],
   "source": [
    "pip install -e my_dao_package/"
   ]
  },
  {
   "cell_type": "markdown",
   "id": "23be55db-b704-4b73-adfd-c7bff8c4b371",
   "metadata": {},
   "source": [
    "### Upload to PyPI (Optional)\n",
    "\n",
    "If you want to share the package publicly or more broadly, you can publish it on PyPI. Here’s how to do it:\n",
    "\n",
    "1. **Create a Distribution Package**  \n",
    "   Ensure you have a distribution package created using `setuptools`:\n",
    "\n",
    "   ```bash\n",
    "   python setup.py sdist bdist_wheel\n"
   ]
  },
  {
   "cell_type": "code",
   "execution_count": null,
   "id": "283b008d-e142-4055-8eac-95554ae7a5d8",
   "metadata": {},
   "outputs": [],
   "source": [
    "# Build the package\n",
    "python setup.py sdist bdist_wheel\n",
    "\n",
    "# Install twine if you don't have it already\n",
    "pip install twine\n",
    "\n",
    "# Upload the package\n",
    "twine upload dist/*\n"
   ]
  },
  {
   "cell_type": "markdown",
   "id": "b8505727-983d-4d86-9b8a-49e7fbe579f3",
   "metadata": {},
   "source": [
    "## 3. Use the Package in Other Projects\n",
    "\n",
    "### Install the Package\n",
    "\n",
    "In your new projects, you can install the package via `pip`. Here’s how to do it:\n",
    "\n",
    "1. **Install from PyPI**  \n",
    "   If your package is published on PyPI, install it using `pip`:\n",
    "\n",
    "   ```bash\n",
    "   pip install your-package-name\n"
   ]
  },
  {
   "cell_type": "code",
   "execution_count": null,
   "id": "8a8d554f-6324-4ae3-a0c5-9c735bc719f8",
   "metadata": {},
   "outputs": [],
   "source": [
    "pip install my_dao_package"
   ]
  },
  {
   "cell_type": "markdown",
   "id": "401b480c-039a-409e-8eb2-74d9bf33920b",
   "metadata": {},
   "source": [
    "### Use the DAO in Your New Project\n",
    "\n",
    "#### Example Project Structure\n",
    "\n",
    "Here’s an example of how you might structure a new project that uses the DAO package:\n",
    "\n"
   ]
  },
  {
   "cell_type": "code",
   "execution_count": null,
   "id": "29b1cdd9-ddd1-4f60-9c4d-a0046f72c9a4",
   "metadata": {},
   "outputs": [],
   "source": [
    "new_project/\n",
    "│\n",
    "├── app/\n",
    "│   └── main.py\n",
    "│\n",
    "├── models/\n",
    "│   └── user.py\n",
    "│\n",
    "└── requirements.txt\n"
   ]
  },
  {
   "cell_type": "markdown",
   "id": "7e8ab781-727a-4bd3-aca9-2e6224ee6d15",
   "metadata": {},
   "source": [
    "### `app/main.py`"
   ]
  },
  {
   "cell_type": "code",
   "execution_count": null,
   "id": "72d8ebaa-6159-4dca-88b7-29b70f015347",
   "metadata": {},
   "outputs": [],
   "source": [
    "from my_dao.session import get_session\n",
    "from my_dao.user_dao import UserDAO\n",
    "from models.user import User  # Assuming you have defined the User model similarly as before\n",
    "\n",
    "def main():\n",
    "    session = get_session()\n",
    "    user_dao = UserDAO(session)\n",
    "    \n",
    "    # Create a new user\n",
    "    new_user = User(name=\"John Doe\", email=\"john@example.com\")\n",
    "    user_dao.create_user(new_user)\n",
    "    \n",
    "    # Fetch the user by id\n",
    "    fetched_user = user_dao.get_user_by_id(new_user.id)\n",
    "    print(f\"User fetched: {fetched_user.name}\")\n",
    "\n",
    "if __name__ == '__main__':\n",
    "    main()\n"
   ]
  },
  {
   "cell_type": "markdown",
   "id": "94e41bad-a361-4037-bc03-606a45ae6d89",
   "metadata": {},
   "source": [
    "With this setup, you've successfully modularized your DAO code into a reusable package, making it easy to include in other projects."
   ]
  },
  {
   "cell_type": "code",
   "execution_count": null,
   "id": "13f20043-651c-4d50-930a-cd0ece9c1c64",
   "metadata": {},
   "outputs": [],
   "source": []
  }
 ],
 "metadata": {
  "kernelspec": {
   "display_name": "Python 3 (ipykernel)",
   "language": "python",
   "name": "python3"
  },
  "language_info": {
   "codemirror_mode": {
    "name": "ipython",
    "version": 3
   },
   "file_extension": ".py",
   "mimetype": "text/x-python",
   "name": "python",
   "nbconvert_exporter": "python",
   "pygments_lexer": "ipython3",
   "version": "3.11.7"
  }
 },
 "nbformat": 4,
 "nbformat_minor": 5
}
