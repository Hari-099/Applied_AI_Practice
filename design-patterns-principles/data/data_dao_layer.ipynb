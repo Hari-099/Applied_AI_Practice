{
 "cells": [
  {
   "cell_type": "markdown",
   "id": "3c842b23-c5a2-4d84-8173-7410f5f772c6",
   "metadata": {},
   "source": [
    "# Creating a Reusable and Modular DAO Layer in Python using SQLAlchemy\n",
    "\n",
    "This setup segregates configurations, database initialization, base models, session management, and the Data Access Object (DAO) layer to achieve a clean, modular, and reusable design.\n",
    "\n",
    "## 1. Configurations and Settings\n",
    "\n",
    "Here's how you could approach it:\n",
    "\n",
    "### Steps:\n",
    "\n",
    "1. **Configurations and Settings**\n",
    "2. **Database Initialization**\n",
    "3. **Base Model Definition**\n",
    "4. **Session Management**\n",
    "5. **DAO Layer**\n",
    "6. **Full Implementation**"
   ]
  },
  {
   "cell_type": "code",
   "execution_count": null,
   "id": "e53ef5e4-0e21-4022-a051-f9d55b6c442a",
   "metadata": {},
   "outputs": [],
   "source": [
    "# settings.py\n",
    "\n",
    "class Settings:\n",
    "    DEFAULT_SQLALCHEMY_DATABASE_URI = 'sqlite:///./test.db'\n",
    "\n",
    "settings = Settings()"
   ]
  },
  {
   "cell_type": "markdown",
   "id": "11738b43-6eff-4a32-a9d1-5591b0015cb9",
   "metadata": {},
   "source": [
    "2. **Database Initialization**"
   ]
  },
  {
   "cell_type": "code",
   "execution_count": null,
   "id": "81ceaf14-2793-439e-b19f-79f6d387dbcb",
   "metadata": {},
   "outputs": [],
   "source": [
    "# db.py\n",
    "\n",
    "from sqlalchemy import create_engine\n",
    "from sqlalchemy.orm import sessionmaker\n",
    "from contextlib import contextmanager\n",
    "from setting import settings\n",
    "\n",
    "SQLALCHEMY_DATABASE_URL = settings.DEFAULT_SQLALCHEMY_DATABASE_URI\n",
    "engine = create_engine(SQLALCHEMY_DATABASE_URL)\n",
    "SessionLocal = sessionmaker(autocommit=False, autoflush=False, bind=engine)\n",
    "\n",
    "@contextmanager\n",
    "def session_scope():\n",
    "    session = SessionLocal()\n",
    "    try:\n",
    "        yield session\n",
    "        session.commit()\n",
    "    except Exception as e:\n",
    "        session.rollback()\n",
    "        raise\n",
    "    finally:\n",
    "        session.close()\n"
   ]
  },
  {
   "cell_type": "markdown",
   "id": "e887b91f-4363-422f-849d-d205fac75007",
   "metadata": {},
   "source": [
    "3. **Base Model Definition**"
   ]
  },
  {
   "cell_type": "code",
   "execution_count": null,
   "id": "1e10e7cb-ec5b-4766-90e5-5758984950a8",
   "metadata": {},
   "outputs": [],
   "source": [
    "# base.py\n",
    "\n",
    "from sqlalchemy.ext.declarative import as_declarative, declared_attr\n",
    "\n",
    "@as_declarative()\n",
    "class Base:\n",
    "    id: Any\n",
    "    __name__: str\n",
    "\n",
    "    @declared_attr\n",
    "    def __tablename__(cls) -> str:\n",
    "        return cls.__name__.lower()\n"
   ]
  },
  {
   "cell_type": "markdown",
   "id": "cbb8ba04-1c54-4bd4-b578-86e2acc8a6d8",
   "metadata": {},
   "source": [
    "## 4. Session Management (Revised)\n",
    "\n",
    "Refer to `db.py` above for the `session_scope`.\n",
    "\n",
    "## 5. Implementing the DAO Layer\n",
    "\n",
    "### Generic DAO Implementation:"
   ]
  },
  {
   "cell_type": "code",
   "execution_count": null,
   "id": "2535c8d8-120c-4e78-85c7-f6ede56bb21b",
   "metadata": {},
   "outputs": [],
   "source": [
    "# dao.py\n",
    "\n",
    "from typing import Type, TypeVar, Generic, List\n",
    "from sqlalchemy.orm import Session\n",
    "from base import Base\n",
    "\n",
    "T = TypeVar('T', bound=Base)\n",
    "\n",
    "class GenericDAO(Generic[T]):\n",
    "    def __init__(self, model: Type[T]):\n",
    "        self._model = model\n",
    "\n",
    "    def get_all(self, db: Session) -> List[T]:\n",
    "        return db.query(self._model).all()\n",
    "\n",
    "    def get(self, db: Session, entity_id: Any) -> T:\n",
    "        return db.query(self._model).filter(self._model.id == entity_id).first()\n",
    "\n",
    "    def create(self, db: Session, obj_in: T) -> T:\n",
    "        db.add(obj_in)\n",
    "        db.commit()\n",
    "        db.refresh(obj_in)\n",
    "        return obj_in\n",
    "\n",
    "    def update(self, db: Session, db_obj: T, obj_in) -> T:\n",
    "        for key, value in obj_in.items():\n",
    "            setattr(db_obj, key, value)\n",
    "        db.commit()\n",
    "        db.refresh(db_obj)\n",
    "        return db_obj\n",
    "\n",
    "    def remove(self, db: Session, entity_id: Any) -> T:\n",
    "        obj = db.query(self._model).get(entity_id)\n",
    "        db.delete(obj)\n",
    "        db.commit()\n",
    "        return obj\n"
   ]
  },
  {
   "cell_type": "markdown",
   "id": "ec990638-b0ef-4fc7-988d-308a9bfb8901",
   "metadata": {},
   "source": [
    "## Example Usage\n",
    "\n",
    "### Define Your Models"
   ]
  },
  {
   "cell_type": "code",
   "execution_count": null,
   "id": "746d73d4-e7ab-44d9-a436-5b045326616d",
   "metadata": {},
   "outputs": [],
   "source": [
    "# models.py\n",
    "\n",
    "from sqlalchemy import Column, Integer, String\n",
    "from base import Base\n",
    "\n",
    "class User(Base):\n",
    "    id = Column(Integer, primary_key=True, index=True)\n",
    "    name = Column(String, index=True)\n",
    "    email = Column(String, unique=True, index=True)\n"
   ]
  },
  {
   "cell_type": "markdown",
   "id": "de428ad0-0c8d-45ea-9c6d-c1ec4f9b90df",
   "metadata": {},
   "source": [
    "### Using the DAO"
   ]
  },
  {
   "cell_type": "code",
   "execution_count": null,
   "id": "bf0c0cdf-a897-42cb-bfa5-646c36dc86b5",
   "metadata": {},
   "outputs": [],
   "source": [
    "# main.py\n",
    "\n",
    "from db import session_scope\n",
    "from models import User\n",
    "from dao import GenericDAO\n",
    "\n",
    "def main():\n",
    "    user_dao = GenericDAO(User)\n",
    "    \n",
    "    with session_scope() as session:\n",
    "        new_user = User(name=\"John Doe\", email=\"john.doe@example.com\")\n",
    "        user_dao.create(session, new_user)\n",
    "\n",
    "        all_users = user_dao.get_all(session)\n",
    "        print(all_users)\n",
    "\n",
    "if __name__ == \"__main__\":\n",
    "    main()\n"
   ]
  },
  {
   "cell_type": "markdown",
   "id": "6c71dca3-07d5-4f7e-bfc8-c87a94f03885",
   "metadata": {},
   "source": [
    "## Conclusion\n",
    "\n",
    "By segregating the code into configuration, database initialization, base models, session management, and the DAO layer, we achieve a clean, modular, and reusable design, making it easier to manage and extend."
   ]
  },
  {
   "cell_type": "code",
   "execution_count": null,
   "id": "f44fde1c-7573-477b-a748-65c581b5fb46",
   "metadata": {},
   "outputs": [],
   "source": []
  }
 ],
 "metadata": {
  "kernelspec": {
   "display_name": "Python 3 (ipykernel)",
   "language": "python",
   "name": "python3"
  },
  "language_info": {
   "codemirror_mode": {
    "name": "ipython",
    "version": 3
   },
   "file_extension": ".py",
   "mimetype": "text/x-python",
   "name": "python",
   "nbconvert_exporter": "python",
   "pygments_lexer": "ipython3",
   "version": "3.11.7"
  }
 },
 "nbformat": 4,
 "nbformat_minor": 5
}
