{
 "cells": [
  {
   "cell_type": "markdown",
   "id": "b9d3ab77-ad19-4a13-a66f-dc57db9b72f5",
   "metadata": {},
   "source": [
    "# Project Architecture: Modular and Reusable Database Layer Design with FastAPI\n",
    "\n",
    "## 1. Web Layer\n",
    "This is the presentation layer that handles HTTP requests and responses, using FastAPI.\n",
    "\n",
    "## 2. Service Layer\n",
    "Contains business logic, acting as a mediator between the Web Layer and the Data & DAO Layer.\n",
    "\n",
    "## 3. Data & DAO Layer\n",
    "Handles database interactions, including configuration, initialization, base models, session management, and DAOs.\n",
    "\n"
   ]
  },
  {
   "cell_type": "markdown",
   "id": "b524fd26-a717-4aca-aa94-d04a158622cf",
   "metadata": {},
   "source": [
    "## Project Structure"
   ]
  },
  {
   "cell_type": "code",
   "execution_count": null,
   "id": "6cf99111-6149-4cf5-8388-86270c09e2e5",
   "metadata": {},
   "outputs": [],
   "source": [
    "project_root/\n",
    "│\n",
    "├── app/\n",
    "│   ├── __init__.py\n",
    "│   ├── main.py                 # Entry point for the FastAPI application\n",
    "│   │\n",
    "│   ├── api/                    # Web layer with API routes\n",
    "│   │   ├── __init__.py\n",
    "│   │   └── v1/\n",
    "│   │       ├── __init__.py\n",
    "│   │       └── users.py        # API routes for User operations\n",
    "│   │\n",
    "│   ├── core/                   # Core settings and configuration\n",
    "│   │   ├── __init__.py\n",
    "│   │   └── config.py           # Configuration file\n",
    "│   │\n",
    "│   ├── db/                     # Database initialization and session management\n",
    "│   │   ├── __init__.py\n",
    "│   │   ├── base_model.py       # Base model definition\n",
    "│   │   ├── init_db.py          # Database initialization script\n",
    "│   │   └── session.py          # Session management\n",
    "│   │\n",
    "│   ├── models/                 # Database models\n",
    "│   │   ├── __init__.py\n",
    "│   │   └── user.py             # User model\n",
    "│   │\n",
    "│   ├── schemas/                # Pydantic models for request and response schemas\n",
    "│   │   ├── __init__.py\n",
    "│   │   └── user.py             # Schemas related to User\n",
    "│   │\n",
    "│   ├── services/               # Business logic (Service Layer)\n",
    "│   │   ├── __init__.py\n",
    "│   │   └── user_service.py     # User service for business logic\n",
    "│   │\n",
    "│   └── dao/                    # Data Access Objects (DAO Layer)\n",
    "│       ├── __init__.py\n",
    "│       └── user_dao.py         # DAO for User model\n",
    "│\n",
    "└── requirements.txt            # Dependencies\n"
   ]
  },
  {
   "cell_type": "markdown",
   "id": "63f61a7f-2881-4daf-ab15-cfab8b6e0919",
   "metadata": {},
   "source": [
    "# Description\n",
    "\n",
    "## app/main.py\n",
    "The entry point for the FastAPI application.\n",
    "\n",
    "## app/api/\n",
    "Contains sub-folders for different versions of the API.  \n",
    "Each version folder includes route handlers for entities like users.\n",
    "\n",
    "## app/core/config.py\n",
    "Configuration file to manage settings like the database URI.\n",
    "\n",
    "## app/db/\n",
    "Contains scripts for initializing the database and managing sessions.  \n",
    "- `base_model.py`: Holds the abstract class for models.  \n",
    "- `init_db.py`: Initializes database tables.  \n",
    "- `session.py`: Manages DB sessions.\n",
    "\n",
    "## app/models/\n",
    "Holds ORM models, e.g., `user.py` for the User model.\n",
    "\n",
    "## app/schemas/\n",
    "Pydantic models for data validation and serialization.  \n",
    "E.g., `user.py` for User-related schemas.\n",
    "\n",
    "## app/services/\n",
    "Business logic layer, containing service classes to handle more complex operations.\n",
    "\n",
    "## app/dao/\n",
    "Data access objects, encapsulating database interaction logic, making it easier to swap out for different storage mechanisms\n"
   ]
  },
  {
   "cell_type": "markdown",
   "id": "3ef60ae9-07d3-4d3f-b8f6-6c6895e20c88",
   "metadata": {},
   "source": [
    "## Configuration"
   ]
  },
  {
   "cell_type": "code",
   "execution_count": null,
   "id": "e230d603-8e90-415a-8f95-61afc720c6e0",
   "metadata": {},
   "outputs": [],
   "source": [
    "import os\n",
    "\n",
    "class Config:\n",
    "    SQLALCHEMY_DATABASE_URI = os.getenv('DATABASE_URI', 'sqlite:///./test.db')\n",
    "    SQLALCHEMY_TRACK_MODIFICATIONS = False\n"
   ]
  },
  {
   "cell_type": "markdown",
   "id": "92ccca51-09c2-4410-9998-4d84d37f4307",
   "metadata": {},
   "source": [
    "## Database Initialization"
   ]
  },
  {
   "cell_type": "code",
   "execution_count": null,
   "id": "906408f7-0073-4a0c-9f52-b0f0a978080b",
   "metadata": {},
   "outputs": [],
   "source": [
    "from sqlalchemy import create_engine\n",
    "from sqlalchemy.orm import scoped_session, sessionmaker, declarative_base\n",
    "\n",
    "engine = create_engine(Config.SQLALCHEMY_DATABASE_URI)\n",
    "db_session = scoped_session(sessionmaker(autocommit=False, autoflush=False, bind=engine))\n",
    "\n",
    "Base = declarative_base()\n",
    "\n",
    "def init_db():\n",
    "    import models\n",
    "    Base.metadata.create_all(bind=engine)\n",
    "\n",
    "@contextmanager\n",
    "def get_db_session():\n",
    "    \"\"\" Provide a transactional scope around a series of operations. \"\"\"\n",
    "    session = db_session()\n",
    "    try:\n",
    "        yield session\n",
    "        session.commit()\n",
    "    except Exception:\n",
    "        session.rollback()\n",
    "        raise\n",
    "    finally:\n",
    "        session.close()\n"
   ]
  },
  {
   "cell_type": "markdown",
   "id": "a37ac146-2073-4e91-9ab8-3a408b3513f8",
   "metadata": {},
   "source": [
    "## Base Model"
   ]
  },
  {
   "cell_type": "code",
   "execution_count": null,
   "id": "37e833c6-0b5a-4d81-9d8a-3a0eb08f11bd",
   "metadata": {},
   "outputs": [],
   "source": [
    "from sqlalchemy import Column, Integer\n",
    "\n",
    "class BaseModel(Base):\n",
    "    __abstract__ = True\n",
    "    id = Column(Integer, primary_key=True, autoincrement=True)\n"
   ]
  },
  {
   "cell_type": "markdown",
   "id": "7d33ff11-22f8-4bc5-b19c-11547ac42300",
   "metadata": {},
   "source": [
    "## Example DAO"
   ]
  },
  {
   "cell_type": "code",
   "execution_count": null,
   "id": "8758afdc-fdb9-455b-8bc0-9d221085f049",
   "metadata": {},
   "outputs": [],
   "source": [
    "class UserDAO:\n",
    "    def __init__(self, session):\n",
    "        self.session = session\n",
    "\n",
    "    def add_user(self, user):\n",
    "        self.session.add(user)\n",
    "        \n",
    "    def get_user_by_id(self, user_id):\n",
    "        return self.session.query(User).get(user_id)\n",
    "\n",
    "    def delete_user(self, user_id):\n",
    "        user = self.get_user_by_id(user_id)\n",
    "        if user:\n",
    "            self.session.delete(user)\n",
    "\n",
    "# Usage Example\n",
    "with get_db_session() as session:\n",
    "    user_dao = UserDAO(session)\n",
    "    new_user = User(name=\"John Doe\", email=\"john.doe@example.com\")\n",
    "    user_dao.add_user(new_user)\n"
   ]
  },
  {
   "cell_type": "markdown",
   "id": "c962b18b-459a-4ff7-b35a-3b5f0a7a07a7",
   "metadata": {},
   "source": [
    "## Integrating DAO in Service Layer"
   ]
  },
  {
   "cell_type": "code",
   "execution_count": null,
   "id": "ac7fdce4-12f1-4281-b992-4068927793c6",
   "metadata": {},
   "outputs": [],
   "source": [
    "class UserService:\n",
    "    def __init__(self, dao):\n",
    "        self.dao = dao\n",
    "\n",
    "    def create_user(self, name, email):\n",
    "        user = User(name=name, email=email)\n",
    "        self.dao.add_user(user)\n",
    "\n",
    "    def get_user(self, user_id):\n",
    "        return self.dao.get_user_by_id(user_id)\n",
    "\n",
    "    def remove_user(self, user_id):\n",
    "        self.dao.delete_user(user_id)\n"
   ]
  },
  {
   "cell_type": "markdown",
   "id": "0fd3134d-a46d-445b-8c70-b90ddf032ae8",
   "metadata": {},
   "source": [
    "## FastAPI Web Layer\n",
    "### Models"
   ]
  },
  {
   "cell_type": "code",
   "execution_count": null,
   "id": "f058948d-cfa2-4a7b-8a1e-5e669061abf5",
   "metadata": {},
   "outputs": [],
   "source": [
    "from sqlalchemy import Column, String\n",
    "\n",
    "class User(BaseModel):\n",
    "    __tablename__ = \"users\"\n",
    "    name = Column(String, nullable=False)\n",
    "    email = Column(String, unique=True, nullable=False)\n"
   ]
  },
  {
   "cell_type": "markdown",
   "id": "2fccf578-f53c-4e8f-ac57-ca301547894d",
   "metadata": {},
   "source": [
    "### Schemas"
   ]
  },
  {
   "cell_type": "code",
   "execution_count": null,
   "id": "7573a1bf-14fe-43bf-89bf-7afddc9e378b",
   "metadata": {},
   "outputs": [],
   "source": [
    "from pydantic import BaseModel as PydanticBaseModel\n",
    "\n",
    "class UserCreate(PydanticBaseModel):\n",
    "    name: str\n",
    "    email: str\n",
    "\n",
    "class UserRead(PydanticBaseModel):\n",
    "    id: int\n",
    "    name: str\n",
    "    email: str\n",
    "\n",
    "    class Config:\n",
    "        orm_mode = True\n"
   ]
  },
  {
   "cell_type": "markdown",
   "id": "1f5b9b8b-7a6a-4794-9e2e-d494ff2f6f9f",
   "metadata": {},
   "source": [
    "### Main Application"
   ]
  },
  {
   "cell_type": "code",
   "execution_count": null,
   "id": "36670018-9e7a-4cad-bfdc-a8f5b9259057",
   "metadata": {},
   "outputs": [],
   "source": [
    "from fastapi import FastAPI, Depends, HTTPException, status\n",
    "from sqlalchemy.orm import Session\n",
    "from typing import List\n",
    "\n",
    "app = FastAPI()\n",
    "\n",
    "def get_session():\n",
    "    with get_db_session() as session:\n",
    "        yield session\n",
    "\n",
    "@app.post(\"/users/\", response_model=UserRead, status_code=status.HTTP_201_CREATED)\n",
    "def create_user(user: UserCreate, session: Session = Depends(get_session)):\n",
    "    user_service = UserService(UserDAO(session))\n",
    "    user_service.create_user(user.name, user.email)\n",
    "    return user\n",
    "\n",
    "@app.get(\"/users/{user_id}\", response_model=UserRead)\n",
    "def read_user(user_id: int, session: Session = Depends(get_session)):\n",
    "    user_service = UserService(UserDAO(session))\n",
    "    db_user = user_service.get_user(user_id)\n",
    "    if db_user is None:\n",
    "        raise HTTPException(status_code=404, detail=\"User not found\")\n",
    "    return db_user\n",
    "\n",
    "@app.delete(\"/users/{user_id}\", status_code=status.HTTP_204_NO_CONTENT)\n",
    "def delete_user(user_id: int, session: Session = Depends(get_session)):\n",
    "    user_service = UserService(UserDAO(session))\n",
    "    user_service.remove_user(user_id)\n",
    "    return {\"message\": \"User deleted successfully\"}\n",
    "\n",
    "if __name__ == '__main__':\n",
    "    import uvicorn\n",
    "    uvicorn.run(app, host='0.0.0.0', port=8000)\n"
   ]
  },
  {
   "cell_type": "markdown",
   "id": "5ba0a157-fe21-4413-8765-a7b5e3a5215d",
   "metadata": {},
   "source": [
    "## Conclusion\n",
    "\n",
    "By following this architecture, you've ensured clear separation of concerns, making your database layer highly reusable and maintainable across different projects, all while leveraging FastAPI's capabilities for building modern web APIs."
   ]
  },
  {
   "cell_type": "code",
   "execution_count": null,
   "id": "7eef3efc-7bdf-4ff8-a355-de27e01d63a1",
   "metadata": {},
   "outputs": [],
   "source": []
  }
 ],
 "metadata": {
  "kernelspec": {
   "display_name": "Python 3 (ipykernel)",
   "language": "python",
   "name": "python3"
  },
  "language_info": {
   "codemirror_mode": {
    "name": "ipython",
    "version": 3
   },
   "file_extension": ".py",
   "mimetype": "text/x-python",
   "name": "python",
   "nbconvert_exporter": "python",
   "pygments_lexer": "ipython3",
   "version": "3.11.7"
  }
 },
 "nbformat": 4,
 "nbformat_minor": 5
}
