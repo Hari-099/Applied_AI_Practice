{
 "cells": [
  {
   "cell_type": "markdown",
   "id": "1bf26db9-0413-493c-a65c-fb053a10b9e1",
   "metadata": {},
   "source": [
    "# Object-Oriented Programming (OOP)"
   ]
  },
  {
   "cell_type": "markdown",
   "id": "af1579a4-9f3a-4f02-8829-b30e2385c449",
   "metadata": {},
   "source": [
    "Object-Oriented Programming (OOP) in Python includes several advanced concepts that go beyond the basics of classes and objects. Here are some of the more complex OOP concepts in Python:"
   ]
  },
  {
   "cell_type": "markdown",
   "id": "2c885183-8221-4f09-a0ce-d4d10a2d2afd",
   "metadata": {},
   "source": [
    "## 1. Inheritance and Multiple Inheritance\n",
    "1. <b>Inheritance</b>: allows a class to inherit attributes and methods from another class, promoting code reuse.<br>\n",
    "2. <b>Multiple Inheritance</b>: allows a class to inherit from more than one parent class, which can lead to complex scenarios, especially with the Method Resolution Order (MRO)."
   ]
  },
  {
   "cell_type": "code",
   "execution_count": 1,
   "id": "4899c933-7359-4739-aa30-33ebc88313ad",
   "metadata": {},
   "outputs": [
    {
     "name": "stdout",
     "output_type": "stream",
     "text": [
      "Bark\n"
     ]
    }
   ],
   "source": [
    "class Animal:\n",
    "    def speak(self):\n",
    "        return \"Some sound\"\n",
    "\n",
    "class Dog(Animal):\n",
    "    def speak(self):\n",
    "        return \"Bark\"\n",
    "\n",
    "class Cat(Animal):\n",
    "    def speak(self):\n",
    "        return \"Meow\"\n",
    "\n",
    "class Hybrid(Dog, Cat):\n",
    "    pass\n",
    "\n",
    "hybrid = Hybrid()\n",
    "print(hybrid.speak())  # Output: Bark\n"
   ]
  },
  {
   "cell_type": "markdown",
   "id": "4575121b-f0d8-4261-b6aa-6614347bf89f",
   "metadata": {},
   "source": [
    "In the example above, `Hybrid` inherits from both `Dog` and `Cat`, but `Dog's` speak method is called due to the `MRO`."
   ]
  },
  {
   "cell_type": "markdown",
   "id": "07515331-7ffe-41c2-95fa-800832234ed4",
   "metadata": {},
   "source": [
    "## 2. Polymorphism\n",
    "Polymorphism allows methods to be used interchangeably, even though they may belong to different classes. It enables functions to operate on objects of different types, provided they share the same interface."
   ]
  },
  {
   "cell_type": "code",
   "execution_count": 2,
   "id": "57891fa5-2eee-4bf7-ae74-0aa818828f8b",
   "metadata": {},
   "outputs": [
    {
     "name": "stdout",
     "output_type": "stream",
     "text": [
      "Flies in the sky\n",
      "Flies in the air\n"
     ]
    }
   ],
   "source": [
    "class Bird:\n",
    "    def fly(self):\n",
    "        return \"Flies in the sky\"\n",
    "\n",
    "class Airplane:\n",
    "    def fly(self):\n",
    "        return \"Flies in the air\"\n",
    "\n",
    "def let_it_fly(entity):\n",
    "    print(entity.fly())\n",
    "\n",
    "bird = Bird()\n",
    "airplane = Airplane()\n",
    "\n",
    "let_it_fly(bird)       # Output: Flies in the sky\n",
    "let_it_fly(airplane)   # Output: Flies in the air\n"
   ]
  },
  {
   "cell_type": "markdown",
   "id": "895e7e54-81a5-4bf1-bbce-030700b0baab",
   "metadata": {},
   "source": [
    "The `let_it_fly` function works for both `Bird` and `Airplane` because they both implement a `fly` method."
   ]
  },
  {
   "cell_type": "markdown",
   "id": "fe7bdaf8-9881-49a7-91c0-7fbda1f1c200",
   "metadata": {},
   "source": [
    "## 3. Encapsulation and Private Members\n",
    "Encapsulation refers to bundling data and methods within a class and restricting access to some of the class's components.<br>\n",
    "Python uses name mangling to indicate private members (by prefixing with __).<br>\n",
    "\n",
    "<b>Example:</b>"
   ]
  },
  {
   "cell_type": "code",
   "execution_count": 3,
   "id": "6574d06e-f761-462e-a5b0-3b5fe0200c56",
   "metadata": {},
   "outputs": [
    {
     "name": "stdout",
     "output_type": "stream",
     "text": [
      "1500\n"
     ]
    }
   ],
   "source": [
    "class BankAccount:\n",
    "    def __init__(self, balance):\n",
    "        self.__balance = balance  # Private attribute\n",
    "\n",
    "    def deposit(self, amount):\n",
    "        self.__balance += amount\n",
    "\n",
    "    def withdraw(self, amount):\n",
    "        if amount <= self.__balance:\n",
    "            self.__balance -= amount\n",
    "            return amount\n",
    "        else:\n",
    "            return \"Insufficient funds\"\n",
    "\n",
    "    def get_balance(self):\n",
    "        return self.__balance\n",
    "\n",
    "account = BankAccount(1000)\n",
    "account.deposit(500)\n",
    "print(account.get_balance())  # Output: 1500\n"
   ]
  },
  {
   "cell_type": "markdown",
   "id": "095292ff-e120-4c1d-828f-e322a1a90ee7",
   "metadata": {},
   "source": [
    "The `__balance` attribute is private and cannot be accessed directly outside the class."
   ]
  },
  {
   "cell_type": "markdown",
   "id": "885e70da-91e0-49fb-9985-83aff45b72e7",
   "metadata": {},
   "source": [
    "## 4. Abstract Classes and Methods\n",
    "Abstract classes cannot be instantiated and are meant to be subclassed. They often contain abstract methods that must be implemented by subclasses.\n",
    "\n",
    "<b>Example:</b>"
   ]
  },
  {
   "cell_type": "code",
   "execution_count": 4,
   "id": "f4dd735c-5800-4dc2-8a91-fbd8af0066ce",
   "metadata": {},
   "outputs": [
    {
     "name": "stdout",
     "output_type": "stream",
     "text": [
      "78.5\n"
     ]
    }
   ],
   "source": [
    "from abc import ABC, abstractmethod\n",
    "\n",
    "class Shape(ABC):\n",
    "    @abstractmethod\n",
    "    def area(self):\n",
    "        pass\n",
    "\n",
    "class Circle(Shape):\n",
    "    def __init__(self, radius):\n",
    "        self.radius = radius\n",
    "\n",
    "    def area(self):\n",
    "        return 3.14 * self.radius ** 2\n",
    "\n",
    "circle = Circle(5)\n",
    "print(circle.area())  # Output: 78.5\n"
   ]
  },
  {
   "cell_type": "markdown",
   "id": "46deae90-5ee6-464b-a2f8-f9d65f6063f4",
   "metadata": {},
   "source": [
    "`Shape` is an abstract class with an abstract method `area`, which is implemented by the `Circle` subclass."
   ]
  },
  {
   "cell_type": "markdown",
   "id": "ef66e63a-07f0-4524-9ae7-024614d3d76b",
   "metadata": {},
   "source": [
    "## 5. Method Overloading and Method Overriding\n",
    "<b>Method Overloading:</b> Python does not natively support method overloading, but it can be simulated using default arguments or variable-length arguments.<br>\n",
    "<b>Method Overriding:</b> Subclasses can override methods from the parent class.\n",
    "\n",
    "<b>Example:</b>"
   ]
  },
  {
   "cell_type": "code",
   "execution_count": 5,
   "id": "50a0e5f8-a47a-4cd8-b2c8-13c974330684",
   "metadata": {},
   "outputs": [
    {
     "name": "stdout",
     "output_type": "stream",
     "text": [
      "5\n",
      "9\n"
     ]
    }
   ],
   "source": [
    "class Calculator:\n",
    "    def add(self, a, b, c=0):\n",
    "        return a + b + c\n",
    "\n",
    "calc = Calculator()\n",
    "print(calc.add(2, 3))       # Output: 5\n",
    "print(calc.add(2, 3, 4))    # Output: 9\n"
   ]
  },
  {
   "cell_type": "markdown",
   "id": "7a969757-d63a-4262-99e6-7abd868fa3db",
   "metadata": {},
   "source": [
    "## 6. Super() and Cooperative Multiple Inheritance\n",
    "The `super()` function is used to call methods from a parent class. In the context of multiple inheritance, it is crucial for maintaining a predictable MRO.\n",
    "\n",
    "<b>Example:</b>"
   ]
  },
  {
   "cell_type": "code",
   "execution_count": 6,
   "id": "459a4314-4935-4967-ae78-c284242d03f7",
   "metadata": {},
   "outputs": [
    {
     "name": "stdout",
     "output_type": "stream",
     "text": [
      "A\n",
      "C\n",
      "B\n",
      "D\n"
     ]
    }
   ],
   "source": [
    "class A:\n",
    "    def __init__(self):\n",
    "        print(\"A\")\n",
    "\n",
    "class B(A):\n",
    "    def __init__(self):\n",
    "        super().__init__()\n",
    "        print(\"B\")\n",
    "\n",
    "class C(A):\n",
    "    def __init__(self):\n",
    "        super().__init__()\n",
    "        print(\"C\")\n",
    "\n",
    "class D(B, C):\n",
    "    def __init__(self):\n",
    "        super().__init__()\n",
    "        print(\"D\")\n",
    "\n",
    "d = D()  # Output: A C B D\n"
   ]
  },
  {
   "cell_type": "markdown",
   "id": "d97bc8ea-3c75-46fe-84b0-12e184856abb",
   "metadata": {},
   "source": [
    "## 7. Mixins\n",
    "Mixins are a type of multiple inheritance where a class provides methods that can be used by other classes without being the primary parent class. Mixins are used to add specific functionalities to a class.\n",
    "\n",
    "<b>Example:</b>"
   ]
  },
  {
   "cell_type": "code",
   "execution_count": 7,
   "id": "014646a0-ea90-4454-9cfc-cef228de0b4b",
   "metadata": {},
   "outputs": [
    {
     "name": "stdout",
     "output_type": "stream",
     "text": [
      "Log: Alice is working\n"
     ]
    }
   ],
   "source": [
    "class LogMixin:\n",
    "    def log(self, message):\n",
    "        print(f\"Log: {message}\")\n",
    "\n",
    "class Employee(LogMixin):\n",
    "    def __init__(self, name):\n",
    "        self.name = name\n",
    "\n",
    "    def work(self):\n",
    "        self.log(f\"{self.name} is working\")\n",
    "\n",
    "emp = Employee(\"Alice\")\n",
    "emp.work()  # Output: Log: Alice is working\n"
   ]
  },
  {
   "cell_type": "markdown",
   "id": "997a4310-b14d-44fb-bb2a-bc03c479eaca",
   "metadata": {},
   "source": [
    "`LogMixin` provides logging functionality that can be used by any class that inherits from it."
   ]
  },
  {
   "cell_type": "markdown",
   "id": "288426ce-70cc-41cb-a3d5-604f0658caf0",
   "metadata": {},
   "source": [
    "## 8. Property Decorators (Getters, Setters, Deleters)\n",
    "Property decorators (`@property`, `@<property>.setter`, and `@<property>.deleter`) allow for managed access to class attributes, enabling controlled setting and retrieval of values.\n",
    "\n",
    "<b>Example:</b>"
   ]
  },
  {
   "cell_type": "code",
   "execution_count": 8,
   "id": "22fe47e6-495d-4102-9a58-2e0183f2d81c",
   "metadata": {},
   "outputs": [
    {
     "name": "stdout",
     "output_type": "stream",
     "text": [
      "200\n"
     ]
    }
   ],
   "source": [
    "class Product:\n",
    "    def __init__(self, price):\n",
    "        self._price = price\n",
    "\n",
    "    @property\n",
    "    def price(self):\n",
    "        return self._price\n",
    "\n",
    "    @price.setter\n",
    "    def price(self, value):\n",
    "        if value < 0:\n",
    "            raise ValueError(\"Price cannot be negative\")\n",
    "        self._price = value\n",
    "\n",
    "product = Product(100)\n",
    "product.price = 200\n",
    "print(product.price)  # Output: 200\n"
   ]
  },
  {
   "cell_type": "markdown",
   "id": "a01bedea-8004-476b-aaa9-8c353fe7929f",
   "metadata": {},
   "source": [
    "The `price` attribute is controlled via a getter and setter, ensuring that it cannot be set to a negative value."
   ]
  },
  {
   "cell_type": "markdown",
   "id": "5c7fe8d4-f1e1-40a8-9f38-dfef2c630d91",
   "metadata": {},
   "source": [
    "## 9. Metaclasses\n",
    "Metaclasses are a deep OOP concept where classes themselves are instances of metaclasses. They allow for the creation and modification of classes dynamically.\n",
    "    \n",
    "<b>Example:</b>"
   ]
  },
  {
   "cell_type": "code",
   "execution_count": 9,
   "id": "2f4686d6-d6b4-462a-bea0-c25059bee749",
   "metadata": {},
   "outputs": [
    {
     "name": "stdout",
     "output_type": "stream",
     "text": [
      "MyClass\n"
     ]
    }
   ],
   "source": [
    "class Meta(type):\n",
    "    def __new__(cls, name, bases, dct):\n",
    "        dct['class_name'] = name\n",
    "        return super().__new__(cls, name, bases, dct)\n",
    "\n",
    "class MyClass(metaclass=Meta):\n",
    "    pass\n",
    "\n",
    "obj = MyClass()\n",
    "print(obj.class_name)  # Output: MyClass\n"
   ]
  },
  {
   "cell_type": "markdown",
   "id": "7d9a61cf-4928-4250-bd19-7a1c79dda288",
   "metadata": {},
   "source": [
    "## 10. Dunder Methods (Magic Methods)\n",
    "Dunder methods (like `__init__`, `__str__`, `__repr__`, `__add__`, etc.) allow you to define how objects of your class interact with Python's built-in operations, such as printing, addition, or comparison.\n",
    "\n",
    "<b>Example:</b>"
   ]
  },
  {
   "cell_type": "code",
   "execution_count": 10,
   "id": "11adee6b-161e-45e0-8aaa-a9c048277f2e",
   "metadata": {},
   "outputs": [
    {
     "name": "stdout",
     "output_type": "stream",
     "text": [
      "Vector(4, 6)\n"
     ]
    }
   ],
   "source": [
    "class Vector:\n",
    "    def __init__(self, x, y):\n",
    "        self.x = x\n",
    "        self.y = y\n",
    "\n",
    "    def __add__(self, other):\n",
    "        return Vector(self.x + other.x, self.y + other.y)\n",
    "\n",
    "    def __repr__(self):\n",
    "        return f\"Vector({self.x}, {self.y})\"\n",
    "\n",
    "v1 = Vector(1, 2)\n",
    "v2 = Vector(3, 4)\n",
    "v3 = v1 + v2\n",
    "print(v3)  # Output: Vector(4, 6)\n"
   ]
  },
  {
   "cell_type": "markdown",
   "id": "0be74d34-579e-4337-8358-3b70dbf84a6e",
   "metadata": {},
   "source": [
    "The `__add__` method allows `Vector` objects to be added together using the + operator.\n",
    "\n",
    "These advanced OOP concepts are powerful tools in Python and allow for the creation of flexible, reusable, and maintainable code."
   ]
  },
  {
   "cell_type": "code",
   "execution_count": null,
   "id": "7c9dbc66-ee0f-4bab-960c-de193e98fe9e",
   "metadata": {},
   "outputs": [],
   "source": []
  }
 ],
 "metadata": {
  "kernelspec": {
   "display_name": "Python 3 (ipykernel)",
   "language": "python",
   "name": "python3"
  },
  "language_info": {
   "codemirror_mode": {
    "name": "ipython",
    "version": 3
   },
   "file_extension": ".py",
   "mimetype": "text/x-python",
   "name": "python",
   "nbconvert_exporter": "python",
   "pygments_lexer": "ipython3",
   "version": "3.11.7"
  }
 },
 "nbformat": 4,
 "nbformat_minor": 5
}
