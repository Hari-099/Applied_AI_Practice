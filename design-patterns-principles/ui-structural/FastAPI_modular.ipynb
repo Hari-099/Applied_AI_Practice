{
 "cells": [
  {
   "cell_type": "markdown",
   "id": "455165b9-8026-4466-8b23-67ded9ce4a6c",
   "metadata": {},
   "source": [
    "# FastAPI UI Modeling\n",
    "\n",
    "Let's extend the previous example and provide a more comprehensive picture of how you might structure a larger FastAPI application. This will include additional layers such as services, repositories, middleware, and configurations.\n",
    "\n",
    "Here's an extended directory layout for a more complex FastAPI project:"
   ]
  },
  {
   "cell_type": "code",
   "execution_count": null,
   "id": "d317c22e-ac5b-49c1-bbcb-96e156ad52d4",
   "metadata": {},
   "outputs": [],
   "source": [
    "my_fastapi_project/\n",
    "├── app/\n",
    "│   ├── __init__.py\n",
    "│   ├── main.py                         # Entry point for the application\n",
    "│   ├── api/                            # Contains all API routes and views\n",
    "│   │   ├── __init__.py\n",
    "│   │   ├── v1/\n",
    "│   │       ├── __init__.py\n",
    "│   │       ├── items.py                # Example module for item-related APIs\n",
    "│   ├── core/                           # Core settings, configurations, middleware\n",
    "│   │   ├── __init__.py\n",
    "│   │   ├── config.py                   # Configuration settings using Pydantic\n",
    "│   │   ├── middleware.py               # Custom middleware\n",
    "│   ├── models/                         # Database models using SQLAlchemy or Pydantic\n",
    "│   │   ├── __init__.py\n",
    "│   │   ├── item.py                     # Example module for item models\n",
    "│   ├── db/                             # Database setup and sessions\n",
    "│   │   ├── __init__.py\n",
    "│   │   ├── base.py                     # Base model for SQLAlchemy\n",
    "│   │   ├── session.py                  # Database session creation\n",
    "│   ├── services/                       # Business logic of your application\n",
    "│   │   ├── __init__.py\n",
    "│   │   ├── item_service.py             # Example service for items\n",
    "│   ├── repositories/                   # Data access layer\n",
    "│   │   ├── __init__.py\n",
    "│   │   ├── item_repository.py          # Example repository for item operations\n",
    "│   ├── schemas/                        # Pydantic models for request and response bodies\n",
    "│       ├── __init__.py\n",
    "│       ├── item_schema.py              # Example schema for items\n",
    "└── requirements.txt                    # Dependencies\n"
   ]
  },
  {
   "cell_type": "markdown",
   "id": "fa40d7e9-a944-4195-b467-a9c8ea04a184",
   "metadata": {},
   "source": [
    "**Main Application (`app/main.py`)**  \n",
    "This remains the entry point where you set up the application and include routers:\n"
   ]
  },
  {
   "cell_type": "code",
   "execution_count": null,
   "id": "f05dd2b7-fc93-466d-8460-1f61ae55cc04",
   "metadata": {},
   "outputs": [],
   "source": [
    "from fastapi import FastAPI\n",
    "from app.api.v1 import items\n",
    "from app.core.middleware import custom_middleware\n",
    "\n",
    "app = FastAPI()\n",
    "\n",
    "# Include middleware\n",
    "app.add_middleware(custom_middleware)\n",
    "\n",
    "# Include the router for versioned API\n",
    "app.include_router(items.router, prefix=\"/v1/items\")\n",
    "\n",
    "@app.get(\"/\")\n",
    "def read_root():\n",
    "    return {\"message\": \"Welcome to My FastAPI Application\"}\n",
    "\n",
    "if __name__ == \"__main__\":\n",
    "    import uvicorn\n",
    "    uvicorn.run(app, host=\"0.0.0.0\", port=8000, reload=True)\n"
   ]
  },
  {
   "cell_type": "markdown",
   "id": "4365030c-b1b9-4648-958f-637806d4d685",
   "metadata": {},
   "source": [
    "**Configuration (`app/core/config.py`)**  \n",
    "Manage configuration settings using Pydantic:\n"
   ]
  },
  {
   "cell_type": "code",
   "execution_count": null,
   "id": "081f23ae-7553-4dcb-b22b-246d29a18930",
   "metadata": {},
   "outputs": [],
   "source": [
    "from pydantic import BaseSettings\n",
    "\n",
    "class Settings(BaseSettings):\n",
    "    app_name: str = \"My FastAPI App\"\n",
    "    admin_email: str = \"admin@example.com\"\n",
    "    database_url: str\n",
    "\n",
    "    class Config:\n",
    "        env_file = \".env\"\n",
    "\n",
    "settings = Settings()\n"
   ]
  },
  {
   "cell_type": "markdown",
   "id": "7a03a6bd-7dd8-4dab-9d26-4471e0597715",
   "metadata": {},
   "source": [
    "**Middleware (`app/core/middleware.py`)**  \n",
    "Define custom middleware if needed:\n"
   ]
  },
  {
   "cell_type": "code",
   "execution_count": null,
   "id": "ad0d4a51-b139-4bae-899d-e732477cea1e",
   "metadata": {},
   "outputs": [],
   "source": [
    "from starlette.middleware.base import BaseHTTPMiddleware\n",
    "from starlette.types import ASGIApp, Receive, Scope, Send\n",
    "\n",
    "class custom_middleware(BaseHTTPMiddleware):\n",
    "    async def dispatch(self, request: Request, call_next):\n",
    "        response = await call_next(request)\n",
    "        response.headers[\"X-Custom-Header\"] = \"Value\"\n",
    "        return response\n"
   ]
  },
  {
   "cell_type": "markdown",
   "id": "c4333979-f8f8-4679-acc3-48e2260b1968",
   "metadata": {},
   "source": [
    "**Database Models (`app/models/item.py`)**  \n",
    "Define your data models (using SQLAlchemy in this case):\n"
   ]
  },
  {
   "cell_type": "code",
   "execution_count": null,
   "id": "de418705-bd35-42b7-8c7a-aa4b0cb378be",
   "metadata": {},
   "outputs": [],
   "source": [
    "from sqlalchemy import Column, Integer, String, Float, Boolean\n",
    "from app.db.base import Base\n",
    "\n",
    "class Item(Base):\n",
    "    __tablename__ = \"items\"\n",
    "\n",
    "    id = Column(Integer, primary_key=True, index=True)\n",
    "    name = Column(String, index=True)\n",
    "    description = Column(String, index=True)\n",
    "    price = Column(Float)\n",
    "    on_offer = Column(Boolean)\n"
   ]
  },
  {
   "cell_type": "markdown",
   "id": "a41666c3-0f64-4890-b8a3-f6f1ef28fc8f",
   "metadata": {},
   "source": [
    "**Database Session (`app/db/session.py`)**  \n",
    "Setup your database session:"
   ]
  },
  {
   "cell_type": "code",
   "execution_count": null,
   "id": "abb352e3-0a1e-4317-9dcc-41736da67be0",
   "metadata": {},
   "outputs": [],
   "source": [
    "from sqlalchemy import create_engine\n",
    "from sqlalchemy.ext.declarative import declarative_base\n",
    "from sqlalchemy.orm import sessionmaker\n",
    "from app.core.config import settings\n",
    "\n",
    "DATABASE_URL = settings.database_url\n",
    "\n",
    "engine = create_engine(DATABASE_URL)\n",
    "SessionLocal = sessionmaker(autocommit=False, autoflush=False, bind=engine)\n",
    "Base = declarative_base()\n"
   ]
  },
  {
   "cell_type": "markdown",
   "id": "5ec9f674-3976-4748-a124-280acc28a92c",
   "metadata": {},
   "source": [
    "**Modify API Router to Inherit from Base Class**  \n",
    "Now, modify your existing API router to inherit from this base class:\n"
   ]
  },
  {
   "cell_type": "code",
   "execution_count": null,
   "id": "a9338719-b1e7-4f7d-8f63-0055e7db9772",
   "metadata": {},
   "outputs": [],
   "source": [
    "# app/api/dependencies.py\n",
    "\n",
    "from sqlalchemy.orm import Session\n",
    "from app.db.session import SessionLocal\n",
    "\n",
    "class DBDependency:\n",
    "    def get_db(self) -> Session:\n",
    "        db = SessionLocal()\n",
    "        try:\n",
    "            yield db\n",
    "        finally:\n",
    "            db.close()\n"
   ]
  },
  {
   "cell_type": "code",
   "execution_count": null,
   "id": "b80fc075-fad8-4329-830a-1c3c804f9f72",
   "metadata": {},
   "outputs": [],
   "source": [
    "# app/api/v1/items.py\n",
    "\n",
    "from fastapi import APIRouter, Depends, HTTPException\n",
    "from sqlalchemy.orm import Session\n",
    "from typing import List\n",
    "\n",
    "from app.api.dependencies import DBDependency\n",
    "from app.schemas.item_schema import Item, ItemCreate, ItemUpdate\n",
    "from app.services.item_service import ItemService\n",
    "\n",
    "router = APIRouter()\n",
    "\n",
    "class ItemAPI(DBDependency):\n",
    "\n",
    "    @router.post(\"/\", response_model=Item)\n",
    "    def create_item(self, item: ItemCreate, db: Session = Depends(self.get_db)):\n",
    "        return ItemService.create_item(db, item)\n",
    "\n",
    "    @router.get(\"/\", response_model=List[Item])\n",
    "    def get_items(self, db: Session = Depends(self.get_db)):\n",
    "        return ItemService.get_all_items(db)\n",
    "\n",
    "    @router.get(\"/{item_id}\", response_model=Item)\n",
    "    def get_item(self, item_id: int, db: Session = Depends(self.get_db)):\n",
    "        db_item = ItemService.get_item(db, item_id)\n",
    "        if db_item is None:\n",
    "            raise HTTPException(status_code=404, detail=\"Item not found\")\n",
    "        return db_item\n",
    "\n",
    "    @router.put(\"/{item_id}\", response_model=Item)\n",
    "    def update_item(self, item_id: int, item: ItemUpdate, db: Session = Depends(self.get_db)):\n",
    "        db_item = ItemService.update_item(db, item_id, item)\n",
    "        if db_item is None:\n",
    "            raise HTTPException(status_code=404, detail=\"Item not found\")\n",
    "        return db_item\n",
    "\n",
    "    @router.delete(\"/{item_id}\")\n",
    "    def delete_item(self, item_id: int, db: Session = Depends(self.get_db)):\n",
    "        success = ItemService.delete_item(db, item_id)\n",
    "        if not success:\n",
    "            raise HTTPException(status_code=404, detail=\"Item not found\")\n",
    "        return {\"message\": \"Item deleted\"}\n",
    "\n",
    "# Instantiate the class and set routes\n",
    "item_api = ItemAPI()\n",
    "router.add_api_route(\"/\", item_api.create_item, methods=[\"POST\"])\n",
    "router.add_api_route(\"/\", item_api.get_items, methods=[\"GET\"])\n",
    "router.add_api_route(\"/{item_id}\", item_api.get_item, methods=[\"GET\"])\n",
    "router.add_api_route(\"/{item_id}\", item_api.update_item, methods=[\"PUT\"])\n",
    "router.add_api_route(\"/{item_id}\", item_api.delete_item, methods=[\"DELETE\"])\n"
   ]
  },
  {
   "cell_type": "markdown",
   "id": "d494d1ea-aff7-41c1-bb22-77e80fda2805",
   "metadata": {},
   "source": [
    "**Repositories (`app/repositories/item_repository.py`)**  \n",
    "Create a repository for data access operations:\n"
   ]
  },
  {
   "cell_type": "code",
   "execution_count": null,
   "id": "8f1e62d1-0e39-476a-90f2-ea1f7166b80a",
   "metadata": {},
   "outputs": [],
   "source": [
    "from sqlalchemy.orm import Session\n",
    "from app.models.item import Item\n",
    "from app.schemas.item_schema import ItemCreate, ItemUpdate\n",
    "\n",
    "class ItemRepository:\n",
    "\n",
    "    @staticmethod\n",
    "    def get_item(db: Session, item_id: int):\n",
    "        return db.query(Item).filter(Item.id == item_id).first()\n",
    "\n",
    "    @staticmethod\n",
    "    def create_item(db: Session, item: ItemCreate):\n",
    "        db_item = Item(**item.dict())\n",
    "        db.add(db_item)\n",
    "        db.commit()\n",
    "        db.refresh(db_item)\n",
    "        return db_item\n",
    "\n",
    "    @staticmethod\n",
    "    def update_item(db: Session, db_item: Item, item_update: ItemUpdate):\n",
    "        for key, value in item_update.dict().items():\n",
    "            setattr(db_item, key, value)\n",
    "        db.commit()\n",
    "        db.refresh(db_item)\n",
    "        return db_item\n",
    "\n",
    "    @staticmethod\n",
    "    def delete_item(db: Session, item_id: int):\n",
    "        db_item = db.query(Item).filter(Item.id == item_id).first()\n",
    "        if db_item:\n",
    "            db.delete(db_item)\n",
    "            db.commit()\n",
    "            return True\n",
    "        return False\n"
   ]
  },
  {
   "cell_type": "markdown",
   "id": "39440ddf-e3f9-4a76-a8c6-de49f175020c",
   "metadata": {},
   "source": [
    "**Services (`app/services/item_service.py`)**  \n",
    "Place your business logic here:\n"
   ]
  },
  {
   "cell_type": "code",
   "execution_count": null,
   "id": "f8ffa050-c429-4431-8fc7-0fb3f53a6d9d",
   "metadata": {},
   "outputs": [],
   "source": [
    "from sqlalchemy.orm import Session\n",
    "from app.repositories.item_repository import ItemRepository\n",
    "from app.schemas.item_schema import ItemCreate, ItemUpdate\n",
    "\n",
    "class ItemService:\n",
    "\n",
    "    @staticmethod\n",
    "    def get_item(db: Session, item_id: int):\n",
    "        return ItemRepository.get_item(db, item_id)\n",
    "\n",
    "    @staticmethod\n",
    "    def create_item(db: Session, item: ItemCreate):\n",
    "        return ItemRepository.create_item(db, item)\n",
    "\n",
    "    @staticmethod\n",
    "    def update_item(db: Session, item_id: int, item_update: ItemUpdate):\n",
    "        db_item = ItemRepository.get_item(db, item_id)\n",
    "        if not db_item:\n",
    "            return None\n",
    "        return ItemRepository.update_item(db, db_item, item_update)\n",
    "\n",
    "    @staticmethod\n",
    "    def delete_item(db: Session, item_id: int):\n",
    "        return ItemRepository.delete_item(db, item_id)\n"
   ]
  },
  {
   "cell_type": "markdown",
   "id": "7c6d36f6-6551-4ed5-8116-4e50369e4a12",
   "metadata": {},
   "source": [
    "**Schemas (`app/schemas/item_schema.py`)**  \n",
    "Define your Pydantic schemas:\n"
   ]
  },
  {
   "cell_type": "code",
   "execution_count": null,
   "id": "37413c44-ed6a-4090-9ea1-3302fc8420a9",
   "metadata": {},
   "outputs": [],
   "source": [
    "from pydantic import BaseModel\n",
    "\n",
    "class ItemBase(BaseModel):\n",
    "    name: str\n",
    "    description: str\n",
    "    price: float\n",
    "    on_offer: bool\n",
    "\n",
    "class ItemCreate(ItemBase):\n",
    "    pass\n",
    "\n",
    "class ItemUpdate(ItemBase):\n",
    "    pass\n",
    "\n",
    "class Item(ItemBase):\n",
    "    id: int\n",
    "\n",
    "    class Config:\n",
    "        orm_mode = True\n"
   ]
  },
  {
   "cell_type": "markdown",
   "id": "1e8ad910-c405-487a-9045-0434ba3f2c90",
   "metadata": {},
   "source": [
    "**API Module (`app/api/v1/items.py`)**  \n",
    "Connect everything in your API endpoints:\n"
   ]
  },
  {
   "cell_type": "markdown",
   "id": "62abbcc4-57e9-413e-a1e0-b92d88493b5a",
   "metadata": {},
   "source": [
    "**Abstract Base Class for Database Operations**  \n",
    "Define the base class `DBDependency` in the `app/api/dependencies.py` file:\n"
   ]
  },
  {
   "cell_type": "code",
   "execution_count": null,
   "id": "4015056c-9d0d-4d91-87bc-44a7f2462491",
   "metadata": {},
   "outputs": [],
   "source": [
    "# app/api/dependencies.py\n",
    "\n",
    "from sqlalchemy.orm import Session\n",
    "from app.db.session import SessionLocal\n",
    "\n",
    "class DBDependency:\n",
    "    def get_db(self):\n",
    "        db = SessionLocal()\n",
    "        try:\n",
    "            yield db\n",
    "        finally:\n",
    "            db.close()\n"
   ]
  },
  {
   "cell_type": "markdown",
   "id": "37092ff7-101e-4063-884e-d241fa13ed86",
   "metadata": {},
   "source": [
    "**Modify API Router to Inherit from Base Class**  \n",
    "Modify your existing API router to inherit from this base class:\n"
   ]
  },
  {
   "cell_type": "code",
   "execution_count": null,
   "id": "013f1cd6-9fc8-41da-9ed3-c9851a7328a5",
   "metadata": {},
   "outputs": [],
   "source": [
    "# app/api/v1/items.py\n",
    "\n",
    "from fastapi import APIRouter, Depends, HTTPException\n",
    "from sqlalchemy.orm import Session\n",
    "from typing import List\n",
    "\n",
    "from app.api.dependencies import DBDependency\n",
    "from app.schemas.item_schema import Item, ItemCreate, ItemUpdate\n",
    "from app.services.item_service import ItemService\n",
    "\n",
    "router = APIRouter()\n",
    "\n",
    "class ItemAPI(DBDependency):\n",
    "\n",
    "    @router.post(\"/\", response_model=Item)\n",
    "    def create_item(self, item: ItemCreate, db: Session = Depends(self.get_db)):\n",
    "        return ItemService.create_item(db, item)\n",
    "\n",
    "    @router.get(\"/\", response_model=List[Item])\n",
    "    def get_items(self, db: Session = Depends(self.get_db)):\n",
    "        return ItemService.get_all_items(db)\n",
    "\n",
    "    @router.get(\"/{item_id}\", response_model=Item)\n",
    "    def get_item(self, item_id: int, db: Session = Depends(self.get_db)):\n",
    "        db_item = ItemService.get_item(db, item_id)\n",
    "        if db_item is None:\n",
    "            raise HTTPException(status_code=404, detail=\"Item not found\")\n",
    "        return db_item\n",
    "\n",
    "    @router.put(\"/{item_id}\", response_model=Item)\n",
    "    def update_item(self, item_id: int, item: ItemUpdate, db: Session = Depends(self.get_db)):\n",
    "        db_item = ItemService.update_item(db, item_id, item)\n",
    "        if db_item is None:\n",
    "            raise HTTPException(status_code=404, detail=\"Item not found\")\n",
    "        return db_item\n",
    "\n",
    "    @router.delete(\"/{item_id}\")\n",
    "    def delete_item(self, item_id: int, db: Session = Depends(self.get_db)):\n",
    "        success = ItemService.delete_item(db, item_id)\n",
    "        if not success:\n",
    "            raise HTTPException(status_code=404, detail=\"Item not found\")\n",
    "        return {\"message\": \"Item deleted\"}\n",
    "\n",
    "# Instantiate the class and set routes\n",
    "item_api = ItemAPI()\n",
    "router.add_api_route(\"/\", item_api.create_item, methods=[\"POST\"])\n",
    "router.add_api_route(\"/\", item_api.get_items, methods=[\"GET\"])\n",
    "router.add_api_route(\"/{item_id}\", item_api.get_item, methods=[\"GET\"])\n",
    "router.add_api_route(\"/{item_id}\", item_api.update_item, methods=[\"PUT\"])\n",
    "router.add_api_route(\"/{item_id}\", item_api.delete_item, methods=[\"DELETE\"])\n"
   ]
  },
  {
   "cell_type": "markdown",
   "id": "ae39fedd-b078-4092-b083-49359b32d269",
   "metadata": {},
   "source": [
    "**Explanation**\n",
    "\n",
    "- **DBDependency Base Class:** The `DBDependency` class provides the `get_db` method to manage the database session lifecycle.\n",
    "\n",
    "- **ItemAPI Class:** This class inherits from `DBDependency` and defines the endpoint handlers using methods. Each method uses the `get_db` dependency provided by the base class.\n",
    "\n",
    "- **Router Configuration:** We instantiate the `ItemAPI` class and add the routes to the router.\n",
    "\n",
    "By organizing your code this way, you reduce repetition and improve maintainability, as common logic such as database session handling is centralized in one place.\n"
   ]
  },
  {
   "cell_type": "markdown",
   "id": "3c36cc59-b684-4dcf-8117-8549f8493848",
   "metadata": {},
   "source": [
    "**Installation and Running**  \n",
    "Add SQLAlchemy to your `requirements.txt`:\n"
   ]
  },
  {
   "cell_type": "code",
   "execution_count": null,
   "id": "8139b4b1-36ab-4f83-b3af-19dc294090a4",
   "metadata": {},
   "outputs": [],
   "source": [
    "fastapi\n",
    "uvicorn\n",
    "sqlalchemy\n",
    "pydantic\n"
   ]
  },
  {
   "cell_type": "markdown",
   "id": "a6a9a127-3f5a-4536-aa24-dba54c7d13d9",
   "metadata": {},
   "source": [
    "Install the dependencies:"
   ]
  },
  {
   "cell_type": "code",
   "execution_count": null,
   "id": "061e6208-f08a-42c1-84a0-25b92a3c4097",
   "metadata": {},
   "outputs": [],
   "source": [
    "pip install -r requirements.txt\n"
   ]
  },
  {
   "cell_type": "markdown",
   "id": "94babbfc-cde4-43ba-b0bb-b93eb2f5f06e",
   "metadata": {},
   "source": [
    "Run your application:"
   ]
  },
  {
   "cell_type": "code",
   "execution_count": null,
   "id": "908d542d-3ad4-47bc-93f5-7fbc12c3c35c",
   "metadata": {},
   "outputs": [],
   "source": [
    "uvicorn app.main:app --reload"
   ]
  },
  {
   "cell_type": "markdown",
   "id": "18ad0d8a-0607-4ed3-bbf0-c5862cec7a75",
   "metadata": {},
   "source": [
    "## Conclusion  \n",
    "This enhanced structure provides a clear separation of concerns by dividing the project into routers, services, repositories, schemas, and configurations. It allows you to manage and scale your codebase effectively while adhering to best practices.\n"
   ]
  },
  {
   "cell_type": "code",
   "execution_count": null,
   "id": "564435c7-e934-4d7a-92c3-bc980356627b",
   "metadata": {},
   "outputs": [],
   "source": []
  }
 ],
 "metadata": {
  "kernelspec": {
   "display_name": "Python 3 (ipykernel)",
   "language": "python",
   "name": "python3"
  },
  "language_info": {
   "codemirror_mode": {
    "name": "ipython",
    "version": 3
   },
   "file_extension": ".py",
   "mimetype": "text/x-python",
   "name": "python",
   "nbconvert_exporter": "python",
   "pygments_lexer": "ipython3",
   "version": "3.11.7"
  }
 },
 "nbformat": 4,
 "nbformat_minor": 5
}
