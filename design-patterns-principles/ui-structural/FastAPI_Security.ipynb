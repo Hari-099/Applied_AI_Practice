{
 "cells": [
  {
   "cell_type": "markdown",
   "id": "319912b4-d6cd-4944-af58-3ed6a51d45e7",
   "metadata": {},
   "source": [
    "# FastAPI Security\n",
    "\n",
    "**Big Picture of FastAPI Security**\n",
    "\n",
    "- **Authentication**  \n",
    "  Authentication is the process of verifying who a user is. In FastAPI, this can be handled using various methods such as OAuth2, API keys, JWT tokens, and others.\n",
    "\n",
    "- **OAuth2**  \n",
    "  OAuth2 is an authorization framework that enables applications to obtain limited access to user accounts without exposing their credentials. FastAPI has built-in support for OAuth2.\n"
   ]
  },
  {
   "cell_type": "code",
   "execution_count": null,
   "id": "29c60201-8397-46f7-8511-cc9855b771ff",
   "metadata": {},
   "outputs": [],
   "source": [
    "from fastapi import Depends, HTTPException, status\n",
    "from fastapi.security import OAuth2PasswordBearer\n",
    "\n",
    "oauth2_scheme = OAuth2PasswordBearer(tokenUrl=\"token\")\n",
    "\n",
    "async def get_current_user(token: str = Depends(oauth2_scheme)):\n",
    "    # Replace this with your token validation logic\n",
    "    if token != \"mysecrettoken\":\n",
    "        raise HTTPException(\n",
    "            status_code=status.HTTP_401_UNAUTHORIZED,\n",
    "            detail=\"Invalid authentication credentials\",\n",
    "            headers={\"WWW-Authenticate\": \"Bearer\"},\n",
    "        )\n",
    "    return {\"username\": \"user\"}\n"
   ]
  },
  {
   "cell_type": "markdown",
   "id": "aa43d03d-eaa3-41a5-8bdf-b56f1ff6775c",
   "metadata": {},
   "source": [
    "**JWT Tokens**  \n",
    "JWT (JSON Web Token) is a compact, URL-safe means of representing claims between two parties. JWTs are often used for API authentication and server-to-server authorization.\n"
   ]
  },
  {
   "cell_type": "code",
   "execution_count": null,
   "id": "34cc8e0a-d8b0-44da-adbe-30259f3d5bc6",
   "metadata": {},
   "outputs": [],
   "source": [
    "import jwt\n",
    "from datetime import datetime, timedelta\n",
    "\n",
    "SECRET_KEY = \"your_secret_key\"\n",
    "ALGORITHM = \"HS256\"\n",
    "\n",
    "def create_access_token(data: dict):\n",
    "    to_encode = data.copy()\n",
    "    expire = datetime.utcnow() + timedelta(minutes=30)\n",
    "    to_encode.update({\"exp\": expire})\n",
    "    encoded_jwt = jwt.encode(to_encode, SECRET_KEY, algorithm=ALGORITHM)\n",
    "    return encoded_jwt"
   ]
  },
  {
   "cell_type": "markdown",
   "id": "42d1e865-b99f-4215-a133-3dcae4d7b711",
   "metadata": {},
   "source": [
    "### OpenID Connect - OIDC\n",
    "\n",
    "**OpenID Connect (OIDC)**  \n",
    "OIDC is an identity layer built on top of the OAuth 2.0 protocol. It allows clients to verify the identity of a user based on the authentication performed by an authorization server. In FastAPI, you can utilize OIDC for secure authentication.\n",
    "\n",
    "**Step-by-Step Guide to Implement OIDC in FastAPI**\n",
    "\n",
    "1. **Install Required Packages**  \n",
    "   You'll need `fastapi`, `authlib`, and `httpx`.\n"
   ]
  },
  {
   "cell_type": "code",
   "execution_count": null,
   "id": "1f6e885b-7fdc-4197-9b06-1ba55e727701",
   "metadata": {},
   "outputs": [],
   "source": [
    "pip install fastapi authlib httpx uvicorn\n"
   ]
  },
  {
   "cell_type": "markdown",
   "id": "1ab5cde1-ecd0-468c-8400-c7446ff0ae96",
   "metadata": {},
   "source": [
    "2. **Configure OIDC Settings**  \n",
    "   Define your OIDC settings such as the client ID, client secret, and the OIDC provider URL.\n"
   ]
  },
  {
   "cell_type": "code",
   "execution_count": null,
   "id": "cf178f63-932f-4dfc-a6c9-7dcaa214e54b",
   "metadata": {},
   "outputs": [],
   "source": [
    "# config.py\n",
    "\n",
    "OIDC_CLIENT_ID = \"your-client-id\"\n",
    "OIDC_CLIENT_SECRET = \"your-client-secret\"\n",
    "OIDC_PROVIDER_URL = \"https://accounts.google.com\"  # Example for Google\n",
    "OIDC_REDIRECT_URI = \"http://localhost:8000/auth/callback\"\n",
    "\n",
    "# Additional URLs derived from the provider\n",
    "AUTHORIZATION_URL = f\"{OIDC_PROVIDER_URL}/o/oauth2/auth\"\n",
    "TOKEN_URL = f\"{OIDC_PROVIDER_URL}/o/oauth2/token\"\n",
    "USERINFO_URL = f\"{OIDC_PROVIDER_URL}/oauth2/v3/userinfo\"\n"
   ]
  },
  {
   "cell_type": "markdown",
   "id": "2a54efec-5b66-42de-8990-50cab347acda",
   "metadata": {},
   "source": [
    "3. **Create FastAPI App with Authentication Routes**  \n",
    "   Set up the FastAPI application with routes for login, callback, and user information.\n"
   ]
  },
  {
   "cell_type": "code",
   "execution_count": null,
   "id": "d051b12d-d59d-43f5-9070-5aa3b18b379d",
   "metadata": {},
   "outputs": [],
   "source": [
    "# main.py\n",
    "\n",
    "from fastapi import FastAPI, Depends, HTTPException, status\n",
    "from fastapi.responses import RedirectResponse\n",
    "from authlib.integrations.starlette_client import OAuth\n",
    "from starlette.requests import Request\n",
    "from starlette.config import Config\n",
    "\n",
    "app = FastAPI()\n",
    "\n",
    "# Configuration\n",
    "config_data = {\n",
    "    'OIDC_CLIENT_ID': 'your-client-id',\n",
    "    'OIDC_CLIENT_SECRET': 'your-client-secret',\n",
    "    'OIDC_REDIRECT_URI': 'http://localhost:8000/auth/callback'\n",
    "}\n",
    "config = Config(environ=config_data)\n",
    "\n",
    "oauth = OAuth(config)\n",
    "oauth.register(\n",
    "    name='oidc',\n",
    "    client_id=config_data['OIDC_CLIENT_ID'],\n",
    "    client_secret=config_data['OIDC_CLIENT_SECRET'],\n",
    "    authorize_url=AUTHORIZATION_URL,\n",
    "    authorize_params=None,\n",
    "    access_token_url=TOKEN_URL,\n",
    "    access_token_params=None,\n",
    "    refresh_token_url=None,\n",
    "    redirect_uri=config_data['OIDC_REDIRECT_URI'],\n",
    "    client_kwargs={'scope': 'openid profile email'}\n",
    ")\n",
    "\n",
    "@app.get('/login')\n",
    "async def login(request: Request):\n",
    "    redirect_uri = config_data['OIDC_REDIRECT_URI']\n",
    "    return await oauth.oidc.authorize_redirect(request, redirect_uri)\n",
    "\n",
    "@app.route('/auth/callback')\n",
    "async def auth_callback(request: Request):\n",
    "    token = await oauth.oidc.authorize_access_token(request)\n",
    "    user_info = await oauth.oidc.parse_id_token(request, token)\n",
    "    \n",
    "    # Do something with user_info, e.g., store it in session\n",
    "    return {\"user_info\": user_info}\n",
    "\n",
    "@app.get('/')\n",
    "def read_root():\n",
    "    return {\"message\": \"Welcome to the OIDC demonstration\"}\n",
    "\n",
    "if __name__ == '__main__':\n",
    "    import uvicorn\n",
    "    uvicorn.run(app, host=\"0.0.0.0\", port=8000)\n"
   ]
  },
  {
   "cell_type": "markdown",
   "id": "7d954bd3-9d53-4f2e-a55e-58e93a2a903b",
   "metadata": {},
   "source": [
    "4. **Add Security Dependencies**  \n",
    "   Optionally, you can create security dependencies to ensure protected endpoints are only accessible to authenticated users.\n"
   ]
  },
  {
   "cell_type": "code",
   "execution_count": null,
   "id": "75f1e071-69df-4f76-a98b-dad836218fa7",
   "metadata": {},
   "outputs": [],
   "source": [
    "# security.py\n",
    "\n",
    "from fastapi import Depends, HTTPException, status\n",
    "from authlib.integrations.starlette_client import OAuth\n",
    "from starlette.requests import Request\n",
    "import json\n",
    "\n",
    "oauth = OAuth()\n",
    "\n",
    "def get_current_user(request: Request):\n",
    "    if 'user' not in request.session:\n",
    "        raise HTTPException(status_code=status.HTTP_401_UNAUTHORIZED, detail=\"Not authenticated\")\n",
    "    \n",
    "    user = request.session['user']\n",
    "    return json.loads(user)\n",
    "\n",
    "@app.get(\"/protected\")\n",
    "async def protected_route(user: dict = Depends(get_current_user)):\n",
    "    return {\"message\": f\"Hello, {user['name']}\"}\n"
   ]
  },
  {
   "cell_type": "markdown",
   "id": "a1e01768-407d-4ed4-a438-2dc5c3343987",
   "metadata": {},
   "source": [
    "**Examples**\n",
    "\n",
    "- **Login Route**  \n",
    "  The `/login` route redirects the user to the OIDC provider's authorization endpoint.\n"
   ]
  },
  {
   "cell_type": "code",
   "execution_count": null,
   "id": "8dcf2832-b443-4769-8dfb-df44756a77c0",
   "metadata": {},
   "outputs": [],
   "source": [
    "@app.get('/login')\n",
    "async def login(request: Request):\n",
    "    redirect_uri = config_data['OIDC_REDIRECT_URI']\n",
    "    return await oauth.oidc.authorize_redirect(request, redirect_uri)\n"
   ]
  },
  {
   "cell_type": "markdown",
   "id": "b6912077-8631-47ae-84ef-ea480c57a33b",
   "metadata": {},
   "source": [
    "- **Callback Route**  \n",
    "  The `/auth/callback` route handles the response from the OIDC provider and fetches the user's information.\n"
   ]
  },
  {
   "cell_type": "code",
   "execution_count": null,
   "id": "e7576d1b-7829-4f12-aaf1-f196292e8d54",
   "metadata": {},
   "outputs": [],
   "source": [
    "@app.route('/auth/callback')\n",
    "async def auth_callback(request: Request):\n",
    "    token = await oauth.oidc.authorize_access_token(request)\n",
    "    user_info = await oauth.oidc.parse_id_token(request, token)\n",
    "    \n",
    "    # Do something with user_info, e.g., store it in session\n",
    "    return {\"user_info\": user_info}\n"
   ]
  },
  {
   "cell_type": "markdown",
   "id": "f16f4b21-b529-48b8-8dc3-3a043bee4510",
   "metadata": {},
   "source": [
    "- **Protected Route**  \n",
    "  An example of a protected route that only authenticated users can access.\n"
   ]
  },
  {
   "cell_type": "code",
   "execution_count": null,
   "id": "9acde50d-c845-4bb8-a811-ca829404134e",
   "metadata": {},
   "outputs": [],
   "source": [
    "@app.get(\"/protected\")\n",
    "async def protected_route(user: dict = Depends(get_current_user)):\n",
    "    return {\"message\": f\"Hello, {user['name']}\"}\n"
   ]
  },
  {
   "cell_type": "markdown",
   "id": "4fa5fa56-a852-4c16-a9a9-c7b2ed5eb381",
   "metadata": {},
   "source": [
    "**Conclusion**  \n",
    "By following these steps, you can integrate OpenID Connect (OIDC) into your FastAPI application for secure user authentication. This provides a robust method for verifying user identities without handling sensitive credentials directly.\n"
   ]
  },
  {
   "cell_type": "markdown",
   "id": "19f47306-1bc3-4648-95db-c6c9ce537529",
   "metadata": {},
   "source": [
    "**Authorization**  \n",
    "Authorization is the process of verifying what a user has access to. This can be managed by defining roles and permissions within your application.\n"
   ]
  },
  {
   "cell_type": "code",
   "execution_count": null,
   "id": "53796395-3a15-47b0-82bc-6ebf4d961af3",
   "metadata": {},
   "outputs": [],
   "source": [
    "def get_current_active_user(current_user: dict = Depends(get_current_user)):\n",
    "    if current_user.get(\"disabled\"):\n",
    "        raise HTTPException(status_code=400, detail=\"Inactive user\")\n",
    "    return current_user\n",
    "\n",
    "def get_admin_user(current_user: dict = Depends(get_current_active_user)):\n",
    "    if current_user.get(\"role\") != \"admin\":\n",
    "        raise HTTPException(status_code=403, detail=\"Not enough permissions\")\n",
    "    return current_user\n"
   ]
  },
  {
   "cell_type": "markdown",
   "id": "f158df78-8297-488f-8fa7-7959c87d2e1c",
   "metadata": {},
   "source": [
    "**Dependency Injection**  \n",
    "FastAPI's dependency injection system allows you to manage security dependencies effectively. You can encapsulate complex security logic within dependency functions.\n"
   ]
  },
  {
   "cell_type": "code",
   "execution_count": null,
   "id": "5526aab4-b177-4779-aa96-1828cd78e6e8",
   "metadata": {},
   "outputs": [],
   "source": [
    "from fastapi import FastAPI\n",
    "\n",
    "app = FastAPI()\n",
    "\n",
    "@app.get(\"/items/\")\n",
    "async def read_items(current_user: dict = Depends(get_current_active_user)):\n",
    "    return [{\"item_id\": \"Foo\", \"owner\": current_user[\"username\"]}]\n"
   ]
  },
  {
   "cell_type": "markdown",
   "id": "5934deb1-e1cf-47dc-8dfd-38a3130348d7",
   "metadata": {},
   "source": [
    "**Advanced Features**\n",
    "\n",
    "- **HTTPS**  \n",
    "  Always use HTTPS in production to encrypt data in transit and protect it from eavesdropping.\n",
    "\n",
    "- **CORS**  \n",
    "  Enable Cross-Origin Resource Sharing (CORS) if your frontend is hosted on a different domain than your FastAPI backend.\n"
   ]
  },
  {
   "cell_type": "code",
   "execution_count": null,
   "id": "79bdd53e-fec2-441e-9fe1-2cae18cc88b0",
   "metadata": {},
   "outputs": [],
   "source": [
    "from fastapi.middleware.cors import CORSMiddleware\n",
    "\n",
    "app.add_middleware(\n",
    "    CORSMiddleware,\n",
    "    allow_origins=[\"*\"],\n",
    "    allow_credentials=True,\n",
    "    allow_methods=[\"*\"],\n",
    "    allow_headers=[\"*\"],\n",
    ")\n"
   ]
  },
  {
   "cell_type": "markdown",
   "id": "3855692c-5758-4941-b273-90f4a4cc40fc",
   "metadata": {},
   "source": [
    "**Rate Limiting**  \n",
    "Implement rate limiting to prevent abuse and enhance application security.\n",
    "\n",
    "**Security Headers**  \n",
    "Set appropriate security headers to mitigate common web vulnerabilities like XSS, CSRF, etc.\n",
    "\n",
    "**Web Security**  \n",
    "For traditional HTML content:\n",
    "- **CSRF Protection:** Protect against Cross-Site Request Forgery attacks.\n",
    "- **XSS Protection:** Sanitize and validate input to prevent Cross-Site Scripting attacks.\n",
    "- **Session Management:** Securely manage sessions, often via cookies.\n",
    "\n",
    "**Application Security**  \n",
    "For API endpoints:\n",
    "- **Input Validation:** Always validate input parameters.\n",
    "- **SQL Injection Prevention:** Use ORMs or parameterized queries to prevent SQL Injection.\n",
    "- **Rate Limiting:** Prevent abuse by rate-limiting requests.\n",
    "- **Auditing and Logging:** Keep logs to track access and identify potential breaches.\n",
    "\n",
    "**Example Setup**  \n",
    "An example FastAPI setup combining these elements:\n"
   ]
  },
  {
   "cell_type": "code",
   "execution_count": null,
   "id": "713cb8bd-e781-49ec-b99f-7a6aab5ff79e",
   "metadata": {},
   "outputs": [],
   "source": [
    "from fastapi import FastAPI, Depends, HTTPException\n",
    "from fastapi.security import OAuth2PasswordBearer\n",
    "from starlette.middleware.cors import CORSMiddleware\n",
    "import jwt\n",
    "\n",
    "app = FastAPI()\n",
    "\n",
    "# OAuth2 scheme\n",
    "oauth2_scheme = OAuth2PasswordBearer(tokenUrl=\"token\")\n",
    "\n",
    "# CORS middleware\n",
    "app.add_middleware(\n",
    "    CORSMiddleware,\n",
    "    allow_origins=[\"*\"],\n",
    "    allow_credentials=True,\n",
    "    allow_methods=[\"*\"],\n",
    "    allow_headers=[\"*\"],\n",
    ")\n",
    "\n",
    "SECRET_KEY = \"your_secret_key\"\n",
    "ALGORITHM = \"HS256\"\n",
    "\n",
    "async def get_current_user(token: str = Depends(oauth2_scheme)):\n",
    "    try:\n",
    "        payload = jwt.decode(token, SECRET_KEY, algorithms=[ALGORITHM])\n",
    "        username = payload.get(\"sub\")\n",
    "        if username is None:\n",
    "            raise HTTPException(status_code=401, detail=\"Invalid credentials\")\n",
    "    except jwt.PyJWTError:\n",
    "        raise HTTPException(status_code=401, detail=\"Invalid credentials\")\n",
    "    return {\"username\": username}\n",
    "\n",
    "@app.get(\"/items/\")\n",
    "async def read_items(current_user: dict = Depends(get_current_user)):\n",
    "    return [{\"item_id\": \"Foo\", \"owner\": current_user[\"username\"]}]\n"
   ]
  },
  {
   "cell_type": "markdown",
   "id": "9c9634e9-426c-450c-a30e-c768c7c108ea",
   "metadata": {},
   "source": [
    "In conclusion, FastAPI provides a comprehensive set of tools and practices for implementing security at both web and application levels, enabling you to build secure APIs and web applications effectively."
   ]
  },
  {
   "cell_type": "markdown",
   "id": "805e11ff-e8fb-46fe-82b0-4b105ef413ac",
   "metadata": {},
   "source": [
    "*******************************************************************\n",
    "# Simple and Some Advanced Securities"
   ]
  },
  {
   "cell_type": "markdown",
   "id": "4dd456f9-29f8-4e01-b25f-ca3f5dd22f89",
   "metadata": {},
   "source": [
    "**Simple and Useful Security Specifications**\n",
    "\n",
    "- **Input Validation**  \n",
    "  Ensure all inputs are validated to prevent injection attacks, such as SQL injection and cross-site scripting (XSS).\n"
   ]
  },
  {
   "cell_type": "code",
   "execution_count": null,
   "id": "95bfff48-66a0-4e5b-8af7-a0016fc4881a",
   "metadata": {},
   "outputs": [],
   "source": [
    "from pydantic import BaseModel, constr\n",
    "\n",
    "class Item(BaseModel):\n",
    "    name: constr(min_length=1, max_length=100)\n",
    "    description: Optional[str] = None\n",
    "\n",
    "@app.post(\"/items/\")\n",
    "async def create_item(item: Item):\n",
    "    return item\n"
   ]
  },
  {
   "cell_type": "markdown",
   "id": "700f3098-8b39-48cf-b34b-815e1ea8df5a",
   "metadata": {},
   "source": [
    "- **CSRF Protection**  \n",
    "  Mitigate Cross-Site Request Forgery (CSRF) by using anti-CSRF tokens in your forms and API requests.\n",
    "\n",
    "- **Secure Headers**  \n",
    "  Use secure headers like Content Security Policy (CSP), X-Frame-Options, and others to protect against common vulnerabilities.\n"
   ]
  },
  {
   "cell_type": "code",
   "execution_count": null,
   "id": "86a21fe6-9898-4284-9f6d-ed42ce8c2df1",
   "metadata": {},
   "outputs": [],
   "source": [
    "from starlette.middleware.httpsredirect import HTTPSRedirectMiddleware\n",
    "\n",
    "app.add_middleware(\n",
    "    HTTPSRedirectMiddleware\n",
    ")\n"
   ]
  },
  {
   "cell_type": "markdown",
   "id": "f6009b75-498e-4774-bd43-8b324429e4ab",
   "metadata": {},
   "source": [
    "**Logging and Monitoring**  \n",
    "Implement logging and monitoring to detect suspicious activities in real-time.\n"
   ]
  },
  {
   "cell_type": "code",
   "execution_count": null,
   "id": "34d60596-b093-41dd-bdfe-8c62f71bc365",
   "metadata": {},
   "outputs": [],
   "source": [
    "import logging\n",
    "\n",
    "logging.basicConfig(filename='app.log', level=logging.INFO)\n",
    "\n",
    "@app.get(\"/log-example\")\n",
    "async def log_example():\n",
    "    logging.info(\"This is an info log\")\n",
    "    return {\"message\": \"Check your logs\"}\n"
   ]
  },
  {
   "cell_type": "markdown",
   "id": "052364b4-af4c-41af-ac7b-29db53f1e61f",
   "metadata": {},
   "source": [
    "**Advanced Password Security Management**  \n",
    "Effective password security is crucial for protecting user accounts. Here are some advanced password security management techniques:\n",
    "\n",
    "- **Password Hashing**  \n",
    "  Store passwords as hashes rather than plain text. Use strong hashing algorithms like bcrypt.\n"
   ]
  },
  {
   "cell_type": "code",
   "execution_count": null,
   "id": "e266e2f3-b060-4572-b994-35a58b09f3b1",
   "metadata": {},
   "outputs": [],
   "source": [
    "from passlib.context import CryptContext\n",
    "\n",
    "pwd_context = CryptContext(schemes=[\"bcrypt\"], deprecated=\"auto\")\n",
    "\n",
    "def hash_password(password: str) -> str:\n",
    "    return pwd_context.hash(password)\n",
    "\n",
    "def verify_password(plain_password: str, hashed_password: str) -> bool:\n",
    "    return pwd_context.verify(plain_password, hashed_password)\n"
   ]
  },
  {
   "cell_type": "markdown",
   "id": "710b4ac1-622e-4d50-8409-2c994097dd76",
   "metadata": {},
   "source": [
    "- **Password Salting**  \n",
    "  Combine user passwords with unique salts before hashing to preclude rainbow table attacks.\n"
   ]
  },
  {
   "cell_type": "code",
   "execution_count": null,
   "id": "5c1edddd-edf9-49af-997c-a0b7e5f14db7",
   "metadata": {},
   "outputs": [],
   "source": [
    "import os\n",
    "\n",
    "def generate_salt() -> str:\n",
    "    return os.urandom(32).hex()\n",
    "\n",
    "def hash_password_with_salt(password: str, salt: str) -> str:\n",
    "    combined = password + salt\n",
    "    return pwd_context.hash(combined)\n"
   ]
  },
  {
   "cell_type": "markdown",
   "id": "875cbf78-94f1-47c9-968e-825b4a3ecd57",
   "metadata": {},
   "source": [
    "- **Enforce Strong Passwords**  \r\n",
    "  Enforce policies that require users to use complex passwords.\r\n"
   ]
  },
  {
   "cell_type": "code",
   "execution_count": null,
   "id": "f89e35ec-1b56-4a0d-8c4c-5c6f75cfb3a6",
   "metadata": {},
   "outputs": [],
   "source": [
    "from pydantic import BaseModel, Field, validator\n",
    "\n",
    "class UserCreate(BaseModel):\n",
    "    username: str\n",
    "    password: str\n",
    "\n",
    "    @validator('password')\n",
    "    def password_complexity(cls, value):\n",
    "        if len(value) < 8 or not any(c.isdigit() for c in value) or not any(c.isalpha() for c in value):\n",
    "            raise ValueError('Password must be at least 8 characters long and include both letters and numbers')\n",
    "        return value\n"
   ]
  },
  {
   "cell_type": "markdown",
   "id": "54a2eaca-760b-4720-962f-9b13cedc2676",
   "metadata": {},
   "source": [
    "- **Multi-Factor Authentication (MFA)**  \r\n",
    "  Add an extra layer of security by requiring two or more verification methods.\r\n",
    "."
   ]
  },
  {
   "cell_type": "code",
   "execution_count": null,
   "id": "a28d0643-ed4d-43ab-8cac-de82fa699d7a",
   "metadata": {},
   "outputs": [],
   "source": [
    "# Example setup for Time-based One-Time Password (TOTP)\n",
    "# This example uses the pyotp library\n",
    "import pyotp\n",
    "\n",
    "# Generate a TOTP secret key\n",
    "totp_secret = pyotp.random_base32()\n",
    "\n",
    "# Generate a TOTP based on the current time\n",
    "totp = pyotp.TOTP(totp_secret)\n",
    "print(f\"Current TOTP: {totp.now()}\")\n",
    "\n",
    "# Verify the provided TOTP\n",
    "def verify_totp(totp_provided: str, secret: str) -> bool:\n",
    "    totp = pyotp.TOTP(secret)\n",
    "    return totp.verify(totp_provided)\n"
   ]
  },
  {
   "cell_type": "markdown",
   "id": "ff2eb3d0-5a4f-4595-ae45-9ef192c09e9c",
   "metadata": {},
   "source": [
    "**Emerging Technologies in Security**\n",
    "\n",
    "- **Zero Trust Architecture**  \n",
    "  Zero Trust is a security model centered around the principle of never trust, always verify. It assumes no one is trusted by default, inside or outside the network.\n",
    "\n",
    "- **Homomorphic Encryption**  \n",
    "  Homomorphic encryption allows computations to be performed directly on encrypted data without needing access to a secret key, thus preserving privacy.\n",
    "\n",
    "- **Blockchain for Security**  \n",
    "  Blockchain technology can provide decentralized and tamper-resistant ledgers for improved security in various applications, from supply chain management to digital identity verification.\n",
    "\n",
    "- **AI and Machine Learning**  \n",
    "  AI and machine learning are increasingly used to identify patterns and detect anomalies in real-time, enhancing threat detection and response capabilities.\n",
    "\n",
    "- **Quantum Cryptography**  \n",
    "  Quantum cryptography leverages the principles of quantum mechanics to create theoretically unbreakable encryption.\n",
    "\n",
    "- **Secure Access Service Edge (SASE)**  \n",
    "  SASE combines wide-area networking and security into a single cloud-delivered service model to enhance secure access to resources regardless of location.\n",
    "\n",
    "**Conclusion**  \n",
    "By combining these simple and advanced security measures, you can significantly enhance the security posture of your web and application architectures. Understanding and implementing cutting-edge technologies will further future-proof your systems against evolving security threats.\n"
   ]
  },
  {
   "cell_type": "code",
   "execution_count": null,
   "id": "7004cc46-338f-4e63-846e-451c6814480f",
   "metadata": {},
   "outputs": [],
   "source": []
  }
 ],
 "metadata": {
  "kernelspec": {
   "display_name": "Python 3 (ipykernel)",
   "language": "python",
   "name": "python3"
  },
  "language_info": {
   "codemirror_mode": {
    "name": "ipython",
    "version": 3
   },
   "file_extension": ".py",
   "mimetype": "text/x-python",
   "name": "python",
   "nbconvert_exporter": "python",
   "pygments_lexer": "ipython3",
   "version": "3.11.7"
  }
 },
 "nbformat": 4,
 "nbformat_minor": 5
}
