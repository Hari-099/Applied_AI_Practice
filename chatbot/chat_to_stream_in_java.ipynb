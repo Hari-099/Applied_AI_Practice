{
 "cells": [
  {
   "cell_type": "markdown",
   "id": "3df64016-0feb-4bde-9ac7-b8f8caeaffa8",
   "metadata": {},
   "source": [
    "# Chat Streaming in Java\n",
    "\n",
    "In reactive programming with Project Reactor, ensuring that a Flux stream processes elements in a sequential (linear) order is typically the default behavior. However, certain operations can potentially alter the order, especially when dealing with parallel processing or asynchrony."
   ]
  },
  {
   "cell_type": "markdown",
   "id": "923260a3-864f-4a95-9efa-11d8008aa7e4",
   "metadata": {},
   "source": [
    "If you want to ensure that operations are performed in a strict sequence, you can use operators like `concatMap` , `flatMapSequential` , or simply rely on the default behavior of `map` and `flatMap` when not dealing with parallelism.\n",
    "\n",
    "Here's an example demonstrating how to process a `Flux` stream in a sequential order using `concatMap` :\n",
    "\n",
    "<h2>Example: Sequential Processing with</h2> `concatMap`"
   ]
  },
  {
   "cell_type": "code",
   "execution_count": null,
   "id": "ecd78925-66f4-4fa7-98a6-c7a12a114a8e",
   "metadata": {},
   "outputs": [],
   "source": [
    "import reactor.core.publisher.Flux;\n",
    "import reactor.core.publisher.Mono;\n",
    "\n",
    "public class SequentialFluxExample {\n",
    "\n",
    "    public static void main(String[] args) {\n",
    "        Flux<String> flux = Flux.just(\"one\", \"two\", \"three\", \"four\");\n",
    "\n",
    "        flux.concatMap(SequentialFluxExample::processElement)\n",
    "            .doOnNext(System.out::println)\n",
    "            .blockLast();  // Block to wait for completion in this example\n",
    "    }\n",
    "\n",
    "    private static Mono<String> processElement(String element) {\n",
    "        return Mono.just(element)\n",
    "                .map(e -> {\n",
    "                    // Simulate some processing\n",
    "                    return \"Processed \" + e;\n",
    "                });\n",
    "    }\n",
    "}\n"
   ]
  },
  {
   "cell_type": "markdown",
   "id": "9d444158-84a8-4638-b51a-3ae856572fb4",
   "metadata": {},
   "source": [
    "<h2>Explanation:</h2>\n",
    "\n",
    "<ul>\n",
    "    <li><code>Flux.just(\"one\", \"two\", \"three\", \"four\")</code>: Creates a <code>Flux</code> emitting a sequence of strings.</li>\n",
    "    <li><code>concatMap(SequentialFluxExample::processElement)</code>: Ensures that each element is processed in the order they are emitted. The <code>processElement</code> method is called for each element, and it returns a <code>Mono&lt;String&gt;</code>.</li>\n",
    "    <li><code>processElement(String element)</code>: Simulates processing by appending \"Processed\" to each element.</li>\n",
    "    <li><code>doOnNext(System.out::println)</code>: Prints each processed element to the console.</li>\n",
    "    <li><code>blockLast()</code>: Blocks the main thread until the <code>Flux</code> completes. This is typically used in examples or tests to wait for the reactive pipeline to complete.</li>\n",
    "</ul>"
   ]
  },
  {
   "cell_type": "markdown",
   "id": "14069f22-a2b7-40ee-a5eb-8f26b34aeceb",
   "metadata": {},
   "source": [
    "<h2>Sequential Processing with <code>flatMapSequential</code></h2>\n",
    "\n",
    "<p>Another way to ensure sequential processing is by using <code>flatMapSequential</code>. \n",
    "This operator ensures that even if the inner publishers are running asynchronously, the results are emitted in the original order.</p>\n",
    "\n",
    "<h3>Example: Sequential Processing with <code>flatMapSequential</code></h3>"
   ]
  },
  {
   "cell_type": "code",
   "execution_count": null,
   "id": "a98f6e9c-ea1f-412d-8fb1-91357b4e0669",
   "metadata": {},
   "outputs": [],
   "source": [
    "import reactor.core.publisher.Flux;\n",
    "import reactor.core.publisher.Mono;\n",
    "\n",
    "public class SequentialFluxExample {\n",
    "\n",
    "    public static void main(String[] args) {\n",
    "        Flux<String> flux = Flux.just(\"one\", \"two\", \"three\", \"four\");\n",
    "\n",
    "        flux.flatMapSequential(SequentialFluxExample::processElement)\n",
    "            .doOnNext(System.out::println)\n",
    "            .blockLast();  // Block to wait for completion in this example\n",
    "    }\n",
    "\n",
    "    private static Mono<String> processElement(String element) {\n",
    "        return Mono.just(element)\n",
    "                .map(e -> {\n",
    "                    // Simulate some processing\n",
    "                    return \"Processed \" + e;\n",
    "                });\n",
    "    }\n",
    "}\n"
   ]
  },
  {
   "cell_type": "markdown",
   "id": "8e2ce383-bf2c-4038-9106-14cfb7d1ef93",
   "metadata": {},
   "source": [
    "<h3>Explanation:</h3>\n",
    "<ul>\n",
    "    <li><code>flatMapSequential</code>: Ensures that the results are emitted in the original order, even if the processing of elements is done asynchronously.</li>\n",
    "    <li>Both <code>concatMap</code> and <code>flatMapSequential</code> can be used to maintain the sequential order of a <code>Flux</code> stream, ensuring that elements are processed and emitted in the order they were received.</li>\n",
    "    <li>Use <code>concatMap</code> for strictly sequential processing and <code>flatMapSequential</code> when you need to handle asynchronous inner publishers while maintaining the order.</li>\n",
    "</ul>"
   ]
  },
  {
   "cell_type": "markdown",
   "id": "6febd75c-91e8-404b-b2d8-b12e3aac1c80",
   "metadata": {},
   "source": [
    "*************************************"
   ]
  },
  {
   "cell_type": "markdown",
   "id": "6c44c202-e412-490e-81bf-632a3142c769",
   "metadata": {},
   "source": [
    "************************"
   ]
  },
  {
   "cell_type": "markdown",
   "id": "4a5a7069-bf84-4bf6-8b24-508b4e321a63",
   "metadata": {},
   "source": [
    "<p>To implement the code to ensure the <code>Flux</code> stream processes elements in a sequential (linear) order, we can use different approaches such as <code>concatMap</code>, <code>flatMapSequential</code>, and the default sequential processing with <code>map</code>.</p>\n",
    "\n",
    "<p>Here are three different ways to achieve sequential processing:</p>\n",
    "\n",
    "<h3>1. Using <code>concatMap</code></h3>"
   ]
  },
  {
   "cell_type": "code",
   "execution_count": null,
   "id": "de2a5996-92b8-41c8-8486-3d04596b5c30",
   "metadata": {},
   "outputs": [],
   "source": [
    "package com.smarttrak.openai.controller;\n",
    "\n",
    "import org.springframework.ai.chat.client.ChatClient;\n",
    "import org.springframework.beans.factory.annotation.Autowired;\n",
    "import org.springframework.http.MediaType;\n",
    "import org.springframework.web.bind.annotation.GetMapping;\n",
    "import org.springframework.web.bind.annotation.RequestParam;\n",
    "import org.springframework.web.bind.annotation.RestController;\n",
    "import reactor.core.publisher.Flux;\n",
    "import reactor.core.publisher.Mono;\n",
    "\n",
    "@RestController\n",
    "public class OpenAiController {\n",
    "\n",
    "    private final ChatClient chatClient;\n",
    "\n",
    "    @Autowired\n",
    "    public OpenAiController(ChatClient.Builder chatClientBuilder) {\n",
    "        this.chatClient = chatClientBuilder.build();\n",
    "    }\n",
    "\n",
    "    @GetMapping(value = \"/ai-stream-inline-concat\", produces = MediaType.TEXT_EVENT_STREAM_VALUE)\n",
    "    public Flux<String> generationConcatMap(@RequestParam(\"input\") String userInput) {\n",
    "        return chatClient.prompt()\n",
    "                .user(userInput)\n",
    "                .stream()\n",
    "                .content()\n",
    "                .concatMap(this::processElement)  // Ensures sequential processing\n",
    "                //.delayElements(Duration.ofMillis(500))  // Adjust the delay for slow streaming\n",
    "                .onErrorResume(e -> Flux.just(\"An error occurred while generating AI content: \" + e.getMessage()));\n",
    "    }\n",
    "\n",
    "    private Mono<String> processElement(String element) {\n",
    "        return Mono.just(element)\n",
    "                .map(e -> \"Processed \" + e);\n",
    "    }\n",
    "}\n"
   ]
  },
  {
   "cell_type": "markdown",
   "id": "c94f3a6a-8457-4880-acef-0b5fc9c9704a",
   "metadata": {},
   "source": [
    "<h3>2. Using <code>flatMapSequential</code></h3>"
   ]
  },
  {
   "cell_type": "code",
   "execution_count": null,
   "id": "c800a044-3a91-4074-9fca-2d444bd59ff0",
   "metadata": {},
   "outputs": [],
   "source": [
    "package com.smarttrak.openai.controller;\n",
    "\n",
    "import org.springframework.ai.chat.client.ChatClient;\n",
    "import org.springframework.beans.factory.annotation.Autowired;\n",
    "import org.springframework.http.MediaType;\n",
    "import org.springframework.web.bind.annotation.GetMapping;\n",
    "import org.springframework.web.bind.annotation.RequestParam;\n",
    "import org.springframework.web.bind.annotation.RestController;\n",
    "import reactor.core.publisher.Flux;\n",
    "import reactor.core.publisher.Mono;\n",
    "\n",
    "@RestController\n",
    "public class OpenAiController {\n",
    "\n",
    "    private final ChatClient chatClient;\n",
    "\n",
    "    @Autowired\n",
    "    public OpenAiController(ChatClient.Builder chatClientBuilder) {\n",
    "        this.chatClient = chatClientBuilder.build();\n",
    "    }\n",
    "\n",
    "    @GetMapping(value = \"/ai-stream-inline-flatmap\", produces = MediaType.TEXT_EVENT_STREAM_VALUE)\n",
    "    public Flux<String> generationFlatMapSequential(@RequestParam(\"input\") String userInput) {\n",
    "        return chatClient.prompt()\n",
    "                .user(userInput)\n",
    "                .stream()\n",
    "                .content()\n",
    "                .flatMapSequential(this::processElement)  // Ensures sequential processing\n",
    "                //.delayElements(Duration.ofMillis(500))  // Adjust the delay for slow streaming\n",
    "                .onErrorResume(e -> Flux.just(\"An error occurred while generating AI content: \" + e.getMessage()));\n",
    "    }\n",
    "\n",
    "    private Mono<String> processElement(String element) {\n",
    "        return Mono.just(element)\n",
    "                .map(e -> \"Processed \" + e);\n",
    "    }\n",
    "}\n"
   ]
  },
  {
   "cell_type": "markdown",
   "id": "5200689f-6c2b-48bb-a87c-ba6145b9b7d5",
   "metadata": {},
   "source": [
    "<h3>3. Using Default Sequential Processing with <code>map</code></h3>"
   ]
  },
  {
   "cell_type": "code",
   "execution_count": null,
   "id": "ce6039d6-d9c6-4101-a6c3-ceb552c9a58d",
   "metadata": {},
   "outputs": [],
   "source": [
    "package com.smarttrak.openai.controller;\n",
    "\n",
    "import org.springframework.ai.chat.client.ChatClient;\n",
    "import org.springframework.beans.factory.annotation.Autowired;\n",
    "import org.springframework.http.MediaType;\n",
    "import org.springframework.web.bind.annotation.GetMapping;\n",
    "import org.springframework.web.bind.annotation.RequestParam;\n",
    "import org.springframework.web.bind.annotation.RestController;\n",
    "import reactor.core.publisher.Flux;\n",
    "\n",
    "@RestController\n",
    "public class OpenAiController {\n",
    "\n",
    "    private final ChatClient chatClient;\n",
    "\n",
    "    @Autowired\n",
    "    public OpenAiController(ChatClient.Builder chatClientBuilder) {\n",
    "        this.chatClient = chatClientBuilder.build();\n",
    "    }\n",
    "\n",
    "    @GetMapping(value = \"/ai-stream-inline-map\", produces = MediaType.TEXT_EVENT_STREAM_VALUE)\n",
    "    public Flux<String> generationMap(@RequestParam(\"input\") String userInput) {\n",
    "        return chatClient.prompt()\n",
    "                .user(userInput)\n",
    "                .stream()\n",
    "                .content()\n",
    "                .map(element -> \"Processed \" + element)  // Default sequential processing\n",
    "                //.delayElements(Duration.ofMillis(500))  // Adjust the delay for slow streaming\n",
    "                .onErrorResume(e -> Flux.just(\"An error occurred while generating AI content: \" + e.getMessage()));\n",
    "    }\n",
    "}\n"
   ]
  },
  {
   "cell_type": "markdown",
   "id": "e3a0086a-c3ad-4f8f-83f7-995480a869d4",
   "metadata": {},
   "source": [
    "<h3>Explanation:</h3>\n",
    "<ul>\n",
    "    <li><strong>Using <code>concatMap</code>:</strong> Ensures each element is processed one by one in the order they are emitted.</li>\n",
    "    <li><strong>Using <code>flatMapSequential</code>:</strong> Ensures the results are emitted in the original order, even if processing is asynchronous.</li>\n",
    "    <li><strong>Using Default Sequential Processing with <code>map</code>:</strong> Directly processes each element sequentially without transforming it into another reactive type.</li>\n",
    "</ul>\n",
    "<p>These examples ensure that the elements are processed in a sequential (linear) order, and they provide different ways to handle the processing based on your specific needs.</p>"
   ]
  },
  {
   "cell_type": "markdown",
   "id": "bd51543a-0a0a-4454-a633-3007e8dab786",
   "metadata": {},
   "source": [
    "<h3>Example: Introducing Delay in SSE Stream</h3>"
   ]
  },
  {
   "cell_type": "code",
   "execution_count": null,
   "id": "4f9050c2-3c9b-4864-b4d0-12667f0112d8",
   "metadata": {},
   "outputs": [],
   "source": [
    "package com.smarttrak.openai.controller;\n",
    "\n",
    "import org.springframework.ai.chat.client.ChatClient;\n",
    "import org.springframework.beans.factory.annotation.Autowired;\n",
    "import org.springframework.http.MediaType;\n",
    "import org.springframework.web.bind.annotation.GetMapping;\n",
    "import org.springframework.web.bind.annotation.RequestParam;\n",
    "import org.springframework.web.bind.annotation.RestController;\n",
    "import reactor.core.publisher.Flux;\n",
    "import reactor.core.publisher.Mono;\n",
    "\n",
    "import java.time.Duration;\n",
    "\n",
    "@RestController\n",
    "public class OpenAiController {\n",
    "\n",
    "    private final ChatClient chatClient;\n",
    "\n",
    "    @Autowired\n",
    "    public OpenAiController(ChatClient.Builder chatClientBuilder) {\n",
    "        this.chatClient = chatClientBuilder.build();\n",
    "    }\n",
    "\n",
    "    @GetMapping(value = \"/ai-stream-inline-delay\", produces = MediaType.TEXT_EVENT_STREAM_VALUE)\n",
    "    public Flux<String> generationWithDelay(@RequestParam(\"input\") String userInput) {\n",
    "        return chatClient.prompt()\n",
    "                .user(userInput)\n",
    "                .stream()\n",
    "                .content()\n",
    "                .concatMap(this::processElement)  // Ensures sequential processing\n",
    "                .delayElements(Duration.ofMillis(500))  // Introduce delay in the stream\n",
    "                .onErrorResume(e -> Flux.just(\"An error occurred while generating AI content: \" + e.getMessage()));\n",
    "    }\n",
    "\n",
    "    private Mono<String> processElement(String element) {\n",
    "        return Mono.just(element)\n",
    "                .map(e -> \"Processed \" + e);\n",
    "    }\n",
    "}\n"
   ]
  },
  {
   "cell_type": "markdown",
   "id": "037d99aa-3c99-4ec6-a0b4-0d807fb442f8",
   "metadata": {},
   "source": [
    "<h3>Explanation:</h3>\n",
    "<ul>\n",
    "    <li><code>concatMap(this::processElement)</code>: Ensures that each element is processed sequentially.</li>\n",
    "    <li><code>delayElements(Duration.ofMillis(500))</code>: Introduces a delay of 500 milliseconds between each emitted element in the stream. Adjust the duration as needed.</li>\n",
    "</ul>"
   ]
  },
  {
   "cell_type": "markdown",
   "id": "387a8872-09bf-4ea9-844d-d88912e3f88f",
   "metadata": {},
   "source": [
    "<h3>Result:</h3>\n",
    "With this implementation, the elements in the stream will be emitted with a delay of 500 milliseconds between each element. This delay is introduced using the delayElements operator from Project Reactor, which works seamlessly with MediaType.TEXT_EVENT_STREAM_VALUE ."
   ]
  },
  {
   "cell_type": "markdown",
   "id": "be2e2296-8e21-42b1-9d6b-86af3fc0cef1",
   "metadata": {},
   "source": [
    "*****************************************************"
   ]
  },
  {
   "cell_type": "markdown",
   "id": "879d26c7-2f46-47c5-83e1-0908d9db0752",
   "metadata": {},
   "source": [
    "***********************************************"
   ]
  },
  {
   "cell_type": "markdown",
   "id": "afa0988e-a04d-4f5d-a05d-f21497d6e4f7",
   "metadata": {},
   "source": [
    "# Kafka Integration in Chat Streaming\n",
    "Configuring AWS Managed Streaming for Apache Kafka (MSK) and AWS Command Line Interface (AWS CLI) in a Spring Boot application while adhering to design patterns and principles can be a comprehensive task. Below is a modular approach that leverages design patterns and best practices:\n",
    "\n",
    "RECOMMENDED - https://docs.aws.amazon.com/sdk-for-java/latest/developer-guide/home.html"
   ]
  },
  {
   "cell_type": "markdown",
   "id": "aaa2ba77-628e-498f-bf36-ee48c59fe1a1",
   "metadata": {},
   "source": [
    "## 1. Project Structure\n",
    "First, let's define a modular project structure:"
   ]
  },
  {
   "cell_type": "code",
   "execution_count": null,
   "id": "f6e21e4b-7b2e-4c5d-8ba8-ac02b13e310c",
   "metadata": {},
   "outputs": [],
   "source": [
    "src/main/java/com/example/awsmsk\n",
    "    ├── config\n",
    "    │   ├── AwsMskConfig.java\n",
    "    │   ├── AwsCliConfig.java\n",
    "    ├── service\n",
    "    │   ├── KafkaProducerService.java\n",
    "    │   ├── KafkaConsumerService.java\n",
    "    ├── controller\n",
    "    │   ├── KafkaController.java\n",
    "    ├── model\n",
    "    │   ├── Message.java\n",
    "    ├── Application.java\n"
   ]
  },
  {
   "cell_type": "markdown",
   "id": "d1cc44f5-8580-44a2-a718-89342284a9a0",
   "metadata": {},
   "source": [
    "## 2. Dependency Management\n",
    "Add the necessary dependencies in your pom.xml :"
   ]
  },
  {
   "cell_type": "code",
   "execution_count": null,
   "id": "86d388cb-da63-474a-b506-e59bae097e1c",
   "metadata": {},
   "outputs": [],
   "source": [
    "<dependencies>\n",
    "    <!-- Spring Boot and Kafka dependencies -->\n",
    "    <dependency>\n",
    "        <groupId>org.springframework.boot</groupId>\n",
    "        <artifactId>spring-boot-starter</artifactId>\n",
    "    </dependency>\n",
    "    <dependency>\n",
    "        <groupId>org.springframework.kafka</groupId>\n",
    "        <artifactId>spring-kafka</artifactId>\n",
    "    </dependency>\n",
    "    <!-- AWS SDK dependencies -->\n",
    "    <dependency>\n",
    "        <groupId>software.amazon.awssdk</groupId>\n",
    "        <artifactId>kafka</artifactId>\n",
    "    </dependency>\n",
    "    <dependency>\n",
    "        <groupId>software.amazon.awssdk</groupId>\n",
    "        <artifactId>aws-sdk-java</artifactId>\n",
    "    </dependency>\n",
    "</dependencies>\n"
   ]
  },
  {
   "cell_type": "markdown",
   "id": "363669c2-4c63-498e-b0cd-3ec6d3410f35",
   "metadata": {},
   "source": [
    "## 3. Configuration Classes\n",
    "<b>AwsMskConfig.java</b>\n",
    "\n",
    "This configuration class sets up the Kafka producer and consumer:"
   ]
  },
  {
   "cell_type": "code",
   "execution_count": null,
   "id": "6efc9cfa-a8c7-4b9d-ba3f-f6e5f435e314",
   "metadata": {},
   "outputs": [],
   "source": [
    "package com.example.awsmsk.config;\n",
    "\n",
    "import org.apache.kafka.clients.consumer.ConsumerConfig;\n",
    "import org.apache.kafka.clients.producer.ProducerConfig;\n",
    "import org.apache.kafka.common.serialization.StringDeserializer;\n",
    "import org.apache.kafka.common.serialization.StringSerializer;\n",
    "import org.springframework.context.annotation.Bean;\n",
    "import org.springframework.context.annotation.Configuration;\n",
    "import org.springframework.kafka.core.*;\n",
    "\n",
    "import java.util.HashMap;\n",
    "import java.util.Map;\n",
    "\n",
    "@Configuration\n",
    "public class AwsMskConfig {\n",
    "\n",
    "    @Bean\n",
    "    public ProducerFactory<String, String> producerFactory() {\n",
    "        Map<String, Object> config = new HashMap<>();\n",
    "        config.put(ProducerConfig.BOOTSTRAP_SERVERS_CONFIG, \"your-msk-bootstrap-servers\");\n",
    "        config.put(ProducerConfig.KEY_SERIALIZER_CLASS_CONFIG, StringSerializer.class);\n",
    "        config.put(ProducerConfig.VALUE_SERIALIZER_CLASS_CONFIG, StringSerializer.class);\n",
    "        return new DefaultKafkaProducerFactory<>(config);\n",
    "    }\n",
    "\n",
    "    @Bean\n",
    "    public KafkaTemplate<String, String> kafkaTemplate() {\n",
    "        return new KafkaTemplate<>(producerFactory());\n",
    "    }\n",
    "\n",
    "    @Bean\n",
    "    public ConsumerFactory<String, String> consumerFactory() {\n",
    "        Map<String, Object> config = new HashMap<>();\n",
    "        config.put(ConsumerConfig.BOOTSTRAP_SERVERS_CONFIG, \"your-msk-bootstrap-servers\");\n",
    "        config.put(ConsumerConfig.GROUP_ID_CONFIG, \"group_id\");\n",
    "        config.put(ConsumerConfig.KEY_DESERIALIZER_CLASS_CONFIG, StringDeserializer.class);\n",
    "        config.put(ConsumerConfig.VALUE_DESERIALIZER_CLASS_CONFIG, StringDeserializer.class);\n",
    "        return new DefaultKafkaConsumerFactory<>(config);\n",
    "    }\n",
    "\n",
    "    @Bean\n",
    "    public ConcurrentKafkaListenerContainerFactory<String, String> kafkaListenerContainerFactory() {\n",
    "        ConcurrentKafkaListenerContainerFactory<String, String> factory = new ConcurrentKafkaListenerContainerFactory<>();\n",
    "        factory.setConsumerFactory(consumerFactory());\n",
    "        return factory;\n",
    "    }\n",
    "}\n"
   ]
  },
  {
   "cell_type": "markdown",
   "id": "d114eab2-1b77-4114-b943-67c45e057acb",
   "metadata": {},
   "source": [
    "## AwsCliConfig.java\n",
    "\n",
    "This configuration class sets up the AWS CLI:"
   ]
  },
  {
   "cell_type": "code",
   "execution_count": null,
   "id": "6e19f292-fafd-490d-9f0e-d5e3925f3785",
   "metadata": {},
   "outputs": [],
   "source": [
    "package com.example.awsmsk.config;\n",
    "\n",
    "import org.springframework.context.annotation.Bean;\n",
    "import org.springframework.context.annotation.Configuration;\n",
    "import software.amazon.awssdk.auth.credentials.ProfileCredentialsProvider;\n",
    "import software.amazon.awssdk.services.s3.S3Client;\n",
    "\n",
    "@Configuration\n",
    "public class AwsCliConfig {\n",
    "\n",
    "    @Bean\n",
    "    public S3Client s3Client() {\n",
    "        return S3Client.builder()\n",
    "                .credentialsProvider(ProfileCredentialsProvider.create())\n",
    "                .build();\n",
    "    }\n",
    "}\n"
   ]
  },
  {
   "cell_type": "markdown",
   "id": "560b5b3b-3672-4a3c-b897-a25364526fc2",
   "metadata": {},
   "source": [
    "## 4. Service\n",
    "<b>KafkaProducerService.java</b>\n",
    "\n",
    "This service handles producing messages to Kafka:"
   ]
  },
  {
   "cell_type": "code",
   "execution_count": null,
   "id": "8785583f-3d16-4574-ace2-e3773c227739",
   "metadata": {},
   "outputs": [],
   "source": [
    "package com.example.awsmsk.service;\n",
    "\n",
    "import org.springframework.beans.factory.annotation.Autowired;\n",
    "import org.springframework.kafka.core.KafkaTemplate;\n",
    "import org.springframework.stereotype.Service;\n",
    "\n",
    "@Service\n",
    "public class KafkaProducerService {\n",
    "\n",
    "    private final KafkaTemplate<String, String> kafkaTemplate;\n",
    "\n",
    "    @Autowired\n",
    "    public KafkaProducerService(KafkaTemplate<String, String> kafkaTemplate) {\n",
    "        this.kafkaTemplate = kafkaTemplate;\n",
    "    }\n",
    "\n",
    "    public void sendMessage(String topic, String message) {\n",
    "        kafkaTemplate.send(topic, message);\n",
    "    }\n",
    "}\n"
   ]
  },
  {
   "cell_type": "markdown",
   "id": "c7d20817-adc3-4003-bdf2-15587058bb07",
   "metadata": {},
   "source": [
    "## KafkaConsumerService.java\n",
    "\n",
    "This service handles consuming messages from Kafka:"
   ]
  },
  {
   "cell_type": "code",
   "execution_count": null,
   "id": "f8c0d9e3-efff-4f1f-a040-8b98df7ad345",
   "metadata": {},
   "outputs": [],
   "source": [
    "package com.example.awsmsk.service;\n",
    "\n",
    "import org.springframework.kafka.annotation.KafkaListener;\n",
    "import org.springframework.stereotype.Service;\n",
    "\n",
    "@Service\n",
    "public class KafkaConsumerService {\n",
    "\n",
    "    @KafkaListener(topics = \"your-topic\", groupId = \"group_id\")\n",
    "    public void consume(String message) {\n",
    "        System.out.println(\"Consumed message: \" + message);\n",
    "    }\n",
    "}\n"
   ]
  },
  {
   "cell_type": "markdown",
   "id": "17c5e427-0545-4ce3-b4fe-a5e4ccfb3ce4",
   "metadata": {},
   "source": [
    "## 5. Controller\n",
    "\n",
    "<b>KafkaController.java</b>\n",
    "\n",
    "This controller exposes endpoints to send messages to Kafka:"
   ]
  },
  {
   "cell_type": "code",
   "execution_count": null,
   "id": "1cf7b540-0d62-42f2-8edd-7ee021df201f",
   "metadata": {},
   "outputs": [],
   "source": [
    "package com.example.awsmsk.controller;\n",
    "\n",
    "import com.example.awsmsk.service.KafkaProducerService;\n",
    "import org.springframework.beans.factory.annotation.Autowired;\n",
    "import org.springframework.web.bind.annotation.*;\n",
    "\n",
    "@RestController\n",
    "@RequestMapping(\"/api/kafka\")\n",
    "public class KafkaController {\n",
    "\n",
    "    private final KafkaProducerService producerService;\n",
    "\n",
    "    @Autowired\n",
    "    public KafkaController(KafkaProducerService producerService) {\n",
    "        this.producerService = producerService;\n",
    "    }\n",
    "\n",
    "    @PostMapping(\"/publish\")\n",
    "    public void sendMessageToKafkaTopic(@RequestParam(\"message\") String message) {\n",
    "        producerService.sendMessage(\"your-topic\", message);\n",
    "    }\n",
    "}\n"
   ]
  },
  {
   "cell_type": "code",
   "execution_count": null,
   "id": "1c78b17c-20b1-4dd8-a30f-63aafdbe2ecf",
   "metadata": {},
   "outputs": [],
   "source": [
    "## 6. Model\n",
    "\n",
    "<b>Message.java<b>\n",
    "A simple model class:"
   ]
  },
  {
   "cell_type": "code",
   "execution_count": null,
   "id": "cb0faf81-9ef1-4c49-8e38-19f8cf85ae74",
   "metadata": {},
   "outputs": [],
   "source": [
    "package com.example.awsmsk.model;\n",
    "\n",
    "public class Message {\n",
    "    private String content;\n",
    "\n",
    "    // getters and setters\n",
    "}\n"
   ]
  },
  {
   "cell_type": "markdown",
   "id": "2a0d301d-6146-4655-b8cb-2a69a6d8c7b2",
   "metadata": {},
   "source": [
    "## 7. Application Class\n",
    "\n",
    "<b>Application.java</b>\n",
    "\n",
    "The entry point of the Spring Boot application:"
   ]
  },
  {
   "cell_type": "code",
   "execution_count": null,
   "id": "67778d9a-a827-4b96-ab77-ed904526988c",
   "metadata": {},
   "outputs": [],
   "source": [
    "package com.example.awsmsk;\n",
    "\n",
    "import org.springframework.boot.SpringApplication;\n",
    "import org.springframework.boot.autoconfigure.SpringBootApplication;\n",
    "\n",
    "@SpringBootApplication\n",
    "public class Application {\n",
    "\n",
    "    public static void main(String[] args) {\n",
    "        SpringApplication.run(Application.class, args);\n",
    "    }\n",
    "}\n"
   ]
  },
  {
   "cell_type": "markdown",
   "id": "5281bdf4-f98f-46d4-adbd-0084264ec3e5",
   "metadata": {},
   "source": [
    "## Summary\n",
    "\n",
    "<ui>Configuration Classes: Separate classes for AWS MSK and AWS CLI configurations.<br>\n",
    "Services: Dedicated services for producing and consuming Kafka messages.<br>\n",
    "Controller: A REST controller to expose Kafka endpoints.<br>\n",
    "Design Patterns: Dependency Injection (DI) for configuration and services.<br>\n",
    "Modular Approach: Each component has a clear responsibility.<br></ui>\n",
    "\n",
    "This setup ensures a clean, modular, and maintainable architecture while leveraging Spring Boot's capabilities and adhering to design principles."
   ]
  },
  {
   "cell_type": "code",
   "execution_count": null,
   "id": "02f0a955-ba11-463c-ab89-848a7bfcad8c",
   "metadata": {},
   "outputs": [],
   "source": []
  }
 ],
 "metadata": {
  "kernelspec": {
   "display_name": "Python 3 (ipykernel)",
   "language": "python",
   "name": "python3"
  },
  "language_info": {
   "codemirror_mode": {
    "name": "ipython",
    "version": 3
   },
   "file_extension": ".py",
   "mimetype": "text/x-python",
   "name": "python",
   "nbconvert_exporter": "python",
   "pygments_lexer": "ipython3",
   "version": "3.11.7"
  }
 },
 "nbformat": 4,
 "nbformat_minor": 5
}
